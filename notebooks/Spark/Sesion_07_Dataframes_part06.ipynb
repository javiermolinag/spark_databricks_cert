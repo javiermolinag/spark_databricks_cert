{
 "cells": [
  {
   "cell_type": "code",
   "execution_count": null,
   "id": "4d23f59a-211f-4a3e-a62a-29d6e1f6f48a",
   "metadata": {},
   "outputs": [],
   "source": [
    "%%HTML <style>pre { white-space: pre !important; }</style>"
   ]
  },
  {
   "cell_type": "code",
   "execution_count": null,
   "id": "6956efa9-7ad7-4446-94c1-e2c207fcf290",
   "metadata": {},
   "outputs": [],
   "source": [
    "import org.apache.spark.sql.{SparkSession, DataFrame}\n",
    "\n",
    "val spark = SparkSession.builder\n",
    "        .appName(\"sesion_1\")\n",
    "        .master(\"local[*]\")\n",
    "        .getOrCreate()\n",
    "val sc = spark.sparkContext"
   ]
  },
  {
   "cell_type": "code",
   "execution_count": null,
   "id": "286853ef-6438-46d1-838e-6742a7d28152",
   "metadata": {},
   "outputs": [],
   "source": [
    "sc.uiWebUrl"
   ]
  },
  {
   "cell_type": "code",
   "execution_count": null,
   "id": "7b206961-7a2a-433f-895e-26834d4cf524",
   "metadata": {},
   "outputs": [],
   "source": [
    "val contractsDf = spark.read\n",
    "        .option(\"header\",\"true\")\n",
    "        .option(\"delimiter\",\",\")\n",
    "        .option(\"inferSchema\",\"true\")\n",
    "        .csv(\"../../resources/data/csv/contracts.csv\")\n",
    "contractsDf.show(2)"
   ]
  },
  {
   "cell_type": "code",
   "execution_count": null,
   "id": "29354b0f-bd13-43b4-bbf5-d0c7317ede4f",
   "metadata": {},
   "outputs": [],
   "source": [
    "import org.apache.spark.sql.{functions => f}"
   ]
  },
  {
   "cell_type": "markdown",
   "id": "c5dce98c-2747-4ad7-8255-cdd632d05275",
   "metadata": {},
   "source": [
    "#### Transformaciones"
   ]
  },
  {
   "cell_type": "code",
   "execution_count": null,
   "id": "27840adb-92a4-4aae-b552-20e055e1770d",
   "metadata": {},
   "outputs": [],
   "source": [
    "// Windows\n",
    "    // Agregacion -> max, min, count, avg, mean, sum, ...\n",
    "    // Ranking -> row_number, rank, dense_rank, ...\n",
    "    // lag lead\n",
    "\n",
    "import org.apache.spark.sql.expressions.Window\n",
    "\n",
    "contractsDf.orderBy(f.col(\"cod_iuc\")).show()\n",
    "\n",
    "val window1 = Window.partitionBy(f.col(\"cod_iuc\"))\n",
    "val window2 = Window.partitionBy(f.col(\"cod_iuc\")).orderBy(f.col(\"fec_alta\").asc)\n",
    "\n",
    "\n",
    "contractsDf.select(\n",
    "    contractsDf.columns.map(f.col) :+\n",
    "    f.count(\"*\").over(window1).alias(\"count_w\") :+\n",
    "    f.max(f.col(\"fec_alta\")).over(window2).alias(\"max_fec_alta_w\") :+\n",
    "    f.sum(f.col(\"cod_producto\")).over(window2).alias(\"sum_cod_producto_w\") :_*\n",
    ").show()"
   ]
  },
  {
   "cell_type": "code",
   "execution_count": null,
   "id": "187b3226-d6ef-418c-83a9-b647246e4477",
   "metadata": {},
   "outputs": [],
   "source": [
    "contractsDf.orderBy(f.col(\"cod_iuc\")).show()\n",
    "\n",
    "val window3 = Window.partitionBy(f.col(\"cod_iuc\")).orderBy(f.col(\"cod_titular\").asc)\n",
    "\n",
    "\n",
    "contractsDf.select(\n",
    "    contractsDf.columns.map(f.col) :+\n",
    "    f.row_number().over(window3).alias(\"row_number\") :+\n",
    "    f.rank().over(window3).alias(\"rank\") :+\n",
    "    f.dense_rank().over(window3).alias(\"dense_rank\") :_*\n",
    ").show(100)"
   ]
  },
  {
   "cell_type": "code",
   "execution_count": null,
   "id": "38958f81-cec5-4aeb-8fb9-0a13a103eb67",
   "metadata": {},
   "outputs": [],
   "source": [
    "contractsDf.orderBy(f.col(\"cod_iuc\")).show()\n",
    "\n",
    "val window4 = Window.partitionBy(f.col(\"cod_iuc\")).orderBy(f.col(\"fec_alta\").desc)\n",
    "\n",
    "\n",
    "contractsDf.select(\n",
    "    contractsDf.columns.map(f.col) :+\n",
    "    f.lag(f.col(\"fec_alta\"), 1, \"1970-01-01\").over(window4).alias(\"lag\") :+\n",
    "    f.lead(f.col(\"fec_alta\"), 1, \"1970-01-01\").over(window4).alias(\"lead\") :_*\n",
    ").show(100)"
   ]
  },
  {
   "cell_type": "code",
   "execution_count": null,
   "id": "15350a33-b0ea-4083-9ff4-367e43c5f523",
   "metadata": {},
   "outputs": [],
   "source": [
    "// na.functions\n",
    "import org.apache.spark.sql.Column\n",
    "\n",
    "val condColumn: (String, Int) => Column = (colName, threshold) => f.when(f.round(f.rand()*10, 0) >= threshold, null).otherwise(f.col(colName))\n",
    "\n",
    "val nullContractsDf = contractsDf\n",
    "    .orderBy(\"cod_iuc\", \"cod_titular\")\n",
    "    .select(\n",
    "        f.col(\"cod_iuc\"), f.col(\"cod_titular\"),\n",
    "        condColumn(\"cod_producto\", 5).alias(\"cod_producto\"),\n",
    "        condColumn(\"fec_alta\", 5).alias(\"fec_alta\"),\n",
    "        condColumn(\"activo\", 5).alias(\"activo\")\n",
    "    )\n",
    "nullContractsDf.show()"
   ]
  },
  {
   "cell_type": "code",
   "execution_count": null,
   "id": "92df7a42-e3bb-42f3-acd6-823046656045",
   "metadata": {},
   "outputs": [],
   "source": [
    "// na.functions\n",
    "    // drop\n",
    "    // fill\n",
    "    // replace\n",
    "nullContractsDf.na\n",
    "    .drop(\n",
    "        \"all\",\n",
    "        Seq(\"cod_producto\", \"fec_alta\", \"activo\")\n",
    "         )\n",
    "    .orderBy(\"cod_iuc\", \"cod_titular\")\n",
    "    .show()"
   ]
  },
  {
   "cell_type": "code",
   "execution_count": null,
   "id": "41d6a9b0-af9b-4118-a519-bef4ede358c5",
   "metadata": {},
   "outputs": [],
   "source": [
    "nullContractsDf.na\n",
    "    .fill(\n",
    "        Map(\"cod_producto\"-> 10000.0, \"activo\"-> true, \"fec_alta\" -> \"1970-01-01\")\n",
    "        )\n",
    "    .orderBy(\"cod_iuc\", \"cod_titular\")\n",
    "    .show()"
   ]
  },
  {
   "cell_type": "code",
   "execution_count": null,
   "id": "c3c994e5-b94f-4873-8280-0b07fc0aa8dd",
   "metadata": {},
   "outputs": [],
   "source": [
    "nullContractsDf.na\n",
    "    .replace(\n",
    "        Seq(\"cod_producto\", \"activo\"),\n",
    "        Map(100 -> 10000, 150 -> 15000)\n",
    "        )\n",
    "    .orderBy(\"cod_iuc\", \"cod_titular\")\n",
    "    .show()"
   ]
  },
  {
   "cell_type": "code",
   "execution_count": null,
   "id": "22662b5c-5069-4913-a5fa-7d3da7964fdf",
   "metadata": {},
   "outputs": [],
   "source": [
    "// sample\n",
    "println(contractsDf.count())\n",
    "contractsDf.sample(true, 0.5, 0).orderBy(f.col(\"cod_iuc\")).show()"
   ]
  },
  {
   "cell_type": "code",
   "execution_count": null,
   "id": "1f4daa07-53dc-4908-ae9a-46d0bfce7d33",
   "metadata": {},
   "outputs": [],
   "source": [
    "// except / exceptAll\n",
    "contractsDf.union(contractsDf).exceptAll(contractsDf.filter(f.col(\"activo\") === true).union(contractsDf.filter(f.col(\"activo\") === true))).show(100)"
   ]
  },
  {
   "cell_type": "code",
   "execution_count": null,
   "id": "b32eb7a5-da81-406f-8fa8-e8fbfde43ee6",
   "metadata": {},
   "outputs": [],
   "source": []
  }
 ],
 "metadata": {
  "kernelspec": {
   "display_name": "Apache Toree - Scala",
   "language": "scala",
   "name": "apache_toree_scala"
  },
  "language_info": {
   "codemirror_mode": "text/x-scala",
   "file_extension": ".scala",
   "mimetype": "text/x-scala",
   "name": "scala",
   "pygments_lexer": "scala",
   "version": "2.12.15"
  }
 },
 "nbformat": 4,
 "nbformat_minor": 5
}
