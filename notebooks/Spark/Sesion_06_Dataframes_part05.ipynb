{
 "cells": [
  {
   "cell_type": "code",
   "execution_count": null,
   "id": "4d23f59a-211f-4a3e-a62a-29d6e1f6f48a",
   "metadata": {},
   "outputs": [],
   "source": [
    "%%HTML <style>pre { white-space: pre !important; }</style>"
   ]
  },
  {
   "cell_type": "code",
   "execution_count": null,
   "id": "6956efa9-7ad7-4446-94c1-e2c207fcf290",
   "metadata": {},
   "outputs": [],
   "source": [
    "import org.apache.spark.sql.{SparkSession, DataFrame}\n",
    "\n",
    "val spark = SparkSession.builder\n",
    "        .appName(\"sesion_1\")\n",
    "        .master(\"local[*]\")\n",
    "        .getOrCreate()\n",
    "val sc = spark.sparkContext"
   ]
  },
  {
   "cell_type": "code",
   "execution_count": null,
   "id": "286853ef-6438-46d1-838e-6742a7d28152",
   "metadata": {},
   "outputs": [],
   "source": [
    "sc.uiWebUrl"
   ]
  },
  {
   "cell_type": "code",
   "execution_count": null,
   "id": "7b206961-7a2a-433f-895e-26834d4cf524",
   "metadata": {},
   "outputs": [],
   "source": [
    "val clientsDf = spark.read\n",
    "        .option(\"header\",\"true\")\n",
    "        .option(\"delimiter\",\",\")\n",
    "        .option(\"inferSchema\",\"true\")\n",
    "        .csv(\"../../resources/data/csv/clients.csv\")\n",
    "val contractsDf = spark.read\n",
    "        .option(\"header\",\"true\")\n",
    "        .option(\"delimiter\",\",\")\n",
    "        .option(\"inferSchema\",\"true\")\n",
    "        .csv(\"../../resources/data/csv/contracts.csv\")\n",
    "\n",
    "clientsDf.show(2)\n",
    "contractsDf.show(2)"
   ]
  },
  {
   "cell_type": "markdown",
   "id": "c5dce98c-2747-4ad7-8255-cdd632d05275",
   "metadata": {},
   "source": [
    "#### Transformaciones"
   ]
  },
  {
   "cell_type": "code",
   "execution_count": null,
   "id": "e7305768-af30-40e4-bf19-3df8a2f55685",
   "metadata": {},
   "outputs": [],
   "source": [
    "/*\n",
    "Joins\n",
    "\n",
    "inner -> Mantiene información de ambas tablas (columnas) para los registros (filas) coincidentes\n",
    "outer -> Mantiene información de ambas tablas (columnas y filas) para los registros coincidentes y no-coincidentes\n",
    "left -> Mantiene columnas de ambas tablas y filas únicamente de la tabla izquierda, elimina filas no coincidentes de la tabla derecha\n",
    "right -> Mantiene columnas de ambas tablas y filas únicamente de la tabla derecha, elimina filas no coincidentes de la tabla izquierda\n",
    "left_semi -> Mantiene filas y columnas únicamente de la tabla izquierda para los registros coincidentes\n",
    "left_anti -> Mantiene filas y columnas únicamente de la tabla izquierda para los registros no-coincidentes\n",
    "\n",
    "cross\n",
    "*/"
   ]
  },
  {
   "cell_type": "code",
   "execution_count": null,
   "id": "c18cb50e-4d3d-4bf0-8687-4b2db989b04d",
   "metadata": {},
   "outputs": [],
   "source": [
    "import org.apache.spark.sql.{functions => f}\n",
    "\n",
    "val clientsTmpDf = clientsDf.filter((f.col(\"edad\") >= 40) && (f.col(\"edad\") <= 50))\n",
    "val contractsTmpDf = contractsDf.filter(f.col(\"activo\") === false)\n",
    "    .withColumnRenamed(\"cod_titular\", \"cod_client\")\n",
    "\n",
    "clientsTmpDf.show()\n",
    "contractsTmpDf.show()\n",
    "\n",
    "val typeJoin = \"full\"   // inner, outer, left, right, left_semi, left_anti\n",
    "\n",
    "val joinDf = clientsTmpDf.join(contractsTmpDf, Seq(\"cod_client\"), typeJoin)\n",
    "joinDf.show()"
   ]
  },
  {
   "cell_type": "code",
   "execution_count": null,
   "id": "82a557c4-eae2-4bc2-afcd-84ea6f81c9e0",
   "metadata": {},
   "outputs": [],
   "source": [
    "clientsTmpDf.crossJoin(contractsTmpDf).show() // WARNING"
   ]
  },
  {
   "cell_type": "code",
   "execution_count": null,
   "id": "ef07b867-7123-4a82-ae1f-635782dd5cc0",
   "metadata": {},
   "outputs": [],
   "source": [
    "// UDF - User Defined Function - WARNING\n",
    "import org.apache.spark.sql.{types => t}\n",
    "import scala.util.Try\n",
    "\n",
    "val upperCaseFunction: Option[String] => String = value => value.getOrElse(\"\").toUpperCase\n",
    "val upperCaseFunction2: String => Option[String] = value => Try(value.toString.toUpperCase).toOption\n",
    "\n",
    "\n",
    "\n",
    "val len_concat: (Option[String], Option[String]) => Int = (item_1, item_2) => {\n",
    "    val EmptyString = \"\"\n",
    "    val str1 = item_1.getOrElse(EmptyString)\n",
    "    val str2 = item_2.getOrElse(EmptyString)\n",
    "    \n",
    "    str1.concat(str2).size\n",
    "}\n",
    "val len_concat2: (String, String) => Option[Int] = (item_1, item_2) => {\n",
    "    Try(item_1.concat(item_2).size).toOption\n",
    "}\n",
    "\n",
    "\n",
    "\n",
    "def sumValues: (Option[Int], Option[Int]) => Long = (value_1, value_2) => {\n",
    "    value_1.getOrElse(0) + value_2.getOrElse(0)\n",
    "}\n",
    "def sumValues2: (Int, Int) => Long = (value_1, value_2) => {\n",
    "    value_1 + value_2\n",
    "}\n",
    "\n",
    "\n",
    "\n",
    "val upperUdf = f.udf[String, Option[String]](upperCaseFunction)\n",
    "\n",
    "val lenConcatUdf = f.udf(len_concat2)\n",
    "\n",
    "val sumValuesUdf = f.udf[Long, Option[Int], Option[Int]](sumValues)\n",
    "\n",
    "joinDf.select(\n",
    "    joinDf.columns.map(f.col) :+\n",
    "    upperUdf(f.col(\"nombre\")).alias(\"nombre_mayus\") :+\n",
    "    sumValuesUdf(f.col(\"edad\"), f.col(\"cod_producto\")).alias(\"sum_values\") :+\n",
    "    lenConcatUdf(f.col(\"nombre\"), f.col(\"provincia\")).alias(\"len_concat\") :_*\n",
    ").show()"
   ]
  },
  {
   "cell_type": "code",
   "execution_count": null,
   "id": "81516afb-20d1-44af-94b4-49aca11df0c4",
   "metadata": {},
   "outputs": [],
   "source": [
    "joinDf.createOrReplaceTempView(\"view\")\n",
    "\n",
    "spark.udf.register[Option[Int], String, String](\"MY_UDF_NAME\", len_concat2)\n",
    "\n",
    "spark.sql(\"\"\"\n",
    "    SELECT MY_UDF_NAME(nombre, provincia), nombre, provincia FROM view\n",
    "\"\"\").show()"
   ]
  },
  {
   "cell_type": "code",
   "execution_count": null,
   "id": "27840adb-92a4-4aae-b552-20e055e1770d",
   "metadata": {},
   "outputs": [],
   "source": []
  }
 ],
 "metadata": {
  "kernelspec": {
   "display_name": "Apache Toree - Scala",
   "language": "scala",
   "name": "apache_toree_scala"
  },
  "language_info": {
   "codemirror_mode": "text/x-scala",
   "file_extension": ".scala",
   "mimetype": "text/x-scala",
   "name": "scala",
   "pygments_lexer": "scala",
   "version": "2.12.15"
  }
 },
 "nbformat": 4,
 "nbformat_minor": 5
}
