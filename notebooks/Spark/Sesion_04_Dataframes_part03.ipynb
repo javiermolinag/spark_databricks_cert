{
 "cells": [
  {
   "cell_type": "code",
   "execution_count": null,
   "id": "43770df0-6ba9-477f-9438-d27658409647",
   "metadata": {},
   "outputs": [],
   "source": [
    "import org.apache.spark.sql.{SparkSession, DataFrame}\n",
    "\n",
    "val spark = SparkSession.builder\n",
    "        .appName(\"sesion_1\")\n",
    "        .master(\"local[*]\")\n",
    "        .getOrCreate()\n",
    "val sc = spark.sparkContext"
   ]
  },
  {
   "cell_type": "code",
   "execution_count": null,
   "id": "0aac3bad-eb25-48e2-a7b5-267beed66a8e",
   "metadata": {},
   "outputs": [],
   "source": [
    "sc.uiWebUrl"
   ]
  },
  {
   "cell_type": "code",
   "execution_count": null,
   "id": "13b0fa8b-cf0f-475a-9b96-a735aba71861",
   "metadata": {},
   "outputs": [],
   "source": [
    "def readCsv(path: String): DataFrame = {\n",
    "    spark.read\n",
    "        .option(\"header\",\"true\")\n",
    "        .option(\"delimiter\",\",\")\n",
    "        .option(\"inferSchema\",\"false\")\n",
    "        .csv(path)\n",
    "    }\n",
    "\n",
    "val BasePath = \"../../resources/data/csv/\"\n",
    "val contractsDf = readCsv(BasePath + \"contracts.csv\")\n",
    "\n",
    "contractsDf.show(2)"
   ]
  },
  {
   "cell_type": "markdown",
   "id": "eafe8e84-b837-482d-8bcd-8b5f6a5cbb0b",
   "metadata": {},
   "source": [
    "#### Transformaciones\n"
   ]
  },
  {
   "cell_type": "code",
   "execution_count": null,
   "id": "149c16c0-6a16-442e-af51-9ddd3a0f7d51",
   "metadata": {},
   "outputs": [],
   "source": [
    "%%HTML <style>pre { white-space: pre !important; }</style>"
   ]
  },
  {
   "cell_type": "code",
   "execution_count": null,
   "id": "0760c8c9-cad3-432e-b3f7-837d8b2e2aa8",
   "metadata": {},
   "outputs": [],
   "source": [
    "import org.apache.spark.sql.{functions => f}\n",
    "import org.apache.spark.sql.{types => t}\n",
    "import org.apache.spark.sql.Column\n",
    "\n",
    "// Select\n",
    "\n",
    "def difference(l1: Seq[String], l2: Seq[String]): Seq[Column] =\n",
    "    l1.diff(l2).map(colName => f.col(colName))\n",
    "//difference(contractsDf.columns, Seq(\"fec_alta\", \"activo\")),\n",
    "\n",
    "\n",
    "// castear con string\n",
    "val resultedDf = contractsDf\n",
    "    .select(\n",
    "        f.col(\"cod_iuc\"), f.col(\"cod_producto\"), f.col(\"cod_titular\"), \n",
    "        f.col(\"activo\").cast(t.BooleanType),\n",
    "        f.col(\"fec_alta\").alias(\"fec_alta_ini\").cast(t.DateType),\n",
    "        f.current_date().alias(\"actual_date\"),\n",
    "        f.round(f.rand(0) * f.lit(10)).cast(t.IntegerType).alias(\"randm_num\"),\n",
    "        f.date_add(f.col(\"fec_alta_ini\"), f.col(\"randm_num\")).alias(\"fec_alta_fin\"),\n",
    "        f.datediff(f.col(\"fec_alta_fin\"), f.col(\"fec_alta_ini\")).alias(\"diff\"),\n",
    "        f.current_timestamp().alias(\"actual_timestamp\"),\n",
    "        f.current_timestamp().cast(t.LongType).alias(\"actual_unix_timestamp\"),\n",
    "        f.from_unixtime(f.unix_timestamp(), \"EEEE, MMM d yyyy\").alias(\"from_unixtime\"),\n",
    "        f.lit(0).cast(t.TimestampType).alias(\"first_timestamp\")\n",
    "        )\n",
    "\n",
    "val resultedDf2 = resultedDf\n",
    "    .select(\n",
    "        resultedDf.columns.map(f.col) :+\n",
    "        f.split(f.col(\"actual_timestamp\"), \" \").getItem(0).alias(\"date\") :+\n",
    "        f.split(f.col(\"actual_timestamp\"), \" \").getItem(1).alias(\"time\") :+\n",
    "        f.explode(f.array(f.lit(1), f.lit(2), f.lit(3))).alias(\"explode\") :+\n",
    "        f.regexp_replace(f.col(\"cod_iuc\"), \"[1-9]$\", \"A\").alias(\"replace\") :_*\n",
    "        )\n",
    "    .drop(\"randm_num\")\n",
    "\n",
    "resultedDf2.show(20, false)\n",
    "resultedDf2.printSchema()"
   ]
  },
  {
   "cell_type": "code",
   "execution_count": null,
   "id": "d4a8754e-8ee1-401b-b2d7-00063e6a09db",
   "metadata": {},
   "outputs": [],
   "source": [
    "// select- when\n",
    "\n",
    "val cond_1 = f.col(\"cod_producto\") <= 300 // baja\n",
    "val cond_2 = f.col(\"cod_producto\") <= 600 // media\n",
    "val cond_3 = f.col(\"cod_producto\") <= 1000 // alta\n",
    "\n",
    "val selectWhenDf = resultedDf2\n",
    "    .select(\n",
    "        difference(resultedDf2.columns, Seq(\"activo\")) :+\n",
    "        f.when(cond_1, f.lit(\"baja\"))\n",
    "            .when(cond_2, f.lit(\"media\"))\n",
    "            .when(cond_3, f.lit(\"alta\"))\n",
    "            .otherwise(f.lit(\"muy alta\")).alias(\"calidad\") :+\n",
    "        f.when((f.col(\"activo\") === f.lit(true)) && (f.col(\"calidad\").isin(\"alta\", \"muy alta\")), f.lit(\"ok\")).alias(\"prioridad_alta\") :+\n",
    "        f.when(f.col(\"activo\") === true, f.lit(true)).alias(\"activo\") :_*\n",
    "    )\n",
    "\n",
    "selectWhenDf.show()"
   ]
  },
  {
   "cell_type": "code",
   "execution_count": null,
   "id": "c41ac942-58bc-4b82-90a6-0506349588a2",
   "metadata": {},
   "outputs": [],
   "source": [
    "// where / filter\n",
    "selectWhenDf\n",
    "    .filter(f.col(\"activo\").isNotNull)\n",
    "    .filter(!f.col(\"cod_producto\").isin(\"100\", \"200\", \"150\", \"300\"))\n",
    "    .where(f.col(\"fec_alta_ini\").between(\"2014-02-01\", \"2018-10-01\"))\n",
    "    .where((f.col(\"calidad\") === \"media\") || (f.col(\"cod_titular\").isin(\"00006\", \"00001\")))\n",
    "    .filter(f.col(\"cod_titular\").rlike(\"0000[1|5]\"))\n",
    "    .withColumn(\"prioridad_alta_2\", f.col(\"prioridad_alta\"))\n",
    "    .filter(f.col(\"prioridad_alta\").eqNullSafe(f.col(\"prioridad_alta_2\")))\n",
    "    .show()"
   ]
  },
  {
   "cell_type": "code",
   "execution_count": null,
   "id": "7a5561ac-6fef-4c93-92dc-507334cdd822",
   "metadata": {},
   "outputs": [],
   "source": []
  }
 ],
 "metadata": {
  "kernelspec": {
   "display_name": "Apache Toree - Scala",
   "language": "scala",
   "name": "apache_toree_scala"
  },
  "language_info": {
   "codemirror_mode": "text/x-scala",
   "file_extension": ".scala",
   "mimetype": "text/x-scala",
   "name": "scala",
   "pygments_lexer": "scala",
   "version": "2.12.15"
  }
 },
 "nbformat": 4,
 "nbformat_minor": 5
}
