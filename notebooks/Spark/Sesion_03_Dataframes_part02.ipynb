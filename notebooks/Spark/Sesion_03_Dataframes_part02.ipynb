{
 "cells": [
  {
   "cell_type": "code",
   "execution_count": null,
   "id": "5ef5556d-6dd3-4ee1-b73b-b3a035cc6374",
   "metadata": {},
   "outputs": [],
   "source": [
    "import org.apache.spark.sql.SparkSession\n",
    "\n",
    "val spark = SparkSession.builder().appName(\"sesion_1\").master(\"local[*]\").getOrCreate()\n",
    "val sc = spark.sparkContext"
   ]
  },
  {
   "cell_type": "code",
   "execution_count": null,
   "id": "c34412e5-7b29-4802-982c-1ce466e2fd26",
   "metadata": {},
   "outputs": [],
   "source": [
    "sc.uiWebUrl"
   ]
  },
  {
   "cell_type": "code",
   "execution_count": null,
   "id": "3aa82da1-aca1-4f87-b9ab-55d221b93fd9",
   "metadata": {},
   "outputs": [],
   "source": [
    "val contractsDf  = spark.read.option(\"header\",\"true\")\n",
    "        .option(\"delimiter\",\",\")\n",
    "        .option(\"inferSchema\",\"true\")\n",
    "        .csv(\"../../resources/data/csv/contracts.csv\")"
   ]
  },
  {
   "cell_type": "code",
   "execution_count": null,
   "id": "d756e338-af61-4826-8c5c-d49d6cd9142f",
   "metadata": {},
   "outputs": [],
   "source": [
    "contractsDf.show(2)"
   ]
  },
  {
   "cell_type": "code",
   "execution_count": null,
   "id": "f53af712-281d-41fd-9e54-e40becdc2899",
   "metadata": {},
   "outputs": [],
   "source": [
    "contractsDf.printSchema()"
   ]
  },
  {
   "cell_type": "markdown",
   "id": "45bc5992-93e6-48e0-a7e3-d8cb916f0d89",
   "metadata": {},
   "source": [
    "#### - Clase Column\n",
    "#### - Package Types\n",
    "#### - Object functions\n",
    "#### - Clase Dataframe"
   ]
  },
  {
   "cell_type": "markdown",
   "id": "14271256-3444-44f7-8a0e-667a88a7ae58",
   "metadata": {},
   "source": [
    "### Transformaciones"
   ]
  },
  {
   "cell_type": "code",
   "execution_count": null,
   "id": "2428f654-8fe8-4275-ae1e-497bef4730b4",
   "metadata": {},
   "outputs": [],
   "source": [
    "import org.apache.spark.sql.{functions => f}\n",
    "import org.apache.spark.sql.{types => t}\n",
    "\n",
    "val resultedDf = contractsDf\n",
    "    .withColumnRenamed(\"fec_alta\", \"fec_alta_ini\")\n",
    "    .withColumn(\"actual_date\", f.current_date())\n",
    "    .withColumn(\"randm_num\", f.round(f.rand(0) * f.lit(10)).cast(t.IntegerType))\n",
    "    .withColumn(\"fec_alta_fin\", f.date_add(f.col(\"fec_alta_ini\"), f.col(\"randm_num\")))\n",
    "    .withColumn(\"diff\", f.datediff(f.col(\"fec_alta_fin\"), f.col(\"fec_alta_ini\")))\n",
    "    .drop(\"randm_num\")"
   ]
  },
  {
   "cell_type": "markdown",
   "id": "9d24ce36-b4a1-4631-bd97-fb6bff7f1ceb",
   "metadata": {},
   "source": [
    "### Acciones"
   ]
  },
  {
   "cell_type": "code",
   "execution_count": null,
   "id": "9f26704f-8360-4f53-8e25-78c15a871ebf",
   "metadata": {},
   "outputs": [],
   "source": [
    "resultedDf.show(2, false)"
   ]
  },
  {
   "cell_type": "code",
   "execution_count": null,
   "id": "35a1a804-85e0-4197-8a22-da504aaf3814",
   "metadata": {},
   "outputs": [],
   "source": [
    "resultedDf.count()"
   ]
  },
  {
   "cell_type": "code",
   "execution_count": null,
   "id": "d00947a3-c2d8-4e0a-a52c-e25ed99842a1",
   "metadata": {
    "scrolled": true
   },
   "outputs": [],
   "source": [
    "resultedDf.collect() // WARNING"
   ]
  },
  {
   "cell_type": "code",
   "execution_count": null,
   "id": "cb8bb464-8bb9-40ac-a92f-55a03fbcb539",
   "metadata": {},
   "outputs": [],
   "source": [
    "resultedDf.isEmpty"
   ]
  },
  {
   "cell_type": "code",
   "execution_count": null,
   "id": "52c841b1-8727-4f6e-9cb0-e9427291f047",
   "metadata": {},
   "outputs": [],
   "source": [
    "//first() -> primer elemento del df -> head()\n",
    "//head(n) -> primer N-elementos del df -> take(n)\n",
    "//take -> primer N-elementos del df -> limit().collect()\n",
    "\n",
    "resultedDf.take(4)"
   ]
  },
  {
   "cell_type": "code",
   "execution_count": null,
   "id": "766faf92-7ab8-4178-abc6-ee64e043e7ff",
   "metadata": {},
   "outputs": [],
   "source": [
    "resultedDf.tail(4)"
   ]
  },
  {
   "cell_type": "code",
   "execution_count": null,
   "id": "966364aa-c79a-4851-8af6-83fdb7cb3f19",
   "metadata": {},
   "outputs": [],
   "source": [
    "resultedDf.describe(\"cod_iuc\",\"cod_titular\").show()"
   ]
  },
  {
   "cell_type": "code",
   "execution_count": null,
   "id": "b2f7cf17-b161-46f0-bd43-5df56430f81e",
   "metadata": {},
   "outputs": [],
   "source": [
    "resultedDf.summary(\"count\", \"stddev\").show()"
   ]
  },
  {
   "cell_type": "markdown",
   "id": "23e924e8-7bad-457e-bf7a-80195331d5f9",
   "metadata": {},
   "source": [
    "### Functions"
   ]
  },
  {
   "cell_type": "code",
   "execution_count": null,
   "id": "9f1d4ff1-2125-4597-a4ba-558129f12c28",
   "metadata": {},
   "outputs": [],
   "source": [
    "resultedDf.columns"
   ]
  },
  {
   "cell_type": "code",
   "execution_count": null,
   "id": "7f6aaa7d-97f2-4989-a90f-1221d7f0092e",
   "metadata": {},
   "outputs": [],
   "source": [
    "import org.apache.spark.sql.types._\n",
    "import org.apache.spark.sql.Row\n",
    "\n",
    "val schema_nest = StructType( Array(\n",
    "    StructField(\"alumno\",StructType( Array(\n",
    "      StructField(\"nombre\", StringType,true),\n",
    "      StructField(\"apellido_p\", StringType,true),\n",
    "      StructField(\"apellido_m\", StringType,true)\n",
    "    ))),\n",
    "    StructField(\"calificaciones\", StructType( Array(\n",
    "        StructField(\"matematicas\",StructType( Array(\n",
    "            StructField(\"periodo_1\", IntegerType,true),\n",
    "            StructField(\"periodo_2\", IntegerType,true),\n",
    "            StructField(\"periodo_3\", IntegerType,true)\n",
    "        ))),\n",
    "        StructField(\"espanol\",StructType( Array(\n",
    "            StructField(\"periodo_1\", IntegerType,true),\n",
    "            StructField(\"periodo_2\", IntegerType,true),\n",
    "            StructField(\"periodo_3\", IntegerType,true)\n",
    "        ))),\n",
    "    )))\n",
    "  ))\n",
    "\n",
    "//Create DataFrame\n",
    "val data = List(\n",
    "    Row(Row(\"Pedro\",\"Jimenez\",\"Perez\"), Row(Row(10, 9, 8), Row(8, 9, 10))),\n",
    "    Row(Row(\"Juan\",\"Hernandez\",\"Perez\"), Row(Row(10, 10, 8), Row(9, 9, 10)))\n",
    "    )\n",
    "val df = spark.createDataFrame(\n",
    "    spark.sparkContext.parallelize(data),schema_nest)\n",
    "df.show(2, false)\n",
    "df.printSchema()"
   ]
  },
  {
   "cell_type": "code",
   "execution_count": null,
   "id": "53dc2b11-5ba9-40d1-a01a-369f1351acfb",
   "metadata": {},
   "outputs": [],
   "source": [
    "df.printSchema(3)"
   ]
  },
  {
   "cell_type": "code",
   "execution_count": null,
   "id": "7a2533b5-57a3-4bf5-8849-85d1d225cde8",
   "metadata": {},
   "outputs": [],
   "source": [
    "resultedDf.schema"
   ]
  },
  {
   "cell_type": "code",
   "execution_count": null,
   "id": "a00528c1-94c2-426d-b93a-5e468760af28",
   "metadata": {},
   "outputs": [],
   "source": [
    "resultedDf.dtypes"
   ]
  },
  {
   "cell_type": "code",
   "execution_count": null,
   "id": "a23905d2-10d0-4701-91f7-cb2eb314a7eb",
   "metadata": {
    "scrolled": true
   },
   "outputs": [],
   "source": [
    "resultedDf.rdd.collect().foreach(println)"
   ]
  },
  {
   "cell_type": "code",
   "execution_count": null,
   "id": "ed78b94b-c226-45e5-a790-3f0da5683ca3",
   "metadata": {
    "scrolled": true
   },
   "outputs": [],
   "source": [
    "resultedDf.explain(\"formatted\")"
   ]
  },
  {
   "cell_type": "code",
   "execution_count": null,
   "id": "e529728d-3d3a-4e7b-9873-143daadf3562",
   "metadata": {},
   "outputs": [],
   "source": []
  }
 ],
 "metadata": {
  "kernelspec": {
   "display_name": "Apache Toree - Scala",
   "language": "scala",
   "name": "apache_toree_scala"
  },
  "language_info": {
   "codemirror_mode": "text/x-scala",
   "file_extension": ".scala",
   "mimetype": "text/x-scala",
   "name": "scala",
   "pygments_lexer": "scala",
   "version": "2.12.15"
  }
 },
 "nbformat": 4,
 "nbformat_minor": 5
}
