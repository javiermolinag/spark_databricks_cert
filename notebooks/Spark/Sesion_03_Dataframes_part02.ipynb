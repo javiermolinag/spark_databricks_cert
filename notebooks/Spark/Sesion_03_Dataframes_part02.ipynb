{
 "cells": [
  {
   "cell_type": "code",
   "execution_count": 1,
   "id": "5ef5556d-6dd3-4ee1-b73b-b3a035cc6374",
   "metadata": {},
   "outputs": [
    {
     "data": {
      "text/plain": [
       "sc = org.apache.spark.SparkContext@2aedbf9d\n"
      ]
     },
     "metadata": {},
     "output_type": "display_data",
     "source": "user"
    },
    {
     "data": {
      "text/plain": [
       "spark: org.apache.spark.sql.SparkSession = org.apache.spark.sql.SparkSession@27825b45\r\n"
      ]
     },
     "metadata": {},
     "output_type": "display_data",
     "source": "user"
    },
    {
     "data": {
      "text/plain": [
       "org.apache.spark.SparkContext@2aedbf9d"
      ]
     },
     "execution_count": 1,
     "metadata": {},
     "output_type": "execute_result"
    }
   ],
   "source": [
    "import org.apache.spark.sql.SparkSession\n",
    "\n",
    "val spark = SparkSession.builder().appName(\"sesion_1\").master(\"local[*]\").getOrCreate()\n",
    "val sc = spark.sparkContext"
   ]
  },
  {
   "cell_type": "code",
   "execution_count": 2,
   "id": "c34412e5-7b29-4802-982c-1ce466e2fd26",
   "metadata": {},
   "outputs": [
    {
     "data": {
      "text/plain": [
       "Some(http://23LAP5CD0176GH7:4041)"
      ]
     },
     "execution_count": 2,
     "metadata": {},
     "output_type": "execute_result"
    }
   ],
   "source": [
    "sc.uiWebUrl"
   ]
  },
  {
   "cell_type": "code",
   "execution_count": 3,
   "id": "3aa82da1-aca1-4f87-b9ab-55d221b93fd9",
   "metadata": {},
   "outputs": [
    {
     "data": {
      "text/plain": [
       "contractsDf = [cod_iuc: int, cod_titular: int ... 3 more fields]\n"
      ]
     },
     "metadata": {},
     "output_type": "display_data",
     "source": "user"
    },
    {
     "data": {
      "text/plain": [
       "[cod_iuc: int, cod_titular: int ... 3 more fields]"
      ]
     },
     "execution_count": 3,
     "metadata": {},
     "output_type": "execute_result"
    }
   ],
   "source": [
    "val contractsDf  = spark.read.option(\"header\",\"true\")\n",
    "        .option(\"delimiter\",\",\")\n",
    "        .option(\"inferSchema\",\"true\")\n",
    "        .csv(\"../../resources/data/csv/contracts.csv\")"
   ]
  },
  {
   "cell_type": "code",
   "execution_count": 4,
   "id": "d756e338-af61-4826-8c5c-d49d6cd9142f",
   "metadata": {},
   "outputs": [
    {
     "name": "stdout",
     "output_type": "stream",
     "text": [
      "+-------+-----------+------------+----------+------+\n",
      "|cod_iuc|cod_titular|cod_producto|  fec_alta|activo|\n",
      "+-------+-----------+------------+----------+------+\n",
      "|  30000|          6|         100|2012-05-01|  true|\n",
      "|  30001|          6|         200|2014-05-01|  true|\n",
      "+-------+-----------+------------+----------+------+\n",
      "only showing top 2 rows\n",
      "\n"
     ]
    }
   ],
   "source": [
    "contractsDf.show(2)"
   ]
  },
  {
   "cell_type": "code",
   "execution_count": 5,
   "id": "f53af712-281d-41fd-9e54-e40becdc2899",
   "metadata": {},
   "outputs": [
    {
     "name": "stdout",
     "output_type": "stream",
     "text": [
      "root\n",
      " |-- cod_iuc: integer (nullable = true)\n",
      " |-- cod_titular: integer (nullable = true)\n",
      " |-- cod_producto: integer (nullable = true)\n",
      " |-- fec_alta: date (nullable = true)\n",
      " |-- activo: boolean (nullable = true)\n",
      "\n"
     ]
    }
   ],
   "source": [
    "contractsDf.printSchema()"
   ]
  },
  {
   "cell_type": "markdown",
   "id": "45bc5992-93e6-48e0-a7e3-d8cb916f0d89",
   "metadata": {},
   "source": [
    "#### - Clase Column\n",
    "#### - Package Types\n",
    "#### - Object functions\n",
    "#### - Clase Dataframe"
   ]
  },
  {
   "cell_type": "markdown",
   "id": "14271256-3444-44f7-8a0e-667a88a7ae58",
   "metadata": {},
   "source": [
    "### Transformaciones"
   ]
  },
  {
   "cell_type": "code",
   "execution_count": 22,
   "id": "2428f654-8fe8-4275-ae1e-497bef4730b4",
   "metadata": {},
   "outputs": [
    {
     "data": {
      "text/plain": [
       "resultedDf = [cod_iuc: int, cod_titular: int ... 6 more fields]\n"
      ]
     },
     "metadata": {},
     "output_type": "display_data",
     "source": "user"
    },
    {
     "data": {
      "text/plain": [
       "import org.apache.spark.sql.{functions=>f}\r\n",
       "import org.apache.spark.sql.{types=>t}\r\n"
      ]
     },
     "metadata": {},
     "output_type": "display_data",
     "source": "user"
    },
    {
     "data": {
      "text/plain": [
       "[cod_iuc: int, cod_titular: int ... 6 more fields]"
      ]
     },
     "execution_count": 22,
     "metadata": {},
     "output_type": "execute_result"
    }
   ],
   "source": [
    "import org.apache.spark.sql.{functions => f}\n",
    "import org.apache.spark.sql.{types => t}\n",
    "\n",
    "val resultedDf = contractsDf\n",
    "    .withColumnRenamed(\"fec_alta\", \"fec_alta_ini\")\n",
    "    .withColumn(\"actual_date\", f.current_date())\n",
    "    .withColumn(\"randm_num\", f.round(f.rand(0) * f.lit(10)).cast(t.IntegerType))\n",
    "    .withColumn(\"fec_alta_fin\", f.date_add(f.col(\"fec_alta_ini\"), f.col(\"randm_num\")))\n",
    "    .withColumn(\"diff\", f.datediff(f.col(\"fec_alta_fin\"), f.col(\"fec_alta_ini\")))\n",
    "    .drop(\"randm_num\")"
   ]
  },
  {
   "cell_type": "markdown",
   "id": "9d24ce36-b4a1-4631-bd97-fb6bff7f1ceb",
   "metadata": {},
   "source": [
    "### Acciones"
   ]
  },
  {
   "cell_type": "code",
   "execution_count": 7,
   "id": "9f26704f-8360-4f53-8e25-78c15a871ebf",
   "metadata": {},
   "outputs": [
    {
     "name": "stdout",
     "output_type": "stream",
     "text": [
      "+-------+-----------+------------+------------+------+-----------+------------+----+\n",
      "|cod_iuc|cod_titular|cod_producto|fec_alta_ini|activo|actual_date|fec_alta_fin|diff|\n",
      "+-------+-----------+------------+------------+------+-----------+------------+----+\n",
      "|  30000|          6|         100|  2012-05-01|  true| 2024-01-16|  2012-05-09|   8|\n",
      "|  30001|          6|         200|  2014-05-01|  true| 2024-01-16|  2014-05-06|   5|\n",
      "+-------+-----------+------------+------------+------+-----------+------------+----+\n",
      "only showing top 2 rows\n",
      "\n"
     ]
    }
   ],
   "source": [
    "resultedDf.show(2, false)"
   ]
  },
  {
   "cell_type": "code",
   "execution_count": 8,
   "id": "35a1a804-85e0-4197-8a22-da504aaf3814",
   "metadata": {},
   "outputs": [
    {
     "data": {
      "text/plain": [
       "32"
      ]
     },
     "execution_count": 8,
     "metadata": {},
     "output_type": "execute_result"
    }
   ],
   "source": [
    "resultedDf.count()"
   ]
  },
  {
   "cell_type": "code",
   "execution_count": 9,
   "id": "d00947a3-c2d8-4e0a-a52c-e25ed99842a1",
   "metadata": {
    "scrolled": true
   },
   "outputs": [
    {
     "data": {
      "text/plain": [
       "Array([30000,6,100,2012-05-01,true,2024-01-16,2012-05-09,8], [30001,6,200,2014-05-01,true,2024-01-16,2014-05-06,5], [30002,6,300,2006-02-01,false,2024-01-16,2006-02-02,1], [30003,6,150,2012-05-01,true,2024-01-16,2012-05-04,3], [30002,5,300,2012-05-01,true,2024-01-16,2012-05-08,7], [30004,6,400,2012-05-01,false,2024-01-16,2012-05-04,3], [30005,6,500,2012-05-01,true,2024-01-16,2012-05-03,2], [30006,6,600,2012-05-01,false,2024-01-16,2012-05-07,6], [30003,3,150,2019-10-14,true,2024-01-16,2019-10-21,7], [30007,6,700,2014-02-01,false,2024-01-16,2014-02-01,0], [30008,6,800,2012-05-01,true,2024-01-16,2012-05-03,2], [30009,6,900,2015-09-01,true,2024-01-16,2015-09-07,6], [30009,2,900,2009-10-01,true,2024-01-16,2009-10-05,4], [30010,6,1000,2014-02-01,true,20..."
      ]
     },
     "execution_count": 9,
     "metadata": {},
     "output_type": "execute_result"
    }
   ],
   "source": [
    "resultedDf.collect() // WARNING"
   ]
  },
  {
   "cell_type": "code",
   "execution_count": 25,
   "id": "cb8bb464-8bb9-40ac-a92f-55a03fbcb539",
   "metadata": {},
   "outputs": [
    {
     "data": {
      "text/plain": [
       "false"
      ]
     },
     "execution_count": 25,
     "metadata": {},
     "output_type": "execute_result"
    }
   ],
   "source": [
    "resultedDf.isEmpty"
   ]
  },
  {
   "cell_type": "code",
   "execution_count": 11,
   "id": "52c841b1-8727-4f6e-9cb0-e9427291f047",
   "metadata": {},
   "outputs": [
    {
     "data": {
      "text/plain": [
       "Array([30000,6,100,2012-05-01,true,2024-01-16,2012-05-09,8], [30001,6,200,2014-05-01,true,2024-01-16,2014-05-06,5], [30002,6,300,2006-02-01,false,2024-01-16,2006-02-02,1], [30003,6,150,2012-05-01,true,2024-01-16,2012-05-04,3])"
      ]
     },
     "execution_count": 11,
     "metadata": {},
     "output_type": "execute_result"
    }
   ],
   "source": [
    "//first() -> primer elemento del df -> head()\n",
    "//head(n) -> primer N-elementos del df -> take(n)\n",
    "//take -> primer N-elementos del df -> limit().collect()\n",
    "\n",
    "resultedDf.take(4)"
   ]
  },
  {
   "cell_type": "code",
   "execution_count": 12,
   "id": "766faf92-7ab8-4178-abc6-ee64e043e7ff",
   "metadata": {},
   "outputs": [
    {
     "data": {
      "text/plain": [
       "Array([30008,7,800,2004-09-01,true,2024-01-16,2004-09-10,9], [30008,2,800,2014-03-21,true,2024-01-16,2014-03-29,8], [30004,2,400,2008-02-01,false,2024-01-16,2008-02-10,9], [30010,7,1000,2014-08-01,false,2024-01-16,2014-08-08,7])"
      ]
     },
     "execution_count": 12,
     "metadata": {},
     "output_type": "execute_result"
    }
   ],
   "source": [
    "resultedDf.tail(4)"
   ]
  },
  {
   "cell_type": "code",
   "execution_count": 26,
   "id": "966364aa-c79a-4851-8af6-83fdb7cb3f19",
   "metadata": {},
   "outputs": [
    {
     "name": "stdout",
     "output_type": "stream",
     "text": [
      "+-------+------------------+------------------+-----------------+------------------+\n",
      "|summary|           cod_iuc|       cod_titular|     cod_producto|              diff|\n",
      "+-------+------------------+------------------+-----------------+------------------+\n",
      "|  count|                32|                32|               32|                32|\n",
      "|   mean|        30005.0625|            4.4375|         504.6875|           4.65625|\n",
      "| stddev|3.1819805153393363|2.0150642349482912|310.1402843355599|2.8239685527811345|\n",
      "|    min|             30000|                 1|              100|                 0|\n",
      "|    max|             30011|                 7|             1100|                 9|\n",
      "+-------+------------------+------------------+-----------------+------------------+\n",
      "\n"
     ]
    }
   ],
   "source": [
    "resultedDf.describe(\"cod_iuc\",\"cod_titular\").show()"
   ]
  },
  {
   "cell_type": "code",
   "execution_count": 27,
   "id": "b2f7cf17-b161-46f0-bd43-5df56430f81e",
   "metadata": {},
   "outputs": [
    {
     "name": "stdout",
     "output_type": "stream",
     "text": [
      "+-------+------------------+------------------+-----------------+------------------+\n",
      "|summary|           cod_iuc|       cod_titular|     cod_producto|              diff|\n",
      "+-------+------------------+------------------+-----------------+------------------+\n",
      "|  count|                32|                32|               32|                32|\n",
      "| stddev|3.1819805153393363|2.0150642349482912|310.1402843355599|2.8239685527811345|\n",
      "+-------+------------------+------------------+-----------------+------------------+\n",
      "\n"
     ]
    }
   ],
   "source": [
    "resultedDf.summary(\"count\", \"stddev\").show()"
   ]
  },
  {
   "cell_type": "markdown",
   "id": "23e924e8-7bad-457e-bf7a-80195331d5f9",
   "metadata": {},
   "source": [
    "### Functions"
   ]
  },
  {
   "cell_type": "code",
   "execution_count": 15,
   "id": "9f1d4ff1-2125-4597-a4ba-558129f12c28",
   "metadata": {},
   "outputs": [
    {
     "data": {
      "text/plain": [
       "Array(cod_iuc, cod_titular, cod_producto, fec_alta_ini, activo, actual_date, fec_alta_fin, diff)"
      ]
     },
     "execution_count": 15,
     "metadata": {},
     "output_type": "execute_result"
    }
   ],
   "source": [
    "resultedDf.columns"
   ]
  },
  {
   "cell_type": "code",
   "execution_count": 31,
   "id": "7f6aaa7d-97f2-4989-a90f-1221d7f0092e",
   "metadata": {},
   "outputs": [
    {
     "data": {
      "text/plain": [
       "schema_nest: org.apache.spark.sql.types.StructType = StructType(StructField(alumno,StructType(StructField(nombre,StringType,true),StructField(apellido_p,StringType,true),StructField(apellido_m,StringType,true)),true),StructField(calificaciones,StructType(StructField(matematicas,StructType(StructField(periodo_1,IntegerType,true),StructField(periodo_2,IntegerType,true),StructField(periodo_3,IntegerType,true)),true),StructField(espanol,StructType(StructField(periodo_1,IntegerType,true),StructField(periodo_2,IntegerType,true),StructField(periodo_3,IntegerType,true)),true)),true))\r\n",
       "data: List[org.apache.spark.sql.Row] = List([[Pedro,Jimenez,Perez],[[10,9,8],[8,9,10]]], [[Juan,Hernandez,Perez],[[10,10,8],[9,9,10]]])\r\n",
       "df: or...\n"
      ]
     },
     "metadata": {},
     "output_type": "display_data",
     "source": "user"
    },
    {
     "name": "stdout",
     "output_type": "stream",
     "text": [
      "+------------------------+-------------------------+\n",
      "|alumno                  |calificaciones           |\n",
      "+------------------------+-------------------------+\n",
      "|{Pedro, Jimenez, Perez} |{{10, 9, 8}, {8, 9, 10}} |\n",
      "|{Juan, Hernandez, Perez}|{{10, 10, 8}, {9, 9, 10}}|\n",
      "+------------------------+-------------------------+\n",
      "\n",
      "root\n",
      " |-- alumno: struct (nullable = true)\n",
      " |    |-- nombre: string (nullable = true)\n",
      " |    |-- apellido_p: string (nullable = true)\n",
      " |    |-- apellido_m: string (nullable = true)\n",
      " |-- calificaciones: struct (nullable = true)\n",
      " |    |-- matematicas: struct (nullable = true)\n",
      " |    |    |-- periodo_1: integer (nullable = true)\n",
      " |    |    |-- periodo_2: integer (nullable = true)\n",
      " |    |    |-- periodo_3: integer (nullable = true)\n",
      " |    |-- espanol: struct (nullable = true)\n",
      " |    |    |-- periodo_1: integer (nullable = true)\n",
      " |    |    |-- periodo_2: integer (nullable = true)\n",
      " |    |    |-- periodo_3: integer (nullable = true)\n",
      "\n"
     ]
    }
   ],
   "source": [
    "import org.apache.spark.sql.types._\n",
    "import org.apache.spark.sql.Row\n",
    "\n",
    "val schema_nest = StructType( Array(\n",
    "    StructField(\"alumno\",StructType( Array(\n",
    "      StructField(\"nombre\", StringType,true),\n",
    "      StructField(\"apellido_p\", StringType,true),\n",
    "      StructField(\"apellido_m\", StringType,true)\n",
    "    ))),\n",
    "    StructField(\"calificaciones\", StructType( Array(\n",
    "        StructField(\"matematicas\",StructType( Array(\n",
    "            StructField(\"periodo_1\", IntegerType,true),\n",
    "            StructField(\"periodo_2\", IntegerType,true),\n",
    "            StructField(\"periodo_3\", IntegerType,true)\n",
    "        ))),\n",
    "        StructField(\"espanol\",StructType( Array(\n",
    "            StructField(\"periodo_1\", IntegerType,true),\n",
    "            StructField(\"periodo_2\", IntegerType,true),\n",
    "            StructField(\"periodo_3\", IntegerType,true)\n",
    "        ))),\n",
    "    )))\n",
    "  ))\n",
    "\n",
    "//Create DataFrame\n",
    "val data = List(\n",
    "    Row(Row(\"Pedro\",\"Jimenez\",\"Perez\"), Row(Row(10, 9, 8), Row(8, 9, 10))),\n",
    "    Row(Row(\"Juan\",\"Hernandez\",\"Perez\"), Row(Row(10, 10, 8), Row(9, 9, 10)))\n",
    "    )\n",
    "val df = spark.createDataFrame(\n",
    "    spark.sparkContext.parallelize(data),schema_nest)\n",
    "df.show(2, false)\n",
    "df.printSchema()"
   ]
  },
  {
   "cell_type": "code",
   "execution_count": 34,
   "id": "53dc2b11-5ba9-40d1-a01a-369f1351acfb",
   "metadata": {},
   "outputs": [
    {
     "name": "stdout",
     "output_type": "stream",
     "text": [
      "root\n",
      " |-- alumno: struct (nullable = true)\n",
      " |    |-- nombre: string (nullable = true)\n",
      " |    |-- apellido_p: string (nullable = true)\n",
      " |    |-- apellido_m: string (nullable = true)\n",
      " |-- calificaciones: struct (nullable = true)\n",
      " |    |-- matematicas: struct (nullable = true)\n",
      " |    |    |-- periodo_1: integer (nullable = true)\n",
      " |    |    |-- periodo_2: integer (nullable = true)\n",
      " |    |    |-- periodo_3: integer (nullable = true)\n",
      " |    |-- espanol: struct (nullable = true)\n",
      " |    |    |-- periodo_1: integer (nullable = true)\n",
      " |    |    |-- periodo_2: integer (nullable = true)\n",
      " |    |    |-- periodo_3: integer (nullable = true)\n",
      "\n"
     ]
    }
   ],
   "source": [
    "df.printSchema(3)"
   ]
  },
  {
   "cell_type": "code",
   "execution_count": 17,
   "id": "7a2533b5-57a3-4bf5-8849-85d1d225cde8",
   "metadata": {},
   "outputs": [
    {
     "data": {
      "text/plain": [
       "StructType(StructField(cod_iuc,IntegerType,true),StructField(cod_titular,IntegerType,true),StructField(cod_producto,IntegerType,true),StructField(fec_alta_ini,DateType,true),StructField(activo,BooleanType,true),StructField(actual_date,DateType,false),StructField(fec_alta_fin,DateType,true),StructField(diff,IntegerType,true))"
      ]
     },
     "execution_count": 17,
     "metadata": {},
     "output_type": "execute_result"
    }
   ],
   "source": [
    "resultedDf.schema"
   ]
  },
  {
   "cell_type": "code",
   "execution_count": 18,
   "id": "a00528c1-94c2-426d-b93a-5e468760af28",
   "metadata": {},
   "outputs": [
    {
     "data": {
      "text/plain": [
       "Array((cod_iuc,IntegerType), (cod_titular,IntegerType), (cod_producto,IntegerType), (fec_alta_ini,DateType), (activo,BooleanType), (actual_date,DateType), (fec_alta_fin,DateType), (diff,IntegerType))"
      ]
     },
     "execution_count": 18,
     "metadata": {},
     "output_type": "execute_result"
    }
   ],
   "source": [
    "resultedDf.dtypes"
   ]
  },
  {
   "cell_type": "code",
   "execution_count": 19,
   "id": "a23905d2-10d0-4701-91f7-cb2eb314a7eb",
   "metadata": {
    "scrolled": true
   },
   "outputs": [
    {
     "name": "stdout",
     "output_type": "stream",
     "text": [
      "[30000,6,100,2012-05-01,true,2024-01-16,2012-05-09,8]\n",
      "[30001,6,200,2014-05-01,true,2024-01-16,2014-05-06,5]\n",
      "[30002,6,300,2006-02-01,false,2024-01-16,2006-02-02,1]\n",
      "[30003,6,150,2012-05-01,true,2024-01-16,2012-05-04,3]\n",
      "[30002,5,300,2012-05-01,true,2024-01-16,2012-05-08,7]\n",
      "[30004,6,400,2012-05-01,false,2024-01-16,2012-05-04,3]\n",
      "[30005,6,500,2012-05-01,true,2024-01-16,2012-05-03,2]\n",
      "[30006,6,600,2012-05-01,false,2024-01-16,2012-05-07,6]\n",
      "[30003,3,150,2019-10-14,true,2024-01-16,2019-10-21,7]\n",
      "[30007,6,700,2014-02-01,false,2024-01-16,2014-02-01,0]\n",
      "[30008,6,800,2012-05-01,true,2024-01-16,2012-05-03,2]\n",
      "[30009,6,900,2015-09-01,true,2024-01-16,2015-09-07,6]\n",
      "[30009,2,900,2009-10-01,true,2024-01-16,2009-10-05,4]\n",
      "[30010,6,1000,2014-02-01,true,2024-01-16,2014-02-06,5]\n",
      "[30003,2,150,2018-09-18,true,2024-01-16,2018-09-22,4]\n",
      "[30011,3,1100,2018-10-01,true,2024-01-16,2018-10-04,3]\n",
      "[30007,6,700,2012-05-01,true,2024-01-16,2012-05-02,1]\n",
      "[30007,2,700,2015-05-15,true,2024-01-16,2015-05-20,5]\n",
      "[30002,7,300,2001-04-11,false,2024-01-16,2001-04-17,6]\n",
      "[30001,4,200,2017-12-01,true,2024-01-16,2017-12-03,2]\n",
      "[30001,5,200,2019-11-10,true,2024-01-16,2019-11-19,9]\n",
      "[30005,1,500,2007-03-22,true,2024-01-16,2007-03-31,9]\n",
      "[30007,1,700,2016-07-01,true,2024-01-16,2016-07-03,2]\n",
      "[30007,2,600,2020-04-01,true,2024-01-16,2020-04-03,2]\n",
      "[30003,1,150,2016-05-01,true,2024-01-16,2016-05-03,2]\n",
      "[30003,4,150,2020-03-01,true,2024-01-16,2020-03-08,7]\n",
      "[30006,5,600,2016-12-10,true,2024-01-16,2016-12-10,0]\n",
      "[30000,5,100,2015-05-25,true,2024-01-16,2015-05-30,5]\n",
      "[30008,7,800,2004-09-01,true,2024-01-16,2004-09-10,9]\n",
      "[30008,2,800,2014-03-21,true,2024-01-16,2014-03-29,8]\n",
      "[30004,2,400,2008-02-01,false,2024-01-16,2008-02-10,9]\n",
      "[30010,7,1000,2014-08-01,false,2024-01-16,2014-08-08,7]\n"
     ]
    }
   ],
   "source": [
    "resultedDf.rdd.collect().foreach(println)"
   ]
  },
  {
   "cell_type": "code",
   "execution_count": 42,
   "id": "ed78b94b-c226-45e5-a790-3f0da5683ca3",
   "metadata": {
    "scrolled": true
   },
   "outputs": [
    {
     "name": "stdout",
     "output_type": "stream",
     "text": [
      "== Physical Plan ==\n",
      "* Project (4)\n",
      "+- * Project (3)\n",
      "   +- * Project (2)\n",
      "      +- Scan csv  (1)\n",
      "\n",
      "\n",
      "(1) Scan csv \n",
      "Output [5]: [cod_iuc#17, cod_titular#18, cod_producto#19, fec_alta#20, activo#21]\n",
      "Batched: false\n",
      "Location: InMemoryFileIndex [file:/C:/Users/Administrador/Documents/curso_pyspark/spark_databricks_cert/resources/data/csv/contracts.csv]\n",
      "ReadSchema: struct<cod_iuc:int,cod_titular:int,cod_producto:int,fec_alta:date,activo:boolean>\n",
      "\n",
      "(2) Project [codegen id : 1]\n",
      "Output [6]: [cod_iuc#17, cod_titular#18, cod_producto#19, fec_alta#20 AS fec_alta_ini#769, activo#21, cast(round((rand(0) * 10.0), 0) as int) AS randm_num#782]\n",
      "Input [5]: [cod_iuc#17, cod_titular#18, cod_producto#19, fec_alta#20, activo#21]\n",
      "\n",
      "(3) Project [codegen id : 1]\n",
      "Output [6]: [cod_iuc#17, cod_titular#18, cod_producto#19, fec_alta_ini#769, activo#21, date_add(fec_alta_ini#769, randm_num#782) AS fec_alta_fin#790]\n",
      "Input [6]: [cod_iuc#17, cod_titular#18, cod_producto#19, fec_alta_ini#769, activo#21, randm_num#782]\n",
      "\n",
      "(4) Project [codegen id : 1]\n",
      "Output [8]: [cod_iuc#17, cod_titular#18, cod_producto#19, fec_alta_ini#769, activo#21, 2024-01-16 AS actual_date#775, fec_alta_fin#790, datediff(fec_alta_fin#790, fec_alta_ini#769) AS diff#799]\n",
      "Input [6]: [cod_iuc#17, cod_titular#18, cod_producto#19, fec_alta_ini#769, activo#21, fec_alta_fin#790]\n",
      "\n",
      "\n"
     ]
    }
   ],
   "source": [
    "resultedDf.explain(\"formatted\")"
   ]
  },
  {
   "cell_type": "code",
   "execution_count": null,
   "id": "3ea8edc1-7ad4-4781-9194-d0d8ef2f7ec3",
   "metadata": {},
   "outputs": [],
   "source": []
  },
  {
   "cell_type": "code",
   "execution_count": null,
   "id": "8ed0e4c5-f08b-4f9a-8f53-09d96b5c80cc",
   "metadata": {},
   "outputs": [],
   "source": []
  },
  {
   "cell_type": "code",
   "execution_count": null,
   "id": "d5f98fbf-c6ad-4d70-b9fd-06d644b6c556",
   "metadata": {},
   "outputs": [],
   "source": []
  },
  {
   "cell_type": "code",
   "execution_count": null,
   "id": "7a1cfdd0-70fb-4b77-8e3d-0d158b509c58",
   "metadata": {},
   "outputs": [],
   "source": []
  },
  {
   "cell_type": "code",
   "execution_count": null,
   "id": "6acbd888-2941-41a0-8a2b-61f963d397f3",
   "metadata": {},
   "outputs": [],
   "source": []
  },
  {
   "cell_type": "code",
   "execution_count": null,
   "id": "e529728d-3d3a-4e7b-9873-143daadf3562",
   "metadata": {},
   "outputs": [],
   "source": []
  }
 ],
 "metadata": {
  "kernelspec": {
   "display_name": "Apache Toree - Scala",
   "language": "scala",
   "name": "apache_toree_scala"
  },
  "language_info": {
   "codemirror_mode": "text/x-scala",
   "file_extension": ".scala",
   "mimetype": "text/x-scala",
   "name": "scala",
   "pygments_lexer": "scala",
   "version": "2.12.15"
  }
 },
 "nbformat": 4,
 "nbformat_minor": 5
}
