{
 "cells": [
  {
   "cell_type": "code",
   "execution_count": null,
   "id": "815bb7d6-33a5-405b-8c3d-a864df6e796f",
   "metadata": {},
   "outputs": [],
   "source": [
    "%%HTML <style>pre { white-space: pre !important; }</style>"
   ]
  },
  {
   "cell_type": "code",
   "execution_count": null,
   "id": "43770df0-6ba9-477f-9438-d27658409647",
   "metadata": {},
   "outputs": [],
   "source": [
    "import org.apache.spark.sql.{SparkSession, DataFrame}\n",
    "\n",
    "val spark = SparkSession.builder\n",
    "        .appName(\"sesion_1\")\n",
    "        .master(\"local[*]\")\n",
    "        .getOrCreate()\n",
    "val sc = spark.sparkContext"
   ]
  },
  {
   "cell_type": "code",
   "execution_count": null,
   "id": "830ae6df-2cd4-404c-86ab-47c6d8e8876e",
   "metadata": {},
   "outputs": [],
   "source": [
    "sc.uiWebUrl"
   ]
  },
  {
   "cell_type": "code",
   "execution_count": null,
   "id": "13b0fa8b-cf0f-475a-9b96-a735aba71861",
   "metadata": {},
   "outputs": [],
   "source": [
    "val contractsDf = spark.read\n",
    "        .option(\"header\",\"true\")\n",
    "        .option(\"delimiter\",\",\")\n",
    "        .option(\"inferSchema\",\"true\")\n",
    "        .csv(\"../../resources/data/csv/contracts.csv\")\n",
    "\n",
    "contractsDf.show(2)\n",
    "contractsDf.printSchema()"
   ]
  },
  {
   "cell_type": "markdown",
   "id": "6ce0b4fc-c430-4fdc-8a17-65960883ea0d",
   "metadata": {},
   "source": [
    "#### Transformaciones"
   ]
  },
  {
   "cell_type": "code",
   "execution_count": null,
   "id": "b6b93a85-c1f7-4e14-917c-1810848dc6a7",
   "metadata": {},
   "outputs": [],
   "source": [
    "// sort/orderBy\n",
    "\n",
    "import org.apache.spark.sql.{functions => f}\n",
    "\n",
    "contractsDf.orderBy(f.col(\"fec_alta\").desc, f.col(\"cod_producto\").asc).show(30)"
   ]
  },
  {
   "cell_type": "code",
   "execution_count": null,
   "id": "f65370ab-774b-4672-96a7-2ab982bcc537",
   "metadata": {},
   "outputs": [],
   "source": [
    "// dropDuplicates distinct\n",
    "\n",
    "contractsDf.dropDuplicates(Seq(\"cod_producto\", \"activo\")).show(2)\n",
    "\n",
    "//contractsDf.distinct().show()"
   ]
  },
  {
   "cell_type": "code",
   "execution_count": null,
   "id": "c8eb394e-82b2-4905-b68b-b8ae5a95ccc4",
   "metadata": {},
   "outputs": [],
   "source": [
    "// agg\n",
    "\n",
    "contractsDf\n",
    "    .agg(\n",
    "        f.count(\"*\").alias(\"count\"),\n",
    "        f.sum(f.col(\"cod_producto\")).alias(\"sum_cod_producto\"),\n",
    "        f.max(\"cod_producto\").alias(\"max_cod_producto\"),\n",
    "        f.min(\"cod_producto\").alias(\"min_cod_producto\"),\n",
    "        f.mean(\"cod_producto\").alias(\"mean_cod_producto\"),\n",
    "        f.avg(\"cod_producto\").alias(\"avg_cod_producto\"),\n",
    "        f.approx_count_distinct(\"fec_alta\", 0.05).alias(\"approx_fec_count\"),\n",
    "        f.count_distinct(f.col(\"fec_alta\")).alias(\"distinct_fec_count\"),\n",
    "        f.max(\"fec_alta\").alias(\"max_fec_alta\")\n",
    ").show()"
   ]
  },
  {
   "cell_type": "code",
   "execution_count": null,
   "id": "70d0543a-4984-4873-ae29-8cbf258a4e99",
   "metadata": {},
   "outputs": [],
   "source": [
    "// groupBy -> count, max, min, avg, mean, sum\n",
    "\n",
    "//contractsDf.groupBy(\"activo\").count().show()\n",
    "//contractsDf.groupBy(f.col(\"activo\")).sum(\"cod_titular\").show()\n",
    "//contractsDf.groupBy(f.col(\"activo\")).max(\"fec_alta\").show()\n",
    "\n",
    "contractsDf.groupBy(f.col(\"cod_iuc\"), f.col(\"activo\"))\n",
    "    .agg(\n",
    "        f.count(\"*\").alias(\"count\"),\n",
    "        f.sum(f.col(\"cod_producto\")).alias(\"sum_cod_producto\"),\n",
    "        f.max(\"cod_producto\").alias(\"max_cod_producto\"),\n",
    "        f.min(\"cod_producto\").alias(\"min_cod_producto\"),\n",
    "        f.mean(\"cod_producto\").alias(\"mean_cod_producto\"),\n",
    "        f.avg(\"cod_producto\").alias(\"avg_cod_producto\"),\n",
    "        f.max(\"fec_alta\").alias(\"max_fec_alta\")\n",
    "    ).show()\n"
   ]
  },
  {
   "cell_type": "code",
   "execution_count": null,
   "id": "85753db0-d5f5-42f0-ab6d-7503067a404a",
   "metadata": {},
   "outputs": [],
   "source": [
    "contractsDf\n",
    "    .groupBy(f.col(\"cod_iuc\"))\n",
    "    .pivot(\"activo\")\n",
    "    .agg(\n",
    "        f.count(\"*\"),\n",
    "        f.max(\"fec_alta\")\n",
    "    )\n",
    "    .show()"
   ]
  },
  {
   "cell_type": "code",
   "execution_count": null,
   "id": "d358e250-2f01-4308-933a-56b2f6ac5952",
   "metadata": {},
   "outputs": [],
   "source": [
    "contractsDf\n",
    "    .groupBy(\"cod_iuc\")\n",
    "    .pivot(\"activo\")\n",
    "    .agg(\n",
    "        f.count(\"*\"),\n",
    "        f.max(\"fec_alta\")\n",
    "    )\n",
    "    .unpivot(Array(f.col(\"cod_iuc\")), Array(f.col(\"false_max(fec_alta)\"), f.col(\"true_max(fec_alta)\")), \"metrica\", \"valor\").show()"
   ]
  },
  {
   "cell_type": "code",
   "execution_count": null,
   "id": "cce4dd4a-59d0-4dbd-ba98-84801d2a45b1",
   "metadata": {},
   "outputs": [],
   "source": [
    "// union/unionAll unionByName\n",
    "val contracts_tmp_df = contractsDf.filter(f.col(\"activo\") === \"false\")\n",
    "\n",
    "contractsDf.show()\n",
    "\n",
    "contractsDf.select(\"cod_titular\",\"fec_alta\",\"cod_producto\")\n",
    "    .unionAll(contractsDf.select(\"cod_producto\",\"fec_alta\",\"cod_titular\")).show()\n",
    "\n",
    "\n",
    "contractsDf.select(\"cod_titular\",\"fec_alta\",\"cod_producto\", \"activo\")\n",
    "    .unionByName(contractsDf.select(\"cod_producto\",\"fec_alta\",\"cod_titular\"),  true).show()\n"
   ]
  },
  {
   "cell_type": "code",
   "execution_count": null,
   "id": "15c0ad3d-d796-472e-bb63-85c6998c0dd0",
   "metadata": {},
   "outputs": [],
   "source": []
  }
 ],
 "metadata": {
  "kernelspec": {
   "display_name": "Apache Toree - Scala",
   "language": "scala",
   "name": "apache_toree_scala"
  },
  "language_info": {
   "codemirror_mode": "text/x-scala",
   "file_extension": ".scala",
   "mimetype": "text/x-scala",
   "name": "scala",
   "pygments_lexer": "scala",
   "version": "2.12.15"
  }
 },
 "nbformat": 4,
 "nbformat_minor": 5
}
