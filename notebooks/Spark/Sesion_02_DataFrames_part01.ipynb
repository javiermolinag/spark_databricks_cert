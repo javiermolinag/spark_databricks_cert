{
 "cells": [
  {
   "cell_type": "markdown",
   "id": "73bbd909-9e56-4299-b65f-2cd21130aa14",
   "metadata": {},
   "source": [
    "#### Documentación oficial: https://spark.apache.org/"
   ]
  },
  {
   "cell_type": "code",
   "execution_count": null,
   "id": "aada02ed-6ee5-4c80-a4f9-9e980d298398",
   "metadata": {},
   "outputs": [],
   "source": [
    "import org.apache.spark.sql.{SparkSession, Row, DataFrame}\n",
    "import org.apache.spark.sql.types._"
   ]
  },
  {
   "cell_type": "markdown",
   "id": "5f52074d-797e-4418-a715-57e9072f94d3",
   "metadata": {},
   "source": [
    "### SparkSession"
   ]
  },
  {
   "cell_type": "code",
   "execution_count": null,
   "id": "26e4f019-9285-465f-a7a0-b287ad778ea7",
   "metadata": {},
   "outputs": [],
   "source": [
    "val spark = SparkSession.builder().appName(\"sesion_1\").master(\"local[*]\").getOrCreate()\n",
    "val sc = spark.sparkContext"
   ]
  },
  {
   "cell_type": "markdown",
   "id": "046bb0a3-fe80-487e-8a40-9af923b8e0e7",
   "metadata": {},
   "source": [
    "### Read"
   ]
  },
  {
   "cell_type": "code",
   "execution_count": null,
   "id": "bf402d48-429e-4dd7-95dc-79dcf88b169f",
   "metadata": {},
   "outputs": [],
   "source": [
    "val df = spark.read.option(\"header\",\"true\")\n",
    "        .option(\"delimiter\",\",\")\n",
    "        .option(\"inferSchema\",\"true\")\n",
    "        .format(\"csv\")\n",
    "        .load(\"../../resources/data/csv/clients.csv\")"
   ]
  },
  {
   "cell_type": "code",
   "execution_count": null,
   "id": "1b57aac4-0e63-4d3a-8270-20bce1520794",
   "metadata": {},
   "outputs": [],
   "source": [
    "val df = spark.read.option(\"header\",\"true\")\n",
    "        .option(\"delimiter\",\",\")\n",
    "        .option(\"inferSchema\",\"true\")\n",
    "        .csv(\"../../resources/data/csv/clients.csv\")"
   ]
  },
  {
   "cell_type": "markdown",
   "id": "ea351534-8199-4be5-8812-d1f9cb34f94b",
   "metadata": {},
   "source": [
    "### Write"
   ]
  },
  {
   "cell_type": "code",
   "execution_count": null,
   "id": "e6914605-dc9f-4ed5-b6e4-1ddb4c6eae41",
   "metadata": {},
   "outputs": [],
   "source": [
    "df.write.mode(\"ignore\").csv(\"../../resources/data/tmp/clients\")"
   ]
  },
  {
   "cell_type": "code",
   "execution_count": null,
   "id": "b1784e95-8f23-458b-8e61-b79a22dd617f",
   "metadata": {},
   "outputs": [],
   "source": [
    "df.write.mode(\"overwrite\").format(\"csv\").save(\"../../resources/data/tmp/clients\")"
   ]
  },
  {
   "cell_type": "markdown",
   "id": "6b0e6dca-d172-42d4-af91-b13578a5c97f",
   "metadata": {},
   "source": [
    "### Create"
   ]
  },
  {
   "cell_type": "code",
   "execution_count": null,
   "id": "1c796ef7-9e33-417c-b709-74dc2c75f727",
   "metadata": {},
   "outputs": [],
   "source": [
    "import java.sql.Timestamp\n",
    "import java.sql.Date\n",
    "\n",
    "val data = Seq(\n",
    "    Row(\"00001\", Seq(Date.valueOf(\"2020-01-01\"))),\n",
    "    Row(\"00002\", Seq(Date.valueOf(\"2020-01-02\"), Date.valueOf(\"2020-01-03\")))\n",
    "    )\n",
    "\n",
    "val schema = StructType(Seq(\n",
    "    StructField(\"cod_client\", StringType),\n",
    "    StructField(\"fecha_pago\", ArrayType(DateType))\n",
    "    ))\n",
    "\n",
    "val pagosDf = spark.createDataFrame(sc.parallelize(data), schema)\n",
    "\n",
    "pagosDf.show(2, false)\n",
    "pagosDf.printSchema()"
   ]
  },
  {
   "cell_type": "markdown",
   "id": "97a1b1ec-b410-42e0-b0e7-173146a18541",
   "metadata": {},
   "source": [
    "### Create Dataset"
   ]
  },
  {
   "cell_type": "code",
   "execution_count": null,
   "id": "d0c8fa02-9d04-456a-a0ec-ae402444a2cf",
   "metadata": {},
   "outputs": [],
   "source": [
    "val lista = Seq(1,2,3)\n",
    "case class Person(name: String, age: Int)\n",
    "spark.createDataset(List(Person(\"Javier\", 32), Person(\"Pedro\", 30))).toDF.show()"
   ]
  },
  {
   "cell_type": "code",
   "execution_count": null,
   "id": "3e3fcdb6-2bf7-46bb-8090-8004038c9c70",
   "metadata": {},
   "outputs": [],
   "source": []
  }
 ],
 "metadata": {
  "kernelspec": {
   "display_name": "Apache Toree - Scala",
   "language": "scala",
   "name": "apache_toree_scala"
  },
  "language_info": {
   "codemirror_mode": "text/x-scala",
   "file_extension": ".scala",
   "mimetype": "text/x-scala",
   "name": "scala",
   "pygments_lexer": "scala",
   "version": "2.12.15"
  }
 },
 "nbformat": 4,
 "nbformat_minor": 5
}
