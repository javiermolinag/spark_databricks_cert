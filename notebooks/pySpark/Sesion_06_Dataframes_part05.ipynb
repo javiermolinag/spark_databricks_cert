{
 "cells": [
  {
   "cell_type": "code",
   "execution_count": null,
   "id": "43770df0-6ba9-477f-9438-d27658409647",
   "metadata": {},
   "outputs": [],
   "source": [
    "from pyspark.sql import SparkSession\n",
    "\n",
    "spark = SparkSession.builder \\\n",
    "        .appName(\"sesion_1\") \\\n",
    "        .master(\"local[*]\") \\\n",
    "        .getOrCreate()"
   ]
  },
  {
   "cell_type": "code",
   "execution_count": null,
   "id": "13b0fa8b-cf0f-475a-9b96-a735aba71861",
   "metadata": {},
   "outputs": [],
   "source": [
    "\n",
    "contracts_df = spark.read\\\n",
    "        .option(\"header\",\"true\")\\\n",
    "        .option(\"delimiter\",\",\")\\\n",
    "        .option(\"inferSchema\",\"true\")\\\n",
    "        .csv(\"../../resources/data/csv/contracts.csv\")\n",
    "clients_df = spark.read\\\n",
    "        .option(\"header\",\"true\")\\\n",
    "        .option(\"delimiter\",\",\")\\\n",
    "        .option(\"inferSchema\",\"true\")\\\n",
    "        .csv(\"../../resources/data/csv/clients.csv\")\n",
    "\n",
    "contracts_df.show(2)\n",
    "contracts_df.printSchema()\n",
    "clients_df.show(2)\n",
    "clients_df.printSchema()"
   ]
  },
  {
   "cell_type": "code",
   "execution_count": null,
   "id": "888ef82c-8331-450b-9a8e-a7a360350b8a",
   "metadata": {},
   "outputs": [],
   "source": [
    "import pyspark.sql.functions as f"
   ]
  },
  {
   "cell_type": "code",
   "execution_count": null,
   "id": "0a1f0590-93aa-4964-8308-f39de2926613",
   "metadata": {},
   "outputs": [],
   "source": [
    "from IPython.core.display import HTML\n",
    "display(HTML(\"<style>pre { white-space: pre !important; }</style>\"))"
   ]
  },
  {
   "cell_type": "markdown",
   "id": "e5f00698-94e6-4fc0-82e6-fd4ea8726626",
   "metadata": {},
   "source": [
    "#### Transformaciones"
   ]
  },
  {
   "cell_type": "code",
   "execution_count": null,
   "id": "c5ec21b1-87d7-4789-a3a6-c5f1bda213b0",
   "metadata": {},
   "outputs": [],
   "source": [
    "# Joins\n",
    "\n",
    "# inner -> [inner, cross] Mantiene información de ambas tablas (columnas) para los registros (filas) coincidentes\n",
    "# outer -> [outer, full, fullouter, full_outer,] Mantiene información de ambas tablas (columnas y filas) para los registros coincidentes y no-coincidentes\n",
    "# left -> [left, leftouter, left_outer] Mantiene columnas de ambas tablas y filas únicamente de la tabla izquierda, elimina filas no coincidentes de la tabla derecha\n",
    "# right -> [right, rightouter, right_outer] Mantiene columnas de ambas tablas y filas únicamente de la tabla derecha, elimina filas no coincidentes de la tabla izquierda\n",
    "# left_semi -> [semi, leftsemi, left_semi] Mantiene filas y columnas únicamente de la tabla izquierda para los registros coincidentes\n",
    "# left_anti -> [anti, leftanti, left_anti] Mantiene filas y columnas únicamente de la tabla izquierda para los registros no-coincidentes"
   ]
  },
  {
   "cell_type": "code",
   "execution_count": null,
   "id": "555f2d42-a89d-4503-a466-aa168239deab",
   "metadata": {},
   "outputs": [],
   "source": [
    "clients_tmp_df = clients_df.filter((f.col(\"edad\") >= 40) & (f.col(\"edad\") <= 50))\n",
    "contracts_tmp_df = contracts_df.filter(f.col(\"activo\") == False)\\\n",
    "    .withColumnRenamed(\"cod_titular\", \"cod_client\")\n",
    "clients_tmp_df.show()\n",
    "contracts_tmp_df.show()\n",
    "\n",
    "contracts_tmp_df.join(clients_tmp_df, [\"cod_client\"]).show()"
   ]
  },
  {
   "cell_type": "code",
   "execution_count": null,
   "id": "f65370ab-774b-4672-96a7-2ab982bcc537",
   "metadata": {},
   "outputs": [],
   "source": [
    "# crossJoin -> WARNING\n",
    "clients_tmp_df = clients_df.filter((f.col(\"edad\") >= 40) & (f.col(\"edad\") <= 50))\n",
    "contracts_tmp_df = contracts_df.filter(f.col(\"activo\") == False)\n",
    "clients_tmp_df.show()\n",
    "contracts_tmp_df.show()\n",
    "\n",
    "clients_df.crossJoin(contracts_df).count()"
   ]
  },
  {
   "cell_type": "code",
   "execution_count": null,
   "id": "6601a5fd-0db3-4345-9dca-dbf63389a65b",
   "metadata": {},
   "outputs": [],
   "source": [
    "# UDF - User Defined Functions - WARNING\n",
    "\n",
    "import pyspark.sql.types as t\n",
    "\n",
    "def upper_case(value):\n",
    "    return \"\" if value is None else value.upper()\n",
    "\n",
    "def len_concat(value1, value2):\n",
    "    value_1 = \"\" if value1 is None else value1\n",
    "    value_2 = \"\" if value2 is None else value2\n",
    "    return len(value_1 + value_2)\n",
    "\n",
    "@f.udf(returnType=t.LongType())\n",
    "def sum_values(value_1, value_2):\n",
    "    value_1 = 0 if value_1 is None else value_1\n",
    "    value_2 = 0 if value_2 is None else value_2\n",
    "    return value_1 + value_2\n",
    "\n",
    "upper_case_udf = f.udf(upper_case, t.StringType())\n",
    "len_concat_udf = f.udf(len_concat, t.IntegerType())\n",
    "\n",
    "\n",
    "join_df = contracts_tmp_df.join(clients_tmp_df, f.col(\"cod_client\") == f.col(\"cod_titular\"), \"outer\")\n",
    "join_df.show()\n",
    "\n",
    "join_df\\\n",
    "    .select(\n",
    "        *join_df.columns,\n",
    "        upper_case_udf(f.col(\"nombre\")).alias(\"nombre_mayus\"),\n",
    "        len_concat_udf(f.col(\"nombre\"), f.col(\"provincia\")).alias(\"len_concat\"),\n",
    "        sum_values(f.col(\"cod_titular\"), f.col(\"cod_titular\")).alias(\"sum_values\")\n",
    "    ).show()"
   ]
  },
  {
   "cell_type": "code",
   "execution_count": null,
   "id": "a820b852-bb2e-4622-a411-fb198c578558",
   "metadata": {},
   "outputs": [],
   "source": [
    "# spark.sql\n",
    "\n",
    "spark.udf.register(\"UDF_NAME\", upper_case_udf)\n",
    "\n",
    "join_df.createOrReplaceTempView(\"view\")\n",
    "spark.sql(\"\"\"\n",
    "    SELECT UDF_NAME(nombre) AS udf_result, nombre FROM view \n",
    "\"\"\").show()\n",
    "\n",
    "\n",
    "spark.udf.register(\"UDF_LAMBDA\", lambda value: \"\" if value is None else value.upper())\n",
    "spark.sql(\"\"\"\n",
    "    SELECT UDF_LAMBDA(nombre) AS udf_result, nombre FROM view \n",
    "\"\"\").show()"
   ]
  },
  {
   "cell_type": "code",
   "execution_count": null,
   "id": "0529a062-938e-4025-866e-79b5b9a0535f",
   "metadata": {},
   "outputs": [],
   "source": []
  }
 ],
 "metadata": {
  "kernelspec": {
   "display_name": "Python 3 (ipykernel)",
   "language": "python",
   "name": "python3"
  },
  "language_info": {
   "codemirror_mode": {
    "name": "ipython",
    "version": 3
   },
   "file_extension": ".py",
   "mimetype": "text/x-python",
   "name": "python",
   "nbconvert_exporter": "python",
   "pygments_lexer": "ipython3",
   "version": "3.9.13"
  }
 },
 "nbformat": 4,
 "nbformat_minor": 5
}
