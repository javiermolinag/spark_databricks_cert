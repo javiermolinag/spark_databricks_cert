{
 "cells": [
  {
   "cell_type": "code",
   "execution_count": 1,
   "id": "5ef5556d-6dd3-4ee1-b73b-b3a035cc6374",
   "metadata": {},
   "outputs": [],
   "source": [
    "from pyspark.sql import SparkSession\n",
    "\n",
    "spark = SparkSession.builder \\\n",
    "        .appName(\"sesion_2\") \\\n",
    "        .master(\"local[*]\") \\\n",
    "        .getOrCreate()"
   ]
  },
  {
   "cell_type": "markdown",
   "id": "f749db43-cb10-4ba1-b2ef-94b3c77166cd",
   "metadata": {},
   "source": [
    "### Read"
   ]
  },
  {
   "cell_type": "code",
   "execution_count": 2,
   "id": "b50ca215-02ff-4896-a0c1-d8193ef1ad15",
   "metadata": {},
   "outputs": [],
   "source": [
    "df = spark.read.option(\"header\",\"true\")\\\n",
    "        .option(\"delimiter\",\",\")\\\n",
    "        .option(\"inferSchema\",\"true\")\\\n",
    "        .format(\"csv\")\\\n",
    "        .load(\"../../resources/data/csv/clients.csv\")"
   ]
  },
  {
   "cell_type": "code",
   "execution_count": 3,
   "id": "2fd1c356-b6ec-498e-a170-1a0428c8fa01",
   "metadata": {},
   "outputs": [],
   "source": [
    "df = spark.read.option(\"header\",\"true\")\\\n",
    "        .option(\"delimiter\",\",\")\\\n",
    "        .option(\"inferSchema\",\"true\")\\\n",
    "        .csv(\"../../resources/data/csv/clients.csv\")"
   ]
  },
  {
   "cell_type": "markdown",
   "id": "868ef266-1da1-4cff-bbc8-929b5e7a479c",
   "metadata": {},
   "source": [
    "### Write"
   ]
  },
  {
   "cell_type": "code",
   "execution_count": 4,
   "id": "17c12a4d-f9cf-42a6-9f4d-bbed8a42bfab",
   "metadata": {},
   "outputs": [],
   "source": [
    "df.write.mode(\"ignore\").csv(\"../../resources/data/tmp/clients\")"
   ]
  },
  {
   "cell_type": "code",
   "execution_count": 5,
   "id": "27d49952-4e19-4aeb-a1d4-3ec15fb9451c",
   "metadata": {},
   "outputs": [],
   "source": [
    "df.write.mode(\"overwrite\").format(\"csv\").save(\"../../resources/data/tmp/clients\")"
   ]
  },
  {
   "cell_type": "markdown",
   "id": "b944e20e-dee6-4b4f-ba74-c68074f46c39",
   "metadata": {},
   "source": [
    "### Create"
   ]
  },
  {
   "cell_type": "code",
   "execution_count": 6,
   "id": "d075df08-399f-4a10-9b39-bc0cc553f41e",
   "metadata": {},
   "outputs": [
    {
     "name": "stdout",
     "output_type": "stream",
     "text": [
      "+----------+--------------------+\n",
      "|cod_client|          fecha_pago|\n",
      "+----------+--------------------+\n",
      "|     00001|[2018-05-26 16:40...|\n",
      "|     00002|[2018-05-27 16:40...|\n",
      "+----------+--------------------+\n",
      "\n"
     ]
    }
   ],
   "source": [
    "import datetime\n",
    "from pyspark.sql.types import *\n",
    "\n",
    "data = [\n",
    "    Row(\"00001\", [datetime.datetime(2018, 5, 26, 16, 40, 54)]),\n",
    "    Row(\"00002\", [datetime.datetime(2018, 5, 27, 16, 40, 54), datetime.datetime(2018, 5, 28, 16, 40, 54)])\n",
    "]\n",
    "schema = StructType([\n",
    "    StructField(\"cod_client\", StringType()),\n",
    "    StructField(\"fecha_pago\", ArrayType(TimestampType()))\n",
    "])\n",
    "\n",
    "pagos_df = spark.createDataFrame(spark.sparkContext.parallelize(data), schema)\n",
    "pagos_df.show()"
   ]
  },
  {
   "cell_type": "code",
   "execution_count": 7,
   "id": "801b045a-76a9-4402-a180-24ca98fd7f26",
   "metadata": {},
   "outputs": [
    {
     "name": "stdout",
     "output_type": "stream",
     "text": [
      "root\n",
      " |-- cod_client: string (nullable = true)\n",
      " |-- fecha_pago: array (nullable = true)\n",
      " |    |-- element: timestamp (containsNull = true)\n",
      "\n"
     ]
    }
   ],
   "source": [
    "pagos_df.printSchema()"
   ]
  },
  {
   "cell_type": "code",
   "execution_count": null,
   "id": "e8d4fe41-4086-49e3-bb2b-2c7810ec1153",
   "metadata": {},
   "outputs": [],
   "source": []
  }
 ],
 "metadata": {
  "kernelspec": {
   "display_name": "Python 3 (ipykernel)",
   "language": "python",
   "name": "python3"
  },
  "language_info": {
   "codemirror_mode": {
    "name": "ipython",
    "version": 3
   },
   "file_extension": ".py",
   "mimetype": "text/x-python",
   "name": "python",
   "nbconvert_exporter": "python",
   "pygments_lexer": "ipython3",
   "version": "3.9.13"
  }
 },
 "nbformat": 4,
 "nbformat_minor": 5
}
