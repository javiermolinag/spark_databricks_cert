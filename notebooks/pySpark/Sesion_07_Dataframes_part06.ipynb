{
 "cells": [
  {
   "cell_type": "code",
   "execution_count": null,
   "id": "6956efa9-7ad7-4446-94c1-e2c207fcf290",
   "metadata": {},
   "outputs": [],
   "source": [
    "from pyspark.sql import SparkSession\n",
    "\n",
    "spark = SparkSession.builder \\\n",
    "        .appName(\"sesion_1\") \\\n",
    "        .master(\"local[*]\") \\\n",
    "        .getOrCreate()"
   ]
  },
  {
   "cell_type": "code",
   "execution_count": null,
   "id": "7b206961-7a2a-433f-895e-26834d4cf524",
   "metadata": {},
   "outputs": [],
   "source": [
    "contracts_df = spark.read\\\n",
    "        .option(\"header\",\"true\")\\\n",
    "        .option(\"delimiter\",\",\")\\\n",
    "        .option(\"inferSchema\",\"true\")\\\n",
    "        .csv(\"../../resources/data/csv/contracts.csv\")\n",
    "\n",
    "contracts_df.show()"
   ]
  },
  {
   "cell_type": "code",
   "execution_count": null,
   "id": "6385741c-9ca5-42a7-bc85-b3a1801b5e52",
   "metadata": {},
   "outputs": [],
   "source": [
    "from IPython.core.display import HTML\n",
    "display(HTML(\"<style>pre { white-space: pre !important; }</style>\"))"
   ]
  },
  {
   "cell_type": "code",
   "execution_count": null,
   "id": "68dd8b15-900f-49ee-b046-dff518037c67",
   "metadata": {},
   "outputs": [],
   "source": [
    "import pyspark.sql.functions as f\n",
    "\n",
    "contracts_df.orderBy(f.col(\"cod_iuc\")).show()"
   ]
  },
  {
   "cell_type": "markdown",
   "id": "5e1e9ae8-2b41-452a-aeac-443eeae4542a",
   "metadata": {},
   "source": [
    "#### Transformaciones"
   ]
  },
  {
   "cell_type": "code",
   "execution_count": null,
   "id": "b1a2b5b9-8eb1-46cb-8dc1-58a66fb82282",
   "metadata": {},
   "outputs": [],
   "source": [
    "# Windows\n",
    "    # Agregacion -> max, min, count, avg, mean, sum, ...\n",
    "    # Ranking -> row_number, rank, dense_rank, ...\n",
    "    # lag lead\n",
    "\n",
    "from pyspark.sql import Window\n",
    "\n",
    "window_1 = Window.partitionBy(f.col(\"cod_iuc\"))\n",
    "window_2 = Window.partitionBy(f.col(\"cod_iuc\")).orderBy(f.col(\"fec_alta\").asc())\n",
    "\n",
    "contracts_df.select(\n",
    "    *contracts_df.columns,\n",
    "    f.count(\"*\").over(window_1).alias(\"count_w\"),\n",
    "    f.max(f.col(\"fec_alta\")).over(window_2).alias(\"max_fec_alta_w\"),\n",
    "    f.sum(f.col(\"cod_producto\")).over(window_2).alias(\"sum_cod_producto_w\")\n",
    ").orderBy(f.col(\"cod_iuc\")).show()"
   ]
  },
  {
   "cell_type": "code",
   "execution_count": null,
   "id": "31014536-f6c7-42f2-9672-1905787c7fdc",
   "metadata": {},
   "outputs": [],
   "source": [
    "contracts_df.orderBy(f.col(\"cod_iuc\")).show()\n",
    "\n",
    "window_3 = Window.partitionBy(f.col(\"cod_iuc\")).orderBy(f.col(\"cod_titular\").asc())\n",
    "\n",
    "contracts_df.select(\n",
    "    *contracts_df.columns,\n",
    "    f.row_number().over(window_3).alias(\"row_number\"),\n",
    "    f.rank().over(window_3).alias(\"rank\"),\n",
    "    f.dense_rank().over(window_3).alias(\"dense_rank\")\n",
    ").show(100)"
   ]
  },
  {
   "cell_type": "code",
   "execution_count": null,
   "id": "d4bba219-5c62-4d07-ba78-2085216dc474",
   "metadata": {},
   "outputs": [],
   "source": [
    "contracts_df.orderBy(f.col(\"cod_iuc\")).show()\n",
    "\n",
    "window_4 = Window.partitionBy(f.col(\"cod_iuc\")).orderBy(f.col(\"fec_alta\").desc())\n",
    "window_5 = Window.partitionBy(f.col(\"cod_iuc\")).orderBy(f.col(\"fec_alta\").desc())\n",
    "\n",
    "\n",
    "contracts_df.select(\n",
    "    *contracts_df.columns,\n",
    "    f.lag(f.col(\"fec_alta\"), 2, \"1970-01-01\").over(window_4).alias(\"lag\"),\n",
    "    f.lead(f.col(\"fec_alta\"), 2, \"1970-01-01\").over(window_5).alias(\"lead\")\n",
    ").show(100)"
   ]
  },
  {
   "cell_type": "code",
   "execution_count": null,
   "id": "6a2a500f-1951-4fc8-afcb-f4b064386b60",
   "metadata": {},
   "outputs": [],
   "source": [
    "#na.functions\n",
    "    # drop -> ALIAS  DataFrame.dropna\n",
    "    # fill -> ALIAS DataFrame.fillna\n",
    "    # replace -> ALIAS DataFrame.replace\n",
    "\n",
    "cond_column = lambda col_name, threshold: f.when(f.round(f.rand()*10, 0) >= threshold, None).otherwise(f.col(col_name))\n",
    "\n",
    "null_contracts_df = contracts_df\\\n",
    "    .orderBy(\"cod_iuc\", \"cod_titular\")\\\n",
    "    .select(\n",
    "        \"cod_iuc\", \"cod_titular\",\n",
    "        cond_column(\"cod_producto\", 5).alias(\"cod_producto\"),\n",
    "        cond_column(\"fec_alta\", 5).alias(\"fec_alta\"),\n",
    "        cond_column(\"activo\", 5).alias(\"activo\")\n",
    "    )\n",
    "null_contracts_df.show()"
   ]
  },
  {
   "cell_type": "code",
   "execution_count": null,
   "id": "c9bc596c-124d-4dab-841f-70e8f615a58e",
   "metadata": {},
   "outputs": [],
   "source": [
    "null_contracts_df\\\n",
    "    .dropna(\"all\", 2, [\"cod_producto\", \"fec_alta\", \"activo\"])\\\n",
    "    .show()"
   ]
  },
  {
   "cell_type": "code",
   "execution_count": null,
   "id": "6fc686cd-dc30-4cf9-8fc9-45105b36197e",
   "metadata": {},
   "outputs": [],
   "source": [
    "null_contracts_df\\\n",
    "    .fillna({\"cod_producto\": 10000, \"fec_alta\": \"2014-05-01\", \"activo\": True})\\\n",
    "    .show()"
   ]
  },
  {
   "cell_type": "code",
   "execution_count": null,
   "id": "82eb46d6-3b82-4f3d-9b41-8bd99211d714",
   "metadata": {},
   "outputs": [],
   "source": [
    "null_contracts_df.show()"
   ]
  },
  {
   "cell_type": "code",
   "execution_count": null,
   "id": "0ab50c84-8b11-4f2c-a20e-186cff04ffd7",
   "metadata": {},
   "outputs": [],
   "source": [
    "null_contracts_df.replace(\n",
    "        to_replace = {400:2, 150:150000, True: False},\n",
    "        subset = [\"cod_producto\", \"cod_titular\"]\n",
    "        )\\\n",
    "    .orderBy(\"cod_iuc\", \"cod_titular\")\\\n",
    "    .show()"
   ]
  },
  {
   "cell_type": "code",
   "execution_count": null,
   "id": "2d294f1a-2d32-4046-a9f4-495475f85366",
   "metadata": {},
   "outputs": [],
   "source": [
    "# sample\n",
    "print(contracts_df.count())\n",
    "contracts_df.sample(True, 0.5, 0).orderBy(f.col(\"cod_iuc\")).show()"
   ]
  },
  {
   "cell_type": "code",
   "execution_count": null,
   "id": "cbff8a3a-0b42-4dbb-910c-fd89734f692b",
   "metadata": {},
   "outputs": [],
   "source": [
    "# subtract / exceptAll\n",
    "contracts_df.union(contracts_df).subtract(contracts_df.filter(f.col(\"activo\") == True).union(contracts_df.filter(f.col(\"activo\") == True))).show()"
   ]
  },
  {
   "cell_type": "code",
   "execution_count": null,
   "id": "279d48fb-78fa-4050-b82f-126a506e1f40",
   "metadata": {},
   "outputs": [],
   "source": []
  }
 ],
 "metadata": {
  "kernelspec": {
   "display_name": "Python 3 (ipykernel)",
   "language": "python",
   "name": "python3"
  },
  "language_info": {
   "codemirror_mode": {
    "name": "ipython",
    "version": 3
   },
   "file_extension": ".py",
   "mimetype": "text/x-python",
   "name": "python",
   "nbconvert_exporter": "python",
   "pygments_lexer": "ipython3",
   "version": "3.9.13"
  }
 },
 "nbformat": 4,
 "nbformat_minor": 5
}
