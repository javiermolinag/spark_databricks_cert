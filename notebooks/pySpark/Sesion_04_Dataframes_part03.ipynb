{
 "cells": [
  {
   "cell_type": "code",
   "execution_count": null,
   "id": "43770df0-6ba9-477f-9438-d27658409647",
   "metadata": {},
   "outputs": [],
   "source": [
    "from pyspark.sql import SparkSession\n",
    "\n",
    "spark = SparkSession.builder \\\n",
    "        .appName(\"sesion_1\") \\\n",
    "        .master(\"local[*]\") \\\n",
    "        .getOrCreate()"
   ]
  },
  {
   "cell_type": "code",
   "execution_count": null,
   "id": "0aac3bad-eb25-48e2-a7b5-267beed66a8e",
   "metadata": {},
   "outputs": [],
   "source": [
    "spark"
   ]
  },
  {
   "cell_type": "code",
   "execution_count": null,
   "id": "13b0fa8b-cf0f-475a-9b96-a735aba71861",
   "metadata": {},
   "outputs": [],
   "source": [
    "contracts_df = spark.read\\\n",
    "        .option(\"header\",\"true\")\\\n",
    "        .option(\"delimiter\",\",\")\\\n",
    "        .option(\"inferSchema\",\"false\")\\\n",
    "        .csv(\"../../resources/data/csv/contracts.csv\")\n",
    "\n",
    "contracts_df.show(2)"
   ]
  },
  {
   "cell_type": "markdown",
   "id": "eafe8e84-b837-482d-8bcd-8b5f6a5cbb0b",
   "metadata": {},
   "source": [
    "#### Transformaciones\r\n"
   ]
  },
  {
   "cell_type": "code",
   "execution_count": null,
   "id": "149c16c0-6a16-442e-af51-9ddd3a0f7d51",
   "metadata": {},
   "outputs": [],
   "source": [
    "from IPython.core.display import HTML\n",
    "display(HTML(\"<style>pre { white-space: pre !important; }</style>\"))"
   ]
  },
  {
   "cell_type": "code",
   "execution_count": null,
   "id": "0760c8c9-cad3-432e-b3f7-837d8b2e2aa8",
   "metadata": {
    "scrolled": true
   },
   "outputs": [],
   "source": [
    "import pyspark.sql.functions as f\n",
    "import pyspark.sql.types as t\n",
    "\n",
    "# Select\n",
    "\n",
    "resulted_df = contracts_df\\\n",
    "    .select(\n",
    "        f.col(\"cod_iuc\"), f.col(\"cod_titular\"), f.col(\"cod_producto\"),\n",
    "        f.col(\"activo\").cast(t.BooleanType()),\n",
    "        f.col(\"fec_alta\").cast(t.DateType()).alias(\"fec_alta_ini\"), \n",
    "        f.current_date().alias(\"actual_date\"),\n",
    "        f.round(f.rand(0) * f.lit(10)).cast(t.IntegerType()).alias(\"randm_num\"),\n",
    "        f.date_add(f.col(\"fec_alta_ini\"), f.col(\"randm_num\")).alias(\"fec_alta_fin\"),\n",
    "        f.datediff(f.col(\"fec_alta_fin\"), f.col(\"fec_alta_ini\")).alias(\"diff\"),\n",
    "        f.current_timestamp().alias(\"actual_timestamp\"),\n",
    "        f.current_timestamp().cast(t.LongType()).alias(\"actual_unix_timestamp\"),\n",
    "        f.lit(0).cast(t.TimestampType()).alias(\"first_timestamp\")\n",
    ")\n",
    "resulted_df.show(1, False)"
   ]
  },
  {
   "cell_type": "code",
   "execution_count": null,
   "id": "bd7d2ff6-06e1-4fe1-8727-02035d8f7815",
   "metadata": {},
   "outputs": [],
   "source": [
    "resulted2_df = resulted_df \\\n",
    "    .select(*resulted_df.columns,\n",
    "            f.split(f.col(\"actual_timestamp\"), \" \").alias(\"array\"),\n",
    "            f.split(f.col(\"actual_timestamp\"), \" \").getItem(0).alias(\"date\"),\n",
    "            f.split(f.col(\"actual_timestamp\"), \" \").getItem(1).alias(\"time\"),\n",
    "            f.explode(f.array(f.lit(1), f.lit(2), f.lit(3))).alias(\"explode\"),\n",
    "            f.regexp_replace(f.col(\"cod_iuc\"), f.lit(\"[1-9]$\"), f.lit(\"A\")).alias(\"replace\")\n",
    "           )\n",
    "\n",
    "resulted2_df.show(5, False)"
   ]
  },
  {
   "cell_type": "code",
   "execution_count": null,
   "id": "d4a8754e-8ee1-401b-b2d7-00063e6a09db",
   "metadata": {
    "scrolled": true
   },
   "outputs": [],
   "source": [
    "# select- when\n",
    "\n",
    "cond_1 = f.col(\"cod_producto\") <= 300 # baja\n",
    "cond_2 = f.col(\"cod_producto\") <= 600 # media\n",
    "cond_3 = f.col(\"cod_producto\") <= 1000 # alta\n",
    "\n",
    "cond_4 = (f.col(\"activo\") == f.lit(True)) & (f.col(\"calidad\").isin(\"alta\", \"muy alta\"))\n",
    "\n",
    "cond_5 = f.col(\"activo\") == f.lit(True)\n",
    "\n",
    "def diff(l1, l2):\n",
    "    return list(set(l1) - set(l2))\n",
    "\n",
    "resulted3_df = resulted2_df \\\n",
    "    .select(\n",
    "        *diff(resulted2_df.columns, [\"activo\"]),\n",
    "        f.when(cond_1, f.lit(\"baja\"))\n",
    "            .when(cond_2, f.lit(\"media\"))\n",
    "            .when(cond_3, f.lit(\"alta\"))\n",
    "            .otherwise(f.lit(\"muy alta\")).alias(\"calidad\"),\n",
    "        f.when(cond_4, f.lit(\"ok\")).alias(\"prioridad_alta\"),\n",
    "        f.when(cond_5, True).alias(\"activo\")\n",
    "    )\n",
    "\n",
    "resulted3_df.show(50, False)"
   ]
  },
  {
   "cell_type": "code",
   "execution_count": null,
   "id": "c41ac942-58bc-4b82-90a6-0506349588a2",
   "metadata": {},
   "outputs": [],
   "source": [
    "# where / filter\n",
    "resulted3_df \\\n",
    "    .filter(f.col(\"activo\").isNotNull()) \\\n",
    "    .filter(~f.col(\"cod_producto\").isin(\"100\", \"200\", \"150\", \"300\")) \\\n",
    "    .where(f.col(\"fec_alta_ini\").between(\"2014-02-01\", \"2018-10-01\")) \\\n",
    "    .where((f.col(\"calidad\") == \"media\") | (f.col(\"cod_titular\").isin(\"00006\", \"00001\"))) \\\n",
    "    .filter(f.col(\"cod_titular\").rlike(\"0000[1|5]\")) \\\n",
    "    .withColumn(\"prioridad_alta_2\", f.col(\"prioridad_alta\"))\\\n",
    "    .filter(f.col(\"prioridad_alta\").eqNullSafe(f.col(\"prioridad_alta_2\")))\\\n",
    "    .show()\n"
   ]
  },
  {
   "cell_type": "code",
   "execution_count": null,
   "id": "7a5561ac-6fef-4c93-92dc-507334cdd822",
   "metadata": {},
   "outputs": [],
   "source": []
  }
 ],
 "metadata": {
  "kernelspec": {
   "display_name": "Python 3 (ipykernel)",
   "language": "python",
   "name": "python3"
  },
  "language_info": {
   "codemirror_mode": {
    "name": "ipython",
    "version": 3
   },
   "file_extension": ".py",
   "mimetype": "text/x-python",
   "name": "python",
   "nbconvert_exporter": "python",
   "pygments_lexer": "ipython3",
   "version": "3.9.13"
  }
 },
 "nbformat": 4,
 "nbformat_minor": 5
}
