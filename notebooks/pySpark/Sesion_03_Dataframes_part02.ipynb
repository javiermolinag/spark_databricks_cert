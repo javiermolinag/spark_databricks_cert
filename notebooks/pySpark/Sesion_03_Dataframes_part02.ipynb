{
 "cells": [
  {
   "cell_type": "code",
   "execution_count": 1,
   "id": "5ef5556d-6dd3-4ee1-b73b-b3a035cc6374",
   "metadata": {},
   "outputs": [],
   "source": [
    "from pyspark.sql import SparkSession\n",
    "\n",
    "spark = SparkSession.builder \\\n",
    "        .appName(\"sesion_2\") \\\n",
    "        .master(\"local[*]\") \\\n",
    "        .getOrCreate()"
   ]
  },
  {
   "cell_type": "code",
   "execution_count": 2,
   "id": "c34412e5-7b29-4802-982c-1ce466e2fd26",
   "metadata": {},
   "outputs": [
    {
     "data": {
      "text/html": [
       "\n",
       "            <div>\n",
       "                <p><b>SparkSession - in-memory</b></p>\n",
       "                \n",
       "        <div>\n",
       "            <p><b>SparkContext</b></p>\n",
       "\n",
       "            <p><a href=\"http://23LAP5CD0176GH7:4040\">Spark UI</a></p>\n",
       "\n",
       "            <dl>\n",
       "              <dt>Version</dt>\n",
       "                <dd><code>v3.4.1</code></dd>\n",
       "              <dt>Master</dt>\n",
       "                <dd><code>local[*]</code></dd>\n",
       "              <dt>AppName</dt>\n",
       "                <dd><code>sesion_2</code></dd>\n",
       "            </dl>\n",
       "        </div>\n",
       "        \n",
       "            </div>\n",
       "        "
      ],
      "text/plain": [
       "<pyspark.sql.session.SparkSession at 0x1f45e9be700>"
      ]
     },
     "execution_count": 2,
     "metadata": {},
     "output_type": "execute_result"
    }
   ],
   "source": [
    "spark"
   ]
  },
  {
   "cell_type": "code",
   "execution_count": 3,
   "id": "3aa82da1-aca1-4f87-b9ab-55d221b93fd9",
   "metadata": {},
   "outputs": [],
   "source": [
    "contracts_df  = spark.read.option(\"header\",\"true\")\\\n",
    "        .option(\"delimiter\",\",\")\\\n",
    "        .option(\"inferSchema\",\"true\")\\\n",
    "        .csv(\"../../resources/data/csv/contracts.csv\")"
   ]
  },
  {
   "cell_type": "code",
   "execution_count": 4,
   "id": "d756e338-af61-4826-8c5c-d49d6cd9142f",
   "metadata": {},
   "outputs": [
    {
     "name": "stdout",
     "output_type": "stream",
     "text": [
      "+-------+-----------+------------+----------+------+\n",
      "|cod_iuc|cod_titular|cod_producto|  fec_alta|activo|\n",
      "+-------+-----------+------------+----------+------+\n",
      "|  30000|          6|         100|2012-05-01|  true|\n",
      "|  30001|          6|         200|2014-05-01|  true|\n",
      "+-------+-----------+------------+----------+------+\n",
      "only showing top 2 rows\n",
      "\n"
     ]
    }
   ],
   "source": [
    "contracts_df.show(2)"
   ]
  },
  {
   "cell_type": "code",
   "execution_count": 5,
   "id": "f53af712-281d-41fd-9e54-e40becdc2899",
   "metadata": {},
   "outputs": [
    {
     "name": "stdout",
     "output_type": "stream",
     "text": [
      "root\n",
      " |-- cod_iuc: integer (nullable = true)\n",
      " |-- cod_titular: integer (nullable = true)\n",
      " |-- cod_producto: integer (nullable = true)\n",
      " |-- fec_alta: date (nullable = true)\n",
      " |-- activo: boolean (nullable = true)\n",
      "\n"
     ]
    }
   ],
   "source": [
    "contracts_df.printSchema()"
   ]
  },
  {
   "cell_type": "markdown",
   "id": "45bc5992-93e6-48e0-a7e3-d8cb916f0d89",
   "metadata": {},
   "source": [
    "#### - Clase Column\n",
    "#### - Package Types\n",
    "#### - Object functions\n",
    "#### - Clase Dataframe"
   ]
  },
  {
   "cell_type": "markdown",
   "id": "14271256-3444-44f7-8a0e-667a88a7ae58",
   "metadata": {},
   "source": [
    "### Transformaciones"
   ]
  },
  {
   "cell_type": "code",
   "execution_count": 6,
   "id": "2428f654-8fe8-4275-ae1e-497bef4730b4",
   "metadata": {},
   "outputs": [],
   "source": [
    "import pyspark.sql.functions as f\n",
    "import pyspark.sql.types as t\n",
    "\n",
    "resulted_df = contracts_df \\\n",
    "    .withColumnRenamed(\"fec_alta\", \"fec_alta_ini\")\\\n",
    "    .withColumn(\"actual_date\", f.current_date())\\\n",
    "    .withColumn(\"randm_num\", f.round(f.rand(0) * f.lit(10)).cast(t.IntegerType()))\\\n",
    "    .withColumn(\"fec_alta_fin\", f.date_add(f.col(\"fec_alta_ini\"), f.col(\"randm_num\"))) \\\n",
    "    .withColumn(\"diff\", f.datediff(f.col(\"fec_alta_fin\"), f.col(\"fec_alta_ini\"))) \\\n",
    "    .drop(\"randm_num\")"
   ]
  },
  {
   "cell_type": "markdown",
   "id": "9d24ce36-b4a1-4631-bd97-fb6bff7f1ceb",
   "metadata": {},
   "source": [
    "### Acciones"
   ]
  },
  {
   "cell_type": "code",
   "execution_count": 7,
   "id": "9f26704f-8360-4f53-8e25-78c15a871ebf",
   "metadata": {},
   "outputs": [
    {
     "name": "stdout",
     "output_type": "stream",
     "text": [
      "+-------+-----------+------------+------------+------+-----------+------------+----+\n",
      "|cod_iuc|cod_titular|cod_producto|fec_alta_ini|activo|actual_date|fec_alta_fin|diff|\n",
      "+-------+-----------+------------+------------+------+-----------+------------+----+\n",
      "|  30000|          6|         100|  2012-05-01|  true| 2024-01-16|  2012-05-09|   8|\n",
      "|  30001|          6|         200|  2014-05-01|  true| 2024-01-16|  2014-05-06|   5|\n",
      "+-------+-----------+------------+------------+------+-----------+------------+----+\n",
      "only showing top 2 rows\n",
      "\n"
     ]
    }
   ],
   "source": [
    "resulted_df.show(2)"
   ]
  },
  {
   "cell_type": "code",
   "execution_count": 8,
   "id": "35a1a804-85e0-4197-8a22-da504aaf3814",
   "metadata": {},
   "outputs": [
    {
     "data": {
      "text/plain": [
       "32"
      ]
     },
     "execution_count": 8,
     "metadata": {},
     "output_type": "execute_result"
    }
   ],
   "source": [
    "resulted_df.count()"
   ]
  },
  {
   "cell_type": "code",
   "execution_count": 9,
   "id": "d00947a3-c2d8-4e0a-a52c-e25ed99842a1",
   "metadata": {
    "scrolled": true
   },
   "outputs": [
    {
     "data": {
      "text/plain": [
       "[Row(cod_iuc=30000, cod_titular=6, cod_producto=100, fec_alta_ini=datetime.date(2012, 5, 1), activo=True, actual_date=datetime.date(2024, 1, 16), fec_alta_fin=datetime.date(2012, 5, 9), diff=8),\n",
       " Row(cod_iuc=30001, cod_titular=6, cod_producto=200, fec_alta_ini=datetime.date(2014, 5, 1), activo=True, actual_date=datetime.date(2024, 1, 16), fec_alta_fin=datetime.date(2014, 5, 6), diff=5),\n",
       " Row(cod_iuc=30002, cod_titular=6, cod_producto=300, fec_alta_ini=datetime.date(2006, 2, 1), activo=False, actual_date=datetime.date(2024, 1, 16), fec_alta_fin=datetime.date(2006, 2, 2), diff=1),\n",
       " Row(cod_iuc=30003, cod_titular=6, cod_producto=150, fec_alta_ini=datetime.date(2012, 5, 1), activo=True, actual_date=datetime.date(2024, 1, 16), fec_alta_fin=datetime.date(2012, 5, 4), diff=3),\n",
       " Row(cod_iuc=30002, cod_titular=5, cod_producto=300, fec_alta_ini=datetime.date(2012, 5, 1), activo=True, actual_date=datetime.date(2024, 1, 16), fec_alta_fin=datetime.date(2012, 5, 8), diff=7),\n",
       " Row(cod_iuc=30004, cod_titular=6, cod_producto=400, fec_alta_ini=datetime.date(2012, 5, 1), activo=False, actual_date=datetime.date(2024, 1, 16), fec_alta_fin=datetime.date(2012, 5, 4), diff=3),\n",
       " Row(cod_iuc=30005, cod_titular=6, cod_producto=500, fec_alta_ini=datetime.date(2012, 5, 1), activo=True, actual_date=datetime.date(2024, 1, 16), fec_alta_fin=datetime.date(2012, 5, 3), diff=2),\n",
       " Row(cod_iuc=30006, cod_titular=6, cod_producto=600, fec_alta_ini=datetime.date(2012, 5, 1), activo=False, actual_date=datetime.date(2024, 1, 16), fec_alta_fin=datetime.date(2012, 5, 7), diff=6),\n",
       " Row(cod_iuc=30003, cod_titular=3, cod_producto=150, fec_alta_ini=datetime.date(2019, 10, 14), activo=True, actual_date=datetime.date(2024, 1, 16), fec_alta_fin=datetime.date(2019, 10, 21), diff=7),\n",
       " Row(cod_iuc=30007, cod_titular=6, cod_producto=700, fec_alta_ini=datetime.date(2014, 2, 1), activo=False, actual_date=datetime.date(2024, 1, 16), fec_alta_fin=datetime.date(2014, 2, 1), diff=0),\n",
       " Row(cod_iuc=30008, cod_titular=6, cod_producto=800, fec_alta_ini=datetime.date(2012, 5, 1), activo=True, actual_date=datetime.date(2024, 1, 16), fec_alta_fin=datetime.date(2012, 5, 3), diff=2),\n",
       " Row(cod_iuc=30009, cod_titular=6, cod_producto=900, fec_alta_ini=datetime.date(2015, 9, 1), activo=True, actual_date=datetime.date(2024, 1, 16), fec_alta_fin=datetime.date(2015, 9, 7), diff=6),\n",
       " Row(cod_iuc=30009, cod_titular=2, cod_producto=900, fec_alta_ini=datetime.date(2009, 10, 1), activo=True, actual_date=datetime.date(2024, 1, 16), fec_alta_fin=datetime.date(2009, 10, 5), diff=4),\n",
       " Row(cod_iuc=30010, cod_titular=6, cod_producto=1000, fec_alta_ini=datetime.date(2014, 2, 1), activo=True, actual_date=datetime.date(2024, 1, 16), fec_alta_fin=datetime.date(2014, 2, 6), diff=5),\n",
       " Row(cod_iuc=30003, cod_titular=2, cod_producto=150, fec_alta_ini=datetime.date(2018, 9, 18), activo=True, actual_date=datetime.date(2024, 1, 16), fec_alta_fin=datetime.date(2018, 9, 22), diff=4),\n",
       " Row(cod_iuc=30011, cod_titular=3, cod_producto=1100, fec_alta_ini=datetime.date(2018, 10, 1), activo=True, actual_date=datetime.date(2024, 1, 16), fec_alta_fin=datetime.date(2018, 10, 4), diff=3),\n",
       " Row(cod_iuc=30007, cod_titular=6, cod_producto=700, fec_alta_ini=datetime.date(2012, 5, 1), activo=True, actual_date=datetime.date(2024, 1, 16), fec_alta_fin=datetime.date(2012, 5, 2), diff=1),\n",
       " Row(cod_iuc=30007, cod_titular=2, cod_producto=700, fec_alta_ini=datetime.date(2015, 5, 15), activo=True, actual_date=datetime.date(2024, 1, 16), fec_alta_fin=datetime.date(2015, 5, 20), diff=5),\n",
       " Row(cod_iuc=30002, cod_titular=7, cod_producto=300, fec_alta_ini=datetime.date(2001, 4, 11), activo=False, actual_date=datetime.date(2024, 1, 16), fec_alta_fin=datetime.date(2001, 4, 17), diff=6),\n",
       " Row(cod_iuc=30001, cod_titular=4, cod_producto=200, fec_alta_ini=datetime.date(2017, 12, 1), activo=True, actual_date=datetime.date(2024, 1, 16), fec_alta_fin=datetime.date(2017, 12, 3), diff=2),\n",
       " Row(cod_iuc=30001, cod_titular=5, cod_producto=200, fec_alta_ini=datetime.date(2019, 11, 10), activo=True, actual_date=datetime.date(2024, 1, 16), fec_alta_fin=datetime.date(2019, 11, 19), diff=9),\n",
       " Row(cod_iuc=30005, cod_titular=1, cod_producto=500, fec_alta_ini=datetime.date(2007, 3, 22), activo=True, actual_date=datetime.date(2024, 1, 16), fec_alta_fin=datetime.date(2007, 3, 31), diff=9),\n",
       " Row(cod_iuc=30007, cod_titular=1, cod_producto=700, fec_alta_ini=datetime.date(2016, 7, 1), activo=True, actual_date=datetime.date(2024, 1, 16), fec_alta_fin=datetime.date(2016, 7, 3), diff=2),\n",
       " Row(cod_iuc=30007, cod_titular=2, cod_producto=600, fec_alta_ini=datetime.date(2020, 4, 1), activo=True, actual_date=datetime.date(2024, 1, 16), fec_alta_fin=datetime.date(2020, 4, 3), diff=2),\n",
       " Row(cod_iuc=30003, cod_titular=1, cod_producto=150, fec_alta_ini=datetime.date(2016, 5, 1), activo=True, actual_date=datetime.date(2024, 1, 16), fec_alta_fin=datetime.date(2016, 5, 3), diff=2),\n",
       " Row(cod_iuc=30003, cod_titular=4, cod_producto=150, fec_alta_ini=datetime.date(2020, 3, 1), activo=True, actual_date=datetime.date(2024, 1, 16), fec_alta_fin=datetime.date(2020, 3, 8), diff=7),\n",
       " Row(cod_iuc=30006, cod_titular=5, cod_producto=600, fec_alta_ini=datetime.date(2016, 12, 10), activo=True, actual_date=datetime.date(2024, 1, 16), fec_alta_fin=datetime.date(2016, 12, 10), diff=0),\n",
       " Row(cod_iuc=30000, cod_titular=5, cod_producto=100, fec_alta_ini=datetime.date(2015, 5, 25), activo=True, actual_date=datetime.date(2024, 1, 16), fec_alta_fin=datetime.date(2015, 5, 30), diff=5),\n",
       " Row(cod_iuc=30008, cod_titular=7, cod_producto=800, fec_alta_ini=datetime.date(2004, 9, 1), activo=True, actual_date=datetime.date(2024, 1, 16), fec_alta_fin=datetime.date(2004, 9, 10), diff=9),\n",
       " Row(cod_iuc=30008, cod_titular=2, cod_producto=800, fec_alta_ini=datetime.date(2014, 3, 21), activo=True, actual_date=datetime.date(2024, 1, 16), fec_alta_fin=datetime.date(2014, 3, 29), diff=8),\n",
       " Row(cod_iuc=30004, cod_titular=2, cod_producto=400, fec_alta_ini=datetime.date(2008, 2, 1), activo=False, actual_date=datetime.date(2024, 1, 16), fec_alta_fin=datetime.date(2008, 2, 10), diff=9),\n",
       " Row(cod_iuc=30010, cod_titular=7, cod_producto=1000, fec_alta_ini=datetime.date(2014, 8, 1), activo=False, actual_date=datetime.date(2024, 1, 16), fec_alta_fin=datetime.date(2014, 8, 8), diff=7)]"
      ]
     },
     "execution_count": 9,
     "metadata": {},
     "output_type": "execute_result"
    }
   ],
   "source": [
    "resulted_df.collect() ## WARNING"
   ]
  },
  {
   "cell_type": "code",
   "execution_count": 10,
   "id": "cb8bb464-8bb9-40ac-a92f-55a03fbcb539",
   "metadata": {},
   "outputs": [
    {
     "data": {
      "text/plain": [
       "False"
      ]
     },
     "execution_count": 10,
     "metadata": {},
     "output_type": "execute_result"
    }
   ],
   "source": [
    "resulted_df.isEmpty()"
   ]
  },
  {
   "cell_type": "code",
   "execution_count": 11,
   "id": "52c841b1-8727-4f6e-9cb0-e9427291f047",
   "metadata": {},
   "outputs": [
    {
     "data": {
      "text/plain": [
       "[Row(cod_iuc=30000, cod_titular=6, cod_producto=100, fec_alta_ini=datetime.date(2012, 5, 1), activo=True, actual_date=datetime.date(2024, 1, 16), fec_alta_fin=datetime.date(2012, 5, 9), diff=8),\n",
       " Row(cod_iuc=30001, cod_titular=6, cod_producto=200, fec_alta_ini=datetime.date(2014, 5, 1), activo=True, actual_date=datetime.date(2024, 1, 16), fec_alta_fin=datetime.date(2014, 5, 6), diff=5),\n",
       " Row(cod_iuc=30002, cod_titular=6, cod_producto=300, fec_alta_ini=datetime.date(2006, 2, 1), activo=False, actual_date=datetime.date(2024, 1, 16), fec_alta_fin=datetime.date(2006, 2, 2), diff=1),\n",
       " Row(cod_iuc=30003, cod_titular=6, cod_producto=150, fec_alta_ini=datetime.date(2012, 5, 1), activo=True, actual_date=datetime.date(2024, 1, 16), fec_alta_fin=datetime.date(2012, 5, 4), diff=3)]"
      ]
     },
     "execution_count": 11,
     "metadata": {},
     "output_type": "execute_result"
    }
   ],
   "source": [
    "#first() -> primer elemento del df -> head()\n",
    "#head(n) -> primer N-elementos del df -> take(n)\n",
    "#take -> primer N-elementos del df -> limit().collect()\n",
    "\n",
    "resulted_df.take(4)"
   ]
  },
  {
   "cell_type": "code",
   "execution_count": 12,
   "id": "766faf92-7ab8-4178-abc6-ee64e043e7ff",
   "metadata": {},
   "outputs": [
    {
     "data": {
      "text/plain": [
       "[Row(cod_iuc=30008, cod_titular=7, cod_producto=800, fec_alta_ini=datetime.date(2004, 9, 1), activo=True, actual_date=datetime.date(2024, 1, 16), fec_alta_fin=datetime.date(2004, 9, 10), diff=9),\n",
       " Row(cod_iuc=30008, cod_titular=2, cod_producto=800, fec_alta_ini=datetime.date(2014, 3, 21), activo=True, actual_date=datetime.date(2024, 1, 16), fec_alta_fin=datetime.date(2014, 3, 29), diff=8),\n",
       " Row(cod_iuc=30004, cod_titular=2, cod_producto=400, fec_alta_ini=datetime.date(2008, 2, 1), activo=False, actual_date=datetime.date(2024, 1, 16), fec_alta_fin=datetime.date(2008, 2, 10), diff=9),\n",
       " Row(cod_iuc=30010, cod_titular=7, cod_producto=1000, fec_alta_ini=datetime.date(2014, 8, 1), activo=False, actual_date=datetime.date(2024, 1, 16), fec_alta_fin=datetime.date(2014, 8, 8), diff=7)]"
      ]
     },
     "execution_count": 12,
     "metadata": {},
     "output_type": "execute_result"
    }
   ],
   "source": [
    "resulted_df.tail(4)"
   ]
  },
  {
   "cell_type": "code",
   "execution_count": 13,
   "id": "966364aa-c79a-4851-8af6-83fdb7cb3f19",
   "metadata": {},
   "outputs": [
    {
     "name": "stdout",
     "output_type": "stream",
     "text": [
      "+-------+------------------+------------------+\n",
      "|summary|           cod_iuc|       cod_titular|\n",
      "+-------+------------------+------------------+\n",
      "|  count|                32|                32|\n",
      "|   mean|        30005.0625|            4.4375|\n",
      "| stddev|3.1819805153393363|2.0150642349482912|\n",
      "|    min|             30000|                 1|\n",
      "|    max|             30011|                 7|\n",
      "+-------+------------------+------------------+\n",
      "\n"
     ]
    }
   ],
   "source": [
    "resulted_df.describe(\"cod_iuc\",\"cod_titular\").show()"
   ]
  },
  {
   "cell_type": "code",
   "execution_count": 14,
   "id": "b2f7cf17-b161-46f0-bd43-5df56430f81e",
   "metadata": {},
   "outputs": [
    {
     "name": "stdout",
     "output_type": "stream",
     "text": [
      "+-------+------------------+------------------+-----------------+------------------+\n",
      "|summary|           cod_iuc|       cod_titular|     cod_producto|              diff|\n",
      "+-------+------------------+------------------+-----------------+------------------+\n",
      "|  count|                32|                32|               32|                32|\n",
      "| stddev|3.1819805153393363|2.0150642349482912|310.1402843355599|2.8239685527811345|\n",
      "+-------+------------------+------------------+-----------------+------------------+\n",
      "\n"
     ]
    }
   ],
   "source": [
    "resulted_df.summary(\"count\", \"stddev\").show()"
   ]
  },
  {
   "cell_type": "markdown",
   "id": "23e924e8-7bad-457e-bf7a-80195331d5f9",
   "metadata": {},
   "source": [
    "### Functions"
   ]
  },
  {
   "cell_type": "code",
   "execution_count": 15,
   "id": "9f1d4ff1-2125-4597-a4ba-558129f12c28",
   "metadata": {},
   "outputs": [
    {
     "data": {
      "text/plain": [
       "['cod_iuc',\n",
       " 'cod_titular',\n",
       " 'cod_producto',\n",
       " 'fec_alta_ini',\n",
       " 'activo',\n",
       " 'actual_date',\n",
       " 'fec_alta_fin',\n",
       " 'diff']"
      ]
     },
     "execution_count": 15,
     "metadata": {},
     "output_type": "execute_result"
    }
   ],
   "source": [
    "resulted_df.columns"
   ]
  },
  {
   "cell_type": "code",
   "execution_count": 16,
   "id": "53dc2b11-5ba9-40d1-a01a-369f1351acfb",
   "metadata": {},
   "outputs": [
    {
     "name": "stdout",
     "output_type": "stream",
     "text": [
      "root\n",
      " |-- cod_iuc: integer (nullable = true)\n",
      " |-- cod_titular: integer (nullable = true)\n",
      " |-- cod_producto: integer (nullable = true)\n",
      " |-- fec_alta_ini: date (nullable = true)\n",
      " |-- activo: boolean (nullable = true)\n",
      " |-- actual_date: date (nullable = false)\n",
      " |-- fec_alta_fin: date (nullable = true)\n",
      " |-- diff: integer (nullable = true)\n",
      "\n"
     ]
    }
   ],
   "source": [
    "resulted_df.printSchema()"
   ]
  },
  {
   "cell_type": "code",
   "execution_count": 17,
   "id": "7a2533b5-57a3-4bf5-8849-85d1d225cde8",
   "metadata": {},
   "outputs": [
    {
     "data": {
      "text/plain": [
       "StructType([StructField('cod_iuc', IntegerType(), True), StructField('cod_titular', IntegerType(), True), StructField('cod_producto', IntegerType(), True), StructField('fec_alta_ini', DateType(), True), StructField('activo', BooleanType(), True), StructField('actual_date', DateType(), False), StructField('fec_alta_fin', DateType(), True), StructField('diff', IntegerType(), True)])"
      ]
     },
     "execution_count": 17,
     "metadata": {},
     "output_type": "execute_result"
    }
   ],
   "source": [
    "resulted_df.schema"
   ]
  },
  {
   "cell_type": "code",
   "execution_count": 18,
   "id": "a00528c1-94c2-426d-b93a-5e468760af28",
   "metadata": {},
   "outputs": [
    {
     "data": {
      "text/plain": [
       "[('cod_iuc', 'int'),\n",
       " ('cod_titular', 'int'),\n",
       " ('cod_producto', 'int'),\n",
       " ('fec_alta_ini', 'date'),\n",
       " ('activo', 'boolean'),\n",
       " ('actual_date', 'date'),\n",
       " ('fec_alta_fin', 'date'),\n",
       " ('diff', 'int')]"
      ]
     },
     "execution_count": 18,
     "metadata": {},
     "output_type": "execute_result"
    }
   ],
   "source": [
    "resulted_df.dtypes"
   ]
  },
  {
   "cell_type": "code",
   "execution_count": 19,
   "id": "a23905d2-10d0-4701-91f7-cb2eb314a7eb",
   "metadata": {},
   "outputs": [],
   "source": [
    "resulted_df.rdd.foreach(print)"
   ]
  },
  {
   "cell_type": "code",
   "execution_count": 20,
   "id": "ed78b94b-c226-45e5-a790-3f0da5683ca3",
   "metadata": {
    "scrolled": true
   },
   "outputs": [
    {
     "name": "stdout",
     "output_type": "stream",
     "text": [
      "== Parsed Logical Plan ==\n",
      "Project [cod_iuc#17, cod_titular#18, cod_producto#19, fec_alta_ini#54, activo#21, actual_date#60, fec_alta_fin#75, diff#84]\n",
      "+- Project [cod_iuc#17, cod_titular#18, cod_producto#19, fec_alta_ini#54, activo#21, actual_date#60, randm_num#67, fec_alta_fin#75, datediff(fec_alta_fin#75, fec_alta_ini#54) AS diff#84]\n",
      "   +- Project [cod_iuc#17, cod_titular#18, cod_producto#19, fec_alta_ini#54, activo#21, actual_date#60, randm_num#67, date_add(fec_alta_ini#54, randm_num#67) AS fec_alta_fin#75]\n",
      "      +- Project [cod_iuc#17, cod_titular#18, cod_producto#19, fec_alta_ini#54, activo#21, actual_date#60, cast(round((rand(0) * cast(10 as double)), 0) as int) AS randm_num#67]\n",
      "         +- Project [cod_iuc#17, cod_titular#18, cod_producto#19, fec_alta_ini#54, activo#21, current_date(Some(GMT-06:00)) AS actual_date#60]\n",
      "            +- Project [cod_iuc#17, cod_titular#18, cod_producto#19, fec_alta#20 AS fec_alta_ini#54, activo#21]\n",
      "               +- Relation [cod_iuc#17,cod_titular#18,cod_producto#19,fec_alta#20,activo#21] csv\n",
      "\n",
      "== Analyzed Logical Plan ==\n",
      "cod_iuc: int, cod_titular: int, cod_producto: int, fec_alta_ini: date, activo: boolean, actual_date: date, fec_alta_fin: date, diff: int\n",
      "Project [cod_iuc#17, cod_titular#18, cod_producto#19, fec_alta_ini#54, activo#21, actual_date#60, fec_alta_fin#75, diff#84]\n",
      "+- Project [cod_iuc#17, cod_titular#18, cod_producto#19, fec_alta_ini#54, activo#21, actual_date#60, randm_num#67, fec_alta_fin#75, datediff(fec_alta_fin#75, fec_alta_ini#54) AS diff#84]\n",
      "   +- Project [cod_iuc#17, cod_titular#18, cod_producto#19, fec_alta_ini#54, activo#21, actual_date#60, randm_num#67, date_add(fec_alta_ini#54, randm_num#67) AS fec_alta_fin#75]\n",
      "      +- Project [cod_iuc#17, cod_titular#18, cod_producto#19, fec_alta_ini#54, activo#21, actual_date#60, cast(round((rand(0) * cast(10 as double)), 0) as int) AS randm_num#67]\n",
      "         +- Project [cod_iuc#17, cod_titular#18, cod_producto#19, fec_alta_ini#54, activo#21, current_date(Some(GMT-06:00)) AS actual_date#60]\n",
      "            +- Project [cod_iuc#17, cod_titular#18, cod_producto#19, fec_alta#20 AS fec_alta_ini#54, activo#21]\n",
      "               +- Relation [cod_iuc#17,cod_titular#18,cod_producto#19,fec_alta#20,activo#21] csv\n",
      "\n",
      "== Optimized Logical Plan ==\n",
      "Project [cod_iuc#17, cod_titular#18, cod_producto#19, fec_alta_ini#54, activo#21, 2024-01-16 AS actual_date#60, fec_alta_fin#75, datediff(fec_alta_fin#75, fec_alta_ini#54) AS diff#84]\n",
      "+- Project [cod_iuc#17, cod_titular#18, cod_producto#19, fec_alta_ini#54, activo#21, date_add(fec_alta_ini#54, randm_num#67) AS fec_alta_fin#75]\n",
      "   +- Project [cod_iuc#17, cod_titular#18, cod_producto#19, fec_alta#20 AS fec_alta_ini#54, activo#21, cast(round((rand(0) * 10.0), 0) as int) AS randm_num#67]\n",
      "      +- Relation [cod_iuc#17,cod_titular#18,cod_producto#19,fec_alta#20,activo#21] csv\n",
      "\n",
      "== Physical Plan ==\n",
      "*(1) Project [cod_iuc#17, cod_titular#18, cod_producto#19, fec_alta_ini#54, activo#21, 2024-01-16 AS actual_date#60, fec_alta_fin#75, datediff(fec_alta_fin#75, fec_alta_ini#54) AS diff#84]\n",
      "+- *(1) Project [cod_iuc#17, cod_titular#18, cod_producto#19, fec_alta_ini#54, activo#21, date_add(fec_alta_ini#54, randm_num#67) AS fec_alta_fin#75]\n",
      "   +- *(1) Project [cod_iuc#17, cod_titular#18, cod_producto#19, fec_alta#20 AS fec_alta_ini#54, activo#21, cast(round((rand(0) * 10.0), 0) as int) AS randm_num#67]\n",
      "      +- FileScan csv [cod_iuc#17,cod_titular#18,cod_producto#19,fec_alta#20,activo#21] Batched: false, DataFilters: [], Format: CSV, Location: InMemoryFileIndex(1 paths)[file:/C:/Users/Administrador/Documents/curso_pyspark/spark_databricks_..., PartitionFilters: [], PushedFilters: [], ReadSchema: struct<cod_iuc:int,cod_titular:int,cod_producto:int,fec_alta:date,activo:boolean>\n",
      "\n"
     ]
    }
   ],
   "source": [
    "resulted_df.explain(True)"
   ]
  },
  {
   "cell_type": "code",
   "execution_count": null,
   "id": "3ea8edc1-7ad4-4781-9194-d0d8ef2f7ec3",
   "metadata": {},
   "outputs": [],
   "source": []
  },
  {
   "cell_type": "code",
   "execution_count": null,
   "id": "8ed0e4c5-f08b-4f9a-8f53-09d96b5c80cc",
   "metadata": {},
   "outputs": [],
   "source": []
  },
  {
   "cell_type": "code",
   "execution_count": null,
   "id": "d5f98fbf-c6ad-4d70-b9fd-06d644b6c556",
   "metadata": {},
   "outputs": [],
   "source": []
  },
  {
   "cell_type": "code",
   "execution_count": null,
   "id": "7a1cfdd0-70fb-4b77-8e3d-0d158b509c58",
   "metadata": {},
   "outputs": [],
   "source": []
  },
  {
   "cell_type": "code",
   "execution_count": null,
   "id": "6acbd888-2941-41a0-8a2b-61f963d397f3",
   "metadata": {},
   "outputs": [],
   "source": []
  },
  {
   "cell_type": "code",
   "execution_count": null,
   "id": "e529728d-3d3a-4e7b-9873-143daadf3562",
   "metadata": {},
   "outputs": [],
   "source": []
  }
 ],
 "metadata": {
  "kernelspec": {
   "display_name": "Python 3 (ipykernel)",
   "language": "python",
   "name": "python3"
  },
  "language_info": {
   "codemirror_mode": {
    "name": "ipython",
    "version": 3
   },
   "file_extension": ".py",
   "mimetype": "text/x-python",
   "name": "python",
   "nbconvert_exporter": "python",
   "pygments_lexer": "ipython3",
   "version": "3.9.13"
  }
 },
 "nbformat": 4,
 "nbformat_minor": 5
}
