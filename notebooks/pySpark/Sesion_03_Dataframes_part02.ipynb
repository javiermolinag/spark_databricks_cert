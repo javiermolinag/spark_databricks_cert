{
 "cells": [
  {
   "cell_type": "code",
   "execution_count": null,
   "id": "5ef5556d-6dd3-4ee1-b73b-b3a035cc6374",
   "metadata": {},
   "outputs": [],
   "source": [
    "from pyspark.sql import SparkSession\n",
    "\n",
    "spark = SparkSession.builder \\\n",
    "        .appName(\"sesion_2\") \\\n",
    "        .master(\"local[*]\") \\\n",
    "        .getOrCreate()"
   ]
  },
  {
   "cell_type": "code",
   "execution_count": null,
   "id": "c34412e5-7b29-4802-982c-1ce466e2fd26",
   "metadata": {},
   "outputs": [],
   "source": [
    "spark"
   ]
  },
  {
   "cell_type": "code",
   "execution_count": null,
   "id": "3aa82da1-aca1-4f87-b9ab-55d221b93fd9",
   "metadata": {},
   "outputs": [],
   "source": [
    "contracts_df  = spark.read.option(\"header\",\"true\")\\\n",
    "        .option(\"delimiter\",\",\")\\\n",
    "        .option(\"inferSchema\",\"true\")\\\n",
    "        .csv(\"../../resources/data/csv/contracts.csv\")"
   ]
  },
  {
   "cell_type": "code",
   "execution_count": null,
   "id": "d756e338-af61-4826-8c5c-d49d6cd9142f",
   "metadata": {},
   "outputs": [],
   "source": [
    "contracts_df.show(2)"
   ]
  },
  {
   "cell_type": "code",
   "execution_count": null,
   "id": "f53af712-281d-41fd-9e54-e40becdc2899",
   "metadata": {},
   "outputs": [],
   "source": [
    "contracts_df.printSchema()"
   ]
  },
  {
   "cell_type": "markdown",
   "id": "45bc5992-93e6-48e0-a7e3-d8cb916f0d89",
   "metadata": {},
   "source": [
    "#### - Clase Column\n",
    "#### - Package Types\n",
    "#### - Object functions\n",
    "#### - Clase Dataframe"
   ]
  },
  {
   "cell_type": "markdown",
   "id": "14271256-3444-44f7-8a0e-667a88a7ae58",
   "metadata": {},
   "source": [
    "### Transformaciones"
   ]
  },
  {
   "cell_type": "code",
   "execution_count": null,
   "id": "2428f654-8fe8-4275-ae1e-497bef4730b4",
   "metadata": {},
   "outputs": [],
   "source": [
    "import pyspark.sql.functions as f\n",
    "import pyspark.sql.types as t\n",
    "\n",
    "resulted_df = contracts_df \\\n",
    "    .withColumnRenamed(\"fec_alta\", \"fec_alta_ini\")\\\n",
    "    .withColumn(\"actual_date\", f.current_date())\\\n",
    "    .withColumn(\"randm_num\", f.round(f.rand(0) * f.lit(10)).cast(t.IntegerType()))\\\n",
    "    .withColumn(\"fec_alta_fin\", f.date_add(f.col(\"fec_alta_ini\"), f.col(\"randm_num\"))) \\\n",
    "    .withColumn(\"diff\", f.datediff(f.col(\"fec_alta_fin\"), f.col(\"fec_alta_ini\"))) \\\n",
    "    .drop(\"randm_num\")"
   ]
  },
  {
   "cell_type": "markdown",
   "id": "9d24ce36-b4a1-4631-bd97-fb6bff7f1ceb",
   "metadata": {},
   "source": [
    "### Acciones"
   ]
  },
  {
   "cell_type": "code",
   "execution_count": null,
   "id": "9f26704f-8360-4f53-8e25-78c15a871ebf",
   "metadata": {},
   "outputs": [],
   "source": [
    "resulted_df.show(2)"
   ]
  },
  {
   "cell_type": "code",
   "execution_count": null,
   "id": "35a1a804-85e0-4197-8a22-da504aaf3814",
   "metadata": {},
   "outputs": [],
   "source": [
    "resulted_df.count()"
   ]
  },
  {
   "cell_type": "code",
   "execution_count": null,
   "id": "d00947a3-c2d8-4e0a-a52c-e25ed99842a1",
   "metadata": {
    "scrolled": true
   },
   "outputs": [],
   "source": [
    "resulted_df.collect() ## WARNING"
   ]
  },
  {
   "cell_type": "code",
   "execution_count": null,
   "id": "cb8bb464-8bb9-40ac-a92f-55a03fbcb539",
   "metadata": {},
   "outputs": [],
   "source": [
    "resulted_df.isEmpty()"
   ]
  },
  {
   "cell_type": "code",
   "execution_count": null,
   "id": "52c841b1-8727-4f6e-9cb0-e9427291f047",
   "metadata": {},
   "outputs": [],
   "source": [
    "#first() -> primer elemento del df -> head()\n",
    "#head(n) -> primer N-elementos del df -> take(n)\n",
    "#take -> primer N-elementos del df -> limit().collect()\n",
    "\n",
    "resulted_df.take(4)"
   ]
  },
  {
   "cell_type": "code",
   "execution_count": null,
   "id": "766faf92-7ab8-4178-abc6-ee64e043e7ff",
   "metadata": {},
   "outputs": [],
   "source": [
    "resulted_df.tail(4)"
   ]
  },
  {
   "cell_type": "code",
   "execution_count": null,
   "id": "966364aa-c79a-4851-8af6-83fdb7cb3f19",
   "metadata": {},
   "outputs": [],
   "source": [
    "resulted_df.describe(\"cod_iuc\",\"cod_titular\").show()"
   ]
  },
  {
   "cell_type": "code",
   "execution_count": null,
   "id": "b2f7cf17-b161-46f0-bd43-5df56430f81e",
   "metadata": {},
   "outputs": [],
   "source": [
    "resulted_df.summary(\"count\", \"stddev\").show()"
   ]
  },
  {
   "cell_type": "markdown",
   "id": "23e924e8-7bad-457e-bf7a-80195331d5f9",
   "metadata": {},
   "source": [
    "### Functions"
   ]
  },
  {
   "cell_type": "code",
   "execution_count": null,
   "id": "9f1d4ff1-2125-4597-a4ba-558129f12c28",
   "metadata": {},
   "outputs": [],
   "source": [
    "resulted_df.columns"
   ]
  },
  {
   "cell_type": "code",
   "execution_count": null,
   "id": "53dc2b11-5ba9-40d1-a01a-369f1351acfb",
   "metadata": {},
   "outputs": [],
   "source": [
    "resulted_df.printSchema()"
   ]
  },
  {
   "cell_type": "code",
   "execution_count": null,
   "id": "7a2533b5-57a3-4bf5-8849-85d1d225cde8",
   "metadata": {},
   "outputs": [],
   "source": [
    "resulted_df.schema"
   ]
  },
  {
   "cell_type": "code",
   "execution_count": null,
   "id": "a00528c1-94c2-426d-b93a-5e468760af28",
   "metadata": {},
   "outputs": [],
   "source": [
    "resulted_df.dtypes"
   ]
  },
  {
   "cell_type": "code",
   "execution_count": null,
   "id": "a23905d2-10d0-4701-91f7-cb2eb314a7eb",
   "metadata": {},
   "outputs": [],
   "source": [
    "resulted_df.rdd.foreach(print)"
   ]
  },
  {
   "cell_type": "code",
   "execution_count": null,
   "id": "ed78b94b-c226-45e5-a790-3f0da5683ca3",
   "metadata": {
    "scrolled": true
   },
   "outputs": [],
   "source": [
    "resulted_df.explain(True)"
   ]
  },
  {
   "cell_type": "code",
   "execution_count": null,
   "id": "e529728d-3d3a-4e7b-9873-143daadf3562",
   "metadata": {},
   "outputs": [],
   "source": []
  }
 ],
 "metadata": {
  "kernelspec": {
   "display_name": "Python 3 (ipykernel)",
   "language": "python",
   "name": "python3"
  },
  "language_info": {
   "codemirror_mode": {
    "name": "ipython",
    "version": 3
   },
   "file_extension": ".py",
   "mimetype": "text/x-python",
   "name": "python",
   "nbconvert_exporter": "python",
   "pygments_lexer": "ipython3",
   "version": "3.9.13"
  }
 },
 "nbformat": 4,
 "nbformat_minor": 5
}
