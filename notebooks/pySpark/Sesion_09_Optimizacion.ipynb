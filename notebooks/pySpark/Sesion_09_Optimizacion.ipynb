{
 "cells": [
  {
   "cell_type": "code",
   "execution_count": null,
   "id": "6956efa9-7ad7-4446-94c1-e2c207fcf290",
   "metadata": {},
   "outputs": [],
   "source": [
    "from pyspark.sql import SparkSession\n",
    "\n",
    "spark = SparkSession.builder\\\n",
    "    .config(\"spark.driver.memory\", \"5g\")\\\n",
    "    .appName(\"sesion_1\")\\\n",
    "    .master(\"local[*]\")\\\n",
    "    .getOrCreate()\n",
    "\n",
    "spark.conf.set(\"spark.sql.adaptive.enabled\", \"false\")"
   ]
  },
  {
   "cell_type": "code",
   "execution_count": null,
   "id": "950670f6-dcc4-4437-9bca-c1bb365e606a",
   "metadata": {},
   "outputs": [],
   "source": [
    "from IPython.core.display import HTML\n",
    "display(HTML(\"<style>pre { white-space: pre !important; }</style>\"))"
   ]
  },
  {
   "cell_type": "code",
   "execution_count": null,
   "id": "a943b934-5d47-4f41-a756-c68d1389b997",
   "metadata": {},
   "outputs": [],
   "source": [
    "spark.conf.set(\"spark.sql.autoBroadcastJoinThreshold\", \"-1\")"
   ]
  },
  {
   "cell_type": "code",
   "execution_count": null,
   "id": "cc64f041-2e22-4457-8be7-80c31c3cf0e5",
   "metadata": {},
   "outputs": [],
   "source": [
    "spark.sparkContext.uiWebUrl"
   ]
  },
  {
   "cell_type": "code",
   "execution_count": null,
   "id": "68dd8b15-900f-49ee-b046-dff518037c67",
   "metadata": {},
   "outputs": [],
   "source": [
    "import pyspark.sql.functions as f\n",
    "import pyspark.sql.types as t"
   ]
  },
  {
   "cell_type": "code",
   "execution_count": null,
   "id": "7b206961-7a2a-433f-895e-26834d4cf524",
   "metadata": {},
   "outputs": [],
   "source": [
    "big_contracts_df = spark.read.parquet(\"../../resources/data/parquet/big_contracts\")\\\n",
    "    .withColumnRenamed(\"cod_titular\",\"cod_client\")\n",
    "\n",
    "big_clients_df = spark.read.parquet(\"../../resources/data/parquet/big_clients\")\n",
    "\n",
    "big_contracts_df.show(1)\n",
    "big_clients_df.show(1)"
   ]
  },
  {
   "cell_type": "code",
   "execution_count": null,
   "id": "2746d5d4-17f6-4610-8fcc-110a17d4dd5d",
   "metadata": {},
   "outputs": [],
   "source": [
    "print(\"Contracts:\", big_contracts_df.count())\n",
    "print(\"Clients:\", big_clients_df.count())"
   ]
  },
  {
   "cell_type": "markdown",
   "id": "1599b83f-30bc-4a7e-a743-314acf011398",
   "metadata": {},
   "source": [
    "### Coalesce y Repartition"
   ]
  },
  {
   "cell_type": "markdown",
   "id": "6d48e4aa-f3b1-4e12-bc70-0b7506298622",
   "metadata": {},
   "source": [
    "##### Número de particiones"
   ]
  },
  {
   "cell_type": "raw",
   "id": "2cd684b6-1c49-4350-acc1-21be73ffcd4d",
   "metadata": {},
   "source": [
    "+-------------------+           +-------------------+\n",
    "|                   |   --->    |    PARTICION 1    |\n",
    "|                   |           +-------------------+\n",
    "|                   |   --->    |    PARTICION 2    |\n",
    "|                   |           +-------------------+\n",
    "|                   |   --->    |    PARTICION 3    |\n",
    "|      TABLA        |           +-------------------+\n",
    "|                   |   --->    |    PARTICION 4    |\n",
    "|                   |           +-------------------+\n",
    "|                   |   --->    |    PARTICION 5    |\n",
    "|                   |           +-------------------+\n",
    "|                   |   --->    |        ...        |\n",
    "|                   |           +-------------------+\n",
    "|                   |   --->    |    PARTICION N    |\n",
    "+-------------------+           +-------------------+"
   ]
  },
  {
   "cell_type": "code",
   "execution_count": null,
   "id": "1b3e834f-cd0b-4339-984d-6536de87badd",
   "metadata": {},
   "outputs": [],
   "source": [
    "print(big_contracts_df.rdd.getNumPartitions())\n",
    "print(big_clients_df.rdd.getNumPartitions())"
   ]
  },
  {
   "cell_type": "code",
   "execution_count": null,
   "id": "97295bc8-0d34-47cf-88d1-10121021f537",
   "metadata": {},
   "outputs": [],
   "source": [
    "big_clients_df.groupBy(f.spark_partition_id()).count().show()"
   ]
  },
  {
   "cell_type": "code",
   "execution_count": null,
   "id": "c1d3641c-d163-40bc-93de-951eea378fe0",
   "metadata": {},
   "outputs": [],
   "source": [
    "big_contracts_df.groupBy(f.spark_partition_id()).count().show()"
   ]
  },
  {
   "cell_type": "code",
   "execution_count": null,
   "id": "7fab63c7-e9fd-4ac1-9c2c-b7b256b1cb66",
   "metadata": {},
   "outputs": [],
   "source": [
    "big_contracts_df.join(big_clients_df, [\"id\"]).rdd.getNumPartitions()"
   ]
  },
  {
   "cell_type": "code",
   "execution_count": null,
   "id": "3a4ca298-d09e-4bf5-bc75-3651718c7b4f",
   "metadata": {},
   "outputs": [],
   "source": [
    "big_contracts_df.join(big_clients_df, [\"id\"]).explain()"
   ]
  },
  {
   "cell_type": "code",
   "execution_count": null,
   "id": "ff9d665a-e2dc-4ffe-9667-c14b7eaeab1b",
   "metadata": {},
   "outputs": [],
   "source": [
    "big_contracts_df.join(big_clients_df.sample(False, 0.0001), \"id\").count()"
   ]
  },
  {
   "cell_type": "markdown",
   "id": "ac290aab-34e2-41c4-9772-0e742c93be99",
   "metadata": {},
   "source": [
    "##### repartition -> Aumenta o disminuye el numero de particiones,"
   ]
  },
  {
   "cell_type": "code",
   "execution_count": null,
   "id": "63bebf19-8de5-4fb1-9608-02e230f029c3",
   "metadata": {},
   "outputs": [],
   "source": [
    "big_contracts_df.repartition(16).explain()"
   ]
  },
  {
   "cell_type": "code",
   "execution_count": null,
   "id": "3af29e6a-4582-468a-89a6-3693a1e639fc",
   "metadata": {
    "scrolled": true
   },
   "outputs": [],
   "source": [
    "big_contracts_df.repartition(16).groupBy(f.spark_partition_id()).count().show(20)"
   ]
  },
  {
   "cell_type": "code",
   "execution_count": null,
   "id": "bbd033ca-dd6c-4f55-b4d8-0290eff7fdf9",
   "metadata": {},
   "outputs": [],
   "source": [
    "big_contracts_df.repartition(f.col(\"cod_client\")).explain()"
   ]
  },
  {
   "cell_type": "code",
   "execution_count": null,
   "id": "c301d5e0-ebde-4840-8e1e-33114cc8f82b",
   "metadata": {},
   "outputs": [],
   "source": [
    "big_contracts_df.repartition(30, f.col(\"cod_client\")).explain()"
   ]
  },
  {
   "cell_type": "code",
   "execution_count": null,
   "id": "105b0a66-8aac-4306-bb2a-6a42787bdf06",
   "metadata": {},
   "outputs": [],
   "source": [
    "big_contracts_df.select(\"cod_client\").distinct().count()"
   ]
  },
  {
   "cell_type": "code",
   "execution_count": null,
   "id": "d801b3b0-2705-46e3-bffb-7c9b2f3f2dec",
   "metadata": {},
   "outputs": [],
   "source": [
    "big_contracts_df.repartition(30, f.col(\"cod_client\")).groupBy(f.spark_partition_id()).count().show()"
   ]
  },
  {
   "cell_type": "code",
   "execution_count": null,
   "id": "397e4043-32ca-40b7-9872-e66a19b5afdd",
   "metadata": {},
   "outputs": [],
   "source": [
    "big_contracts_df.repartition(30, f.col(\"cod_client\")).groupBy(f.spark_partition_id(), f.col(\"cod_client\")).count().show()"
   ]
  },
  {
   "cell_type": "code",
   "execution_count": null,
   "id": "51f520e7-1600-4c40-b162-62a5b3eeac49",
   "metadata": {},
   "outputs": [],
   "source": [
    "big_contracts_df.repartition(30, f.col(\"id\")).groupBy(f.spark_partition_id(), f.col(\"id\")).count().show()"
   ]
  },
  {
   "cell_type": "code",
   "execution_count": null,
   "id": "e4eedcdd-8f4d-4d8f-bc26-e5a4fc435d00",
   "metadata": {},
   "outputs": [],
   "source": [
    "big_contracts_df.repartition(30, f.col(\"id\")).groupBy(f.spark_partition_id()).count().show()"
   ]
  },
  {
   "cell_type": "code",
   "execution_count": null,
   "id": "04b6f7f5-6e24-441c-8beb-ccf18e821cf8",
   "metadata": {},
   "outputs": [],
   "source": [
    "big_contracts_df.repartition(30, f.col(\"id\")).write.mode(\"overwrite\").parquet(\"../../resources/data/parquet/t_repartition\")"
   ]
  },
  {
   "cell_type": "markdown",
   "id": "7c41d644-3183-47da-bd2a-fa0f10db0f4e",
   "metadata": {},
   "source": [
    "##### coalesce -> Unicamente disminuye el numero de particiones, puede provocar DATA SKEW"
   ]
  },
  {
   "cell_type": "code",
   "execution_count": null,
   "id": "f54a1937-30df-4aea-a0ba-55e3f114a03d",
   "metadata": {},
   "outputs": [],
   "source": [
    "big_contracts_df.coalesce(9).rdd.getNumPartitions()"
   ]
  },
  {
   "cell_type": "code",
   "execution_count": null,
   "id": "72021099-5bb0-4df1-bc7f-3110e6340c55",
   "metadata": {},
   "outputs": [],
   "source": [
    "big_contracts_df.repartition(f.col(\"cod_client\")).groupBy(f.spark_partition_id()).count().show()"
   ]
  },
  {
   "cell_type": "code",
   "execution_count": null,
   "id": "1ba72a28-ceb4-49b9-9841-8bb05135fc0f",
   "metadata": {},
   "outputs": [],
   "source": [
    "big_contracts_df.repartition(f.col(\"cod_client\")).coalesce(4).groupBy(f.spark_partition_id()).count().show()"
   ]
  },
  {
   "cell_type": "code",
   "execution_count": null,
   "id": "286b7602-ee77-4f8a-9928-09fe6679c1f7",
   "metadata": {},
   "outputs": [],
   "source": [
    "big_contracts_df.repartition(f.col(\"cod_client\")).repartition(4).groupBy(f.spark_partition_id()).count().show()"
   ]
  },
  {
   "cell_type": "raw",
   "id": "bfda17e9-7d40-4f24-ad20-6b6a519d4bef",
   "metadata": {},
   "source": [
    "+----------------+\n",
    "|                | -> | Partition_1 |---| Size 3\n",
    "|                | -> | Partition_2 |------------------------| Size 24\n",
    "|   Executor 1   | -> | Partition_3 |----------------| Size 16\n",
    "|                | -> | Partition_4 |--------------------| Size 20\n",
    "|                |\n",
    "+----------------+\n",
    "+----------------+\n",
    "|                | \n",
    "|                | -> | Partition_2 |------------------------| Size 24\n",
    "|   Executor 2   | -> | Partition_1 |-------| Size 7\n",
    "|                |\n",
    "|                |\n",
    "+----------------+\n",
    "+----------------+\n",
    "|                | -> | Partition_1 |-------------------| Size 19\n",
    "|                | -> | Partition_2 |----------------| Size 16\n",
    "|   Executor 3   | -> | Partition_3 |---------------------------| Size 27\n",
    "|                | -> | Partition_4 |-----------| Size 11\n",
    "|                | -> | Partition_5 |--------------------------------| Size 32\n",
    "+----------------+\n",
    "df.coalesce(2)\n",
    "+----------------+\n",
    "|                |\n",
    "|                | -> | Partition_1 |---------------------------| Size 27\n",
    "|   Executor 1   | -> | Partition_2 |------------------------------------| Size 36\n",
    "|                |\n",
    "|                |\n",
    "+----------------+\n",
    "+----------------+\n",
    "|                | \n",
    "|                | -> | Partition_1 |------------------------| Size 24\n",
    "|   Executor 2   | -> | Partition_2 |-------| Size 7\n",
    "|                |\n",
    "|                |\n",
    "+----------------+\n",
    "+----------------+\n",
    "|                | \n",
    "|                | -> | Partition_1 |-------------------------------------------------------------------------| Size 73\n",
    "|   Executor 3   | -> | Partition_2 |--------------------------------| Size 32\n",
    "|                |\n",
    "|                | \n",
    "+----------------+"
   ]
  },
  {
   "cell_type": "markdown",
   "id": "5e1e9ae8-2b41-452a-aeac-443eeae4542a",
   "metadata": {},
   "source": [
    "##### Aplicamos transformaciones con tabla grande"
   ]
  },
  {
   "cell_type": "code",
   "execution_count": null,
   "id": "06ab81fe-c385-4a81-aaac-d048d3d871c7",
   "metadata": {},
   "outputs": [],
   "source": [
    "#join_tables_df = big_contracts_df.join(big_clients_df, [\"id\"], \"outer\") // -> Transformation_1\n",
    "from pyspark.sql.window import Window\n",
    "from pyspark.sql import DataFrame\n",
    "\n",
    "def transformation1(contracts_df: DataFrame, clients_df: DataFrame) -> DataFrame:\n",
    "    aggWindow = Window.partitionBy(\"id\")\n",
    "    lagWindow = Window.partitionBy(\"id\").orderBy(f.col(\"operation_day\").desc())\n",
    "    \n",
    "    return contracts_df\\\n",
    "        .join(clients_df.sample(False,0.001, 0).drop(\"id\"), [\"cod_client\"])\\\n",
    "        .withColumn(\"vip_true\", f.when(f.col(\"vip\") == True, f.lit(1)).otherwise(f.lit(0)))\\\n",
    "        .withColumn(\"vip_false\", f.when(f.col(\"vip\") == False, f.lit(1)).otherwise(f.lit(0)))\\\n",
    "        .withColumn(\"count_vip_true\", f.sum(\"vip_true\").over(aggWindow))\\\n",
    "        .withColumn(\"count_vip_false\", f.sum(\"vip_false\").over(aggWindow))\\\n",
    "        .withColumn(\"prev_amount\", f.lag(f.col(\"amount\"), 5).over(lagWindow))\\\n",
    "        .withColumn(\"diff_amount\", f.col(\"amount\") - f.col(\"prev_amount\"))\\\n",
    "        .filter(f.col(\"diff_amount\") < -800)\\\n",
    "        .filter(f.col(\"fec_alta\") > \"2015-01-01\")\\\n",
    "        .select(\"id\", \"amount\", \"diff_amount\", \"fec_alta\", \"operation_day\", \"count_vip_true\", \"count_vip_false\")\\\n",
    "        .distinct()\n",
    "\n",
    "join_tables_df = transformation1(big_contracts_df, big_clients_df)"
   ]
  },
  {
   "cell_type": "code",
   "execution_count": null,
   "id": "d278edb6-c825-4909-b5a6-a99407225c2f",
   "metadata": {},
   "outputs": [],
   "source": [
    "join_tables_df.write.mode(\"overwrite\").parquet(\"../../resources/data/parquet/join_tables_df\")"
   ]
  },
  {
   "cell_type": "code",
   "execution_count": null,
   "id": "3e92b88d-3945-496b-b5fb-432406c92497",
   "metadata": {},
   "outputs": [],
   "source": [
    "def transformation2(df:DataFrame) -> DataFrame:\n",
    "    aggWindow = Window.partitionBy(\"fec_alta\")\n",
    "    return df\\\n",
    "        .select(\n",
    "            f.col(\"id\"),\n",
    "            f.min(f.col(\"diff_amount\")).over(aggWindow).alias(\"min_diff_amount\"),\n",
    "            f.max(f.col(\"diff_amount\")).over(aggWindow).alias(\"max_diff_amount\"),\n",
    "            f.mean(f.col(\"diff_amount\")).over(aggWindow).alias(\"mean_diff_amount\"),\n",
    "            f.stddev_pop(f.col(\"diff_amount\")).over(aggWindow).alias(\"stddev_diff_amount\")\n",
    "        )\n",
    "\n",
    "\n",
    "def transformation3(df:DataFrame) -> DataFrame:\n",
    "    return df\\\n",
    "        .select(\n",
    "            f.abs(f.col(\"count_vip_true\") - f.col(\"count_vip_false\")).alias(\"id\"),\n",
    "            f.date_sub(f.col(\"fec_alta\"), f.col(\"count_vip_false\").cast(t.IntegerType())).alias(\"new_fec_alta\"),\n",
    "            f.date_sub(f.col(\"fec_alta\"), f.col(\"count_vip_true\").cast(t.IntegerType())).alias(\"new_operation_day\"),\n",
    "            (f.col(\"count_vip_true\") + f.col(\"count_vip_false\")).alias(\"new_count_vip_true\"),\n",
    "            (f.col(\"count_vip_false\") + f.col(\"count_vip_true\")).alias(\"new_count_vip_false\")\n",
    "        )\n"
   ]
  },
  {
   "cell_type": "code",
   "execution_count": null,
   "id": "d150da67-0d1e-451e-ba8a-f5f594f6fa8a",
   "metadata": {},
   "outputs": [],
   "source": [
    "join_tables_df = transformation1(big_contracts_df, big_clients_df)\n",
    "\n",
    "transformation2_df = transformation2(join_tables_df)\n",
    "transformation3_df = transformation3(join_tables_df)\n",
    "\n",
    "expensive_df = join_tables_df\\\n",
    "    .join(transformation2_df, [\"id\"])\\\n",
    "    .join(transformation3_df, [\"id\"])"
   ]
  },
  {
   "cell_type": "code",
   "execution_count": null,
   "id": "35424f01-0988-4e01-b31b-7951510f2d71",
   "metadata": {},
   "outputs": [],
   "source": [
    "expensive_df.write.mode(\"overwrite\").parquet(\"../../resources/data/parquet/expensive_df\")"
   ]
  },
  {
   "cell_type": "markdown",
   "id": "694c889d-e240-4252-963b-59c597236066",
   "metadata": {},
   "source": [
    "### Cache y Persist"
   ]
  },
  {
   "cell_type": "markdown",
   "id": "afe5a1cf-94b6-4869-a547-2c86c21a8e0a",
   "metadata": {},
   "source": [
    "### What is a Caching?\n",
    "In applications that reuse the same datasets over and over, one of the most useful optimizations is caching. Caching will place a DataFrame or table into temporary storage across the executors in your cluster and make subsequent reads faster.\n",
    "\n",
    "**Without Spark Caching**\n",
    "```\n",
    "          +------------------+     +------------------+\n",
    "input --> | Transformation 1 | --> | Transformation 2 | --> Output 1\n",
    "          +------------------+     +------------------+\n",
    "          +------------------+     +------------------+\n",
    "input --> | Transformation 1 | --> | Transformation 3 | --> Output 2\n",
    "          +------------------+     +------------------+\n",
    "          +------------------+     +------------------+\n",
    "input --> | Transformation 1 | --> | Transformation 4 | --> Output 3\n",
    "          +------------------+     +------------------+\n",
    "```\n",
    "**With Spark Caching**\n",
    "```\n",
    "                                                     +------------------+\n",
    "                                               +---> | Transformation 2 | --> Output 1\n",
    "                                               |     +------------------+\n",
    "          +------------------+     +-------+   |     +------------------+\n",
    "input --> | Transformation 1 | --> | Cache | --+---> | Transformation 3 | --> Output 2\n",
    "          +------------------+     +-------+   |     +------------------+\n",
    "                                               |     +------------------+\n",
    "                                               +---> | Transformation 4 | --> Output 3\n",
    "                                                     +------------------+\n",
    "```"
   ]
  },
  {
   "cell_type": "code",
   "execution_count": 2,
   "id": "5040d4a3-986c-480d-823d-cf0490922286",
   "metadata": {},
   "outputs": [],
   "source": [
    "# - Almacenar el contenido de un Dataframe en cualquier nivel del procesamiento\n",
    "\n",
    "# Almacenamiento por defecto en DataFrames -> MEMORY_AND_DISK_DESER\n",
    "# Almacenamiento por defecto en RDD -> MEMORY_ONLY\n",
    "from pyspark import StorageLevel"
   ]
  },
  {
   "cell_type": "code",
   "execution_count": null,
   "id": "9a98c444-15f4-4e4b-a00e-9c41d4b19010",
   "metadata": {},
   "outputs": [],
   "source": [
    "join_persisted_df = join_tables_df.persist(StorageLevel.)"
   ]
  },
  {
   "cell_type": "code",
   "execution_count": null,
   "id": "90121163-0774-479a-9152-ab7536a3002d",
   "metadata": {
    "scrolled": true
   },
   "outputs": [],
   "source": [
    "# El proceso de cache es lazy, por lo tanto se activa posterior a una acción\n",
    "join_persisted_df.show()"
   ]
  },
  {
   "cell_type": "code",
   "execution_count": null,
   "id": "873580cb-c404-4b36-b171-52e30bf56c8c",
   "metadata": {},
   "outputs": [],
   "source": [
    "join_persisted_df.count()"
   ]
  },
  {
   "cell_type": "markdown",
   "id": "3766df78-1ede-416e-9a15-c4f1a6319437",
   "metadata": {},
   "source": [
    "##### unpersist"
   ]
  },
  {
   "cell_type": "code",
   "execution_count": null,
   "id": "80235339-4c15-4919-b039-ac2b8df6d86d",
   "metadata": {},
   "outputs": [],
   "source": [
    "join_persisted_df.unpersist()"
   ]
  },
  {
   "cell_type": "markdown",
   "id": "73a3f8f5-2a63-42c9-96e0-0fd310c28a9a",
   "metadata": {},
   "source": [
    "##### aplicación de cache/persist"
   ]
  },
  {
   "cell_type": "code",
   "execution_count": null,
   "id": "63fa093c-c2b7-476e-8159-a05eb3dd38f5",
   "metadata": {},
   "outputs": [],
   "source": [
    "join_tables_df = transformation1(big_contracts_df, big_clients_df)\n",
    "\n",
    "join_persisted_df = join_tables_df.persist(StorageLevel.MEMORY_AND_DISK)\n",
    "\n",
    "transformation2_df = transformation2(join_persisted_df)\n",
    "transformation3_df = transformation3(join_persisted_df)\n",
    "\n",
    "expensive_df = join_persisted_df\\\n",
    "    .join(transformation2_df, [\"id\"])\\\n",
    "    .join(transformation3_df, [\"id\"])"
   ]
  },
  {
   "cell_type": "code",
   "execution_count": null,
   "id": "01d806da-1c8b-4377-965e-e0a917ba14c4",
   "metadata": {},
   "outputs": [],
   "source": [
    "expensive_df.write.mode(\"overwrite\").parquet(\"../../resources/data/parquet/expensive_df\")"
   ]
  },
  {
   "cell_type": "code",
   "execution_count": null,
   "id": "417cc3a6-3909-40be-9527-95f10bd14226",
   "metadata": {},
   "outputs": [],
   "source": [
    "join_persisted_df.unpersist()"
   ]
  },
  {
   "cell_type": "markdown",
   "id": "acdda013-f64e-4090-bcf5-b46b0286404a",
   "metadata": {},
   "source": [
    "### Broadcast"
   ]
  },
  {
   "cell_type": "code",
   "execution_count": null,
   "id": "26304ef4-cacf-4767-b67f-b584b7ec6eb0",
   "metadata": {},
   "outputs": [],
   "source": [
    "big_contracts_df\\\n",
    "    .join(big_clients_df.sample(False,0.001, 0).drop(\"id\"), [\"cod_client\"])\\\n",
    "    .write.mode(\"overwrite\").parquet(\"../../resources/data/parquet/join_tables_df\")"
   ]
  },
  {
   "cell_type": "code",
   "execution_count": null,
   "id": "bebb0b3c-6c05-43d3-9e4b-331030136f06",
   "metadata": {},
   "outputs": [],
   "source": [
    "big_contracts_df\\\n",
    "    .join(f.broadcast(big_clients_df.sample(False,0.001, 0).drop(\"id\")), [\"cod_client\"])\\\n",
    "    .write.mode(\"overwrite\").parquet(\"../../resources/data/parquet/join_tables_df\")"
   ]
  },
  {
   "cell_type": "code",
   "execution_count": null,
   "id": "4f904f97-148a-4c57-9a55-e77a3be49f97",
   "metadata": {},
   "outputs": [],
   "source": [
    "spark.conf.set(\"spark.sql.autoBroadcastJoinThreshold\", \"10485760\")"
   ]
  },
  {
   "cell_type": "code",
   "execution_count": null,
   "id": "70e003a3-15d7-46cd-8023-02656f86779b",
   "metadata": {},
   "outputs": [],
   "source": [
    "join_tables_df = transformation1(big_contracts_df, big_clients_df)\n",
    "\n",
    "transformation2_df = transformation2(join_tables_df)\n",
    "transformation3_df = transformation3(join_tables_df)\n",
    "\n",
    "expensive_df = join_tables_df\\\n",
    "    .join(transformation2_df, [\"id\"])\\\n",
    "    .join(transformation3_df, [\"id\"])"
   ]
  },
  {
   "cell_type": "code",
   "execution_count": null,
   "id": "bc8dd5c7-5081-40d5-b58e-11bea9137904",
   "metadata": {},
   "outputs": [],
   "source": [
    "expensive_df.write.mode(\"overwrite\").parquet(\"../../resources/data/parquet/expensive_df\")"
   ]
  },
  {
   "cell_type": "markdown",
   "id": "11376393-6c09-40f8-ad86-aa435bb98d1e",
   "metadata": {},
   "source": [
    "#### Broadcast + persist"
   ]
  },
  {
   "cell_type": "code",
   "execution_count": null,
   "id": "710cf7d9-6061-41dd-86d7-30b4aeae1b94",
   "metadata": {},
   "outputs": [],
   "source": [
    "join_tables_df = transformation1(big_contracts_df, big_clients_df)\n",
    "\n",
    "join_persisted_df = join_tables_df.persist(StorageLevel.MEMORY_AND_DISK)\n",
    "\n",
    "transformation2_df = transformation2(join_persisted_df)\n",
    "transformation3_df = transformation3(join_persisted_df)\n",
    "\n",
    "expensive_df = join_persisted_df\\\n",
    "    .join(f.broadcast(transformation2_df), [\"id\"])\\\n",
    "    .join(f.broadcast(transformation3_df), [\"id\"])"
   ]
  },
  {
   "cell_type": "code",
   "execution_count": null,
   "id": "3e2995a3-11e2-44d8-b553-4e5b77ad5898",
   "metadata": {},
   "outputs": [],
   "source": [
    "expensive_df.write.mode(\"overwrite\").parquet(\"../../resources/data/parquet/expensive_df\")"
   ]
  },
  {
   "cell_type": "code",
   "execution_count": null,
   "id": "7ea71f47-aff7-4802-8fa6-9a398f350968",
   "metadata": {},
   "outputs": [],
   "source": [
    "join_persisted_df.unpersist()"
   ]
  },
  {
   "cell_type": "code",
   "execution_count": null,
   "id": "806cecb8-9aa7-4771-9e00-8258a3ca2734",
   "metadata": {},
   "outputs": [],
   "source": []
  }
 ],
 "metadata": {
  "kernelspec": {
   "display_name": "Python 3 (ipykernel)",
   "language": "python",
   "name": "python3"
  },
  "language_info": {
   "codemirror_mode": {
    "name": "ipython",
    "version": 3
   },
   "file_extension": ".py",
   "mimetype": "text/x-python",
   "name": "python",
   "nbconvert_exporter": "python",
   "pygments_lexer": "ipython3",
   "version": "3.9.13"
  }
 },
 "nbformat": 4,
 "nbformat_minor": 5
}
