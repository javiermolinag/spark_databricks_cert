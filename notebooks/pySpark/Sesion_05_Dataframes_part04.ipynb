{
 "cells": [
  {
   "cell_type": "code",
   "execution_count": null,
   "id": "43770df0-6ba9-477f-9438-d27658409647",
   "metadata": {},
   "outputs": [],
   "source": [
    "from pyspark.sql import SparkSession\n",
    "\n",
    "spark = SparkSession.builder \\\n",
    "        .appName(\"sesion_1\") \\\n",
    "        .master(\"local[*]\") \\\n",
    "        .getOrCreate()"
   ]
  },
  {
   "cell_type": "code",
   "execution_count": null,
   "id": "13b0fa8b-cf0f-475a-9b96-a735aba71861",
   "metadata": {},
   "outputs": [],
   "source": [
    "\n",
    "contracts_df = spark.read\\\n",
    "        .option(\"header\",\"true\")\\\n",
    "        .option(\"delimiter\",\",\")\\\n",
    "        .option(\"inferSchema\",\"true\")\\\n",
    "        .csv(\"../../resources/data/csv/contracts.csv\")\n",
    "\n",
    "contracts_df.show()\n",
    "contracts_df.printSchema()"
   ]
  },
  {
   "cell_type": "code",
   "execution_count": null,
   "id": "888ef82c-8331-450b-9a8e-a7a360350b8a",
   "metadata": {},
   "outputs": [],
   "source": [
    "import pyspark.sql.functions as f"
   ]
  },
  {
   "cell_type": "code",
   "execution_count": null,
   "id": "0a1f0590-93aa-4964-8308-f39de2926613",
   "metadata": {},
   "outputs": [],
   "source": [
    "from IPython.core.display import HTML\n",
    "display(HTML(\"<style>pre { white-space: pre !important; }</style>\"))"
   ]
  },
  {
   "cell_type": "markdown",
   "id": "e5f00698-94e6-4fc0-82e6-fd4ea8726626",
   "metadata": {},
   "source": [
    "#### Transformaciones"
   ]
  },
  {
   "cell_type": "code",
   "execution_count": null,
   "id": "b6b93a85-c1f7-4e14-917c-1810848dc6a7",
   "metadata": {},
   "outputs": [],
   "source": [
    "# sort/orderBy\n",
    "contracts_df.orderBy(f.col(\"fec_alta\").asc(), f.col(\"cod_producto\").desc()).show()"
   ]
  },
  {
   "cell_type": "code",
   "execution_count": null,
   "id": "f65370ab-774b-4672-96a7-2ab982bcc537",
   "metadata": {},
   "outputs": [],
   "source": [
    "# dropDuplicates distinct\n",
    "contracts_df.show()\n",
    "contracts_df.dropDuplicates([\"cod_producto\", \"cod_titular\"]).show()\n",
    "contracts_df.select(\"cod_titular\",\"activo\").orderBy(\"cod_titular\",\"activo\").dropDuplicates().show()\n",
    "contracts_df.select(\"cod_titular\",\"activo\").orderBy(\"cod_titular\",\"activo\").distinct().show()"
   ]
  },
  {
   "cell_type": "code",
   "execution_count": null,
   "id": "f32835b2-5203-44c0-b4f4-533bdd5871e1",
   "metadata": {},
   "outputs": [],
   "source": [
    "# agg\n",
    "contracts_df\\\n",
    "    .agg(\n",
    "        f.count(\"*\").alias(\"count\"),\n",
    "        f.sum(f.col(\"cod_titular\")).alias(\"sum_cod_titular\"),\n",
    "        f.max(\"cod_producto\").alias(\"max_cod_producto\"),\n",
    "        f.min(\"cod_producto\").alias(\"min_cod_producto\"),\n",
    "        f.mean(\"cod_producto\").alias(\"mean_cod_producto\"),\n",
    "        f.avg(\"cod_producto\").alias(\"avg_cod_producto\"),\n",
    "        f.approx_count_distinct(\"fec_alta\", 0.05).alias(\"approx_fec_count\"),\n",
    "        f.count_distinct(f.col(\"fec_alta\")).alias(\"distinct_fec_count\"),\n",
    "        f.max(\"fec_alta\").alias(\"max_fec_alta\")\n",
    "    ).show()"
   ]
  },
  {
   "cell_type": "code",
   "execution_count": null,
   "id": "70d0543a-4984-4873-ae29-8cbf258a4e99",
   "metadata": {},
   "outputs": [],
   "source": [
    "# groupBy -> count, max, min, avg, mean, sum\n",
    "contracts_df.show()\n",
    "contracts_df.groupBy(f.col(\"cod_titular\")).count().show()\n",
    "contracts_df.groupBy(f.col(\"cod_titular\")).sum(\"cod_producto\").show()\n",
    "#contracts_df.groupBy(f.col(\"cod_titular\")).max(\"fec_alta\").show()\n",
    "\n",
    "contracts_df\\\n",
    "    .groupBy(f.col(\"cod_titular\"))\\\n",
    "    .agg(\n",
    "        f.count(\"*\").alias(\"count\"),\n",
    "        f.sum(f.col(\"cod_titular\")).alias(\"sum_cod_titular\"),\n",
    "        f.max(\"cod_producto\").alias(\"max_cod_producto\"),\n",
    "        f.min(\"cod_producto\").alias(\"min_cod_producto\"),\n",
    "        f.mean(\"cod_producto\").alias(\"mean_cod_producto\"),\n",
    "        f.avg(\"cod_producto\").alias(\"avg_cod_producto\"),\n",
    "        f.approx_count_distinct(\"fec_alta\", 0.05).alias(\"approx_fec_count\"),\n",
    "        f.count_distinct(f.col(\"fec_alta\")).alias(\"distinct_fec_count\"),\n",
    "        f.max(\"fec_alta\").alias(\"max_fec_alta\")\n",
    "    ).show()"
   ]
  },
  {
   "cell_type": "code",
   "execution_count": null,
   "id": "d358e250-2f01-4308-933a-56b2f6ac5952",
   "metadata": {},
   "outputs": [],
   "source": [
    "# groupBy -> pivot\n",
    "contracts_df.show()\n",
    "contracts_df\\\n",
    "    .groupBy(f.col(\"cod_titular\"))\\\n",
    "    .pivot(\"cod_producto\", [100, 200])\\\n",
    "    .agg(\n",
    "        f.count(\"*\"),\n",
    "        f.max(\"fec_alta\")\n",
    "    )\\\n",
    "    .show()"
   ]
  },
  {
   "cell_type": "code",
   "execution_count": null,
   "id": "891b29b6-4c4b-4b40-a7ec-9006ca3a54c2",
   "metadata": {},
   "outputs": [],
   "source": [
    "# groupBy -> unpivot\n",
    "contracts_df\\\n",
    "    .groupBy(f.col(\"cod_titular\"))\\\n",
    "    .pivot(\"cod_producto\", [100, 200])\\\n",
    "    .agg(\n",
    "        f.count(\"*\"),\n",
    "        f.max(\"fec_alta\")\n",
    "    )\\\n",
    "    .unpivot(\"cod_titular\", [\"100_max(fec_alta)\",\"200_max(fec_alta)\"], \"metria\", \"valor\").show()"
   ]
  },
  {
   "cell_type": "code",
   "execution_count": null,
   "id": "cce4dd4a-59d0-4dbd-ba98-84801d2a45b1",
   "metadata": {},
   "outputs": [],
   "source": [
    "## union/unionAll unionByName"
   ]
  },
  {
   "cell_type": "code",
   "execution_count": null,
   "id": "15c0ad3d-d796-472e-bb63-85c6998c0dd0",
   "metadata": {},
   "outputs": [],
   "source": [
    "contracts_tmp_df = contracts_df.filter(f.col(\"activo\") == \"false\")\n",
    "\n",
    "contracts_tmp_df.show()\n",
    "\n",
    "contracts_tmp_df.select(\"cod_titular\",\"fec_alta\",f.col(\"cod_producto\").alias(\"cod_producto_\"))\\\n",
    "    .unionAll(contracts_tmp_df.select(\"cod_titular\",\"fec_alta\",\"cod_producto\")).show()\n",
    "\n",
    "contracts_tmp_df.select(\"cod_titular\",\"fec_alta\",\"cod_producto\")\\\n",
    "    .unionByName(contracts_tmp_df.select(\"cod_producto\",\"fec_alta\",\"cod_titular\", \"activo\"),  True).show()"
   ]
  },
  {
   "cell_type": "code",
   "execution_count": null,
   "id": "bc713b16-abd3-42ee-8d77-e15aa8aebf68",
   "metadata": {},
   "outputs": [],
   "source": []
  }
 ],
 "metadata": {
  "kernelspec": {
   "display_name": "Python 3 (ipykernel)",
   "language": "python",
   "name": "python3"
  },
  "language_info": {
   "codemirror_mode": {
    "name": "ipython",
    "version": 3
   },
   "file_extension": ".py",
   "mimetype": "text/x-python",
   "name": "python",
   "nbconvert_exporter": "python",
   "pygments_lexer": "ipython3",
   "version": "3.9.13"
  }
 },
 "nbformat": 4,
 "nbformat_minor": 5
}
