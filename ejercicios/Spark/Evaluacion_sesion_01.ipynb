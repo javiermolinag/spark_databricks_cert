{
 "cells": [
  {
   "cell_type": "markdown",
   "id": "fc26ebe0-9fe4-49ce-9970-c45aa5c280db",
   "metadata": {},
   "source": [
    "#### Como parte de la primera evaluación necesitamos validar que es posible levantar la sesión de spark dada tu ambientación local, resuelve las siguientes actividades."
   ]
  },
  {
   "cell_type": "markdown",
   "id": "b44da53c-7cfe-45a1-9ee5-735619cbb7ea",
   "metadata": {},
   "source": [
    "#### Actividad 1:\n",
    "##### TO DO: Ejecuta las siguientes celdas"
   ]
  },
  {
   "cell_type": "code",
   "execution_count": null,
   "id": "71db4bec-ce2a-4b44-98d0-4fbdab40ff18",
   "metadata": {},
   "outputs": [],
   "source": [
    "import org.apache.spark.sql.{SparkSession, DataFrame}\n",
    "\n",
    "// Coloca tu nombre completo en la variable\n",
    "val nombreCompleto = \"Fulanito Apellido_1 Apellido_2\"\n",
    "\n",
    "val spark = SparkSession.builder\n",
    "    .master(\"local[*]\")\n",
    "    .appName(nombreCompleto)\n",
    "    .getOrCreate()\n",
    "\n",
    "val sc = spark.sparkContext"
   ]
  },
  {
   "cell_type": "code",
   "execution_count": null,
   "id": "a8612489-baab-4639-935a-245ef71c921c",
   "metadata": {},
   "outputs": [],
   "source": [
    "// 1- Toma una captura del \"Spark UI\"\n",
    "// 2- Almacena la imagen en la carpeta \"../../resources/img/\" con el nombre \"Sesion01.jpg\"\n",
    "sc.uiWebUrl"
   ]
  },
  {
   "cell_type": "code",
   "execution_count": null,
   "id": "8b7ab2d6-dc86-4723-984c-22fd645263b2",
   "metadata": {},
   "outputs": [],
   "source": [
    "// Ejecuta la siguiente celda que contiene \"![title](../../resources/img/Sesion01.jpg)\": \n",
    "// Guarda el notebook y sube los cambios a git"
   ]
  },
  {
   "cell_type": "markdown",
   "id": "52ffc09d-3e18-4206-9cf6-42e6777764a4",
   "metadata": {},
   "source": [
    "![title](../../resources/img/Sesion01.jpg)"
   ]
  },
  {
   "cell_type": "code",
   "execution_count": null,
   "id": "01f11655-7ae2-4d33-af8c-c2068a356e74",
   "metadata": {},
   "outputs": [],
   "source": []
  }
 ],
 "metadata": {
  "kernelspec": {
   "display_name": "Apache Toree - Scala",
   "language": "scala",
   "name": "apache_toree_scala"
  },
  "language_info": {
   "codemirror_mode": "text/x-scala",
   "file_extension": ".scala",
   "mimetype": "text/x-scala",
   "name": "scala",
   "pygments_lexer": "scala",
   "version": "2.12.15"
  }
 },
 "nbformat": 4,
 "nbformat_minor": 5
}
