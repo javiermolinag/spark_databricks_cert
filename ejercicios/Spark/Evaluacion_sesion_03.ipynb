{
 "cells": [
  {
   "cell_type": "markdown",
   "id": "91649b48-2200-4cf7-bf6e-426d7467fe45",
   "metadata": {},
   "source": [
    "#### El área de QA comentó que la estructura de las tablas cargadas en formato parquet no cumplen las normas de calidad requeridas. Por lo tanto hay que renombrar y/o castear las columnas indicadas. \n",
    "\n",
    "##### Nota: Para poder trabajar con este notebook es necesario haber terminado el ejercicio de la sesión 02"
   ]
  },
  {
   "cell_type": "code",
   "execution_count": null,
   "id": "d659a59d-ace4-46a3-bee4-48021222361d",
   "metadata": {},
   "outputs": [],
   "source": [
    "// NO MODIFICAR CONTENIDO DE ESTA CELDA\n",
    "import org.apache.spark.sql.DataFrame\n",
    "\n",
    "def readTmpDf(dfSeq: Seq[String]): Map[String, DataFrame] =\n",
    "    dfSeq.map(table_name => (table_name, spark.read.parquet(\"../../resources/data/tmp/parquet/\" + table_name))).toMap\n",
    "\n",
    "def writeTmpDf(dfSeq: Seq[(DataFrame, String)]): Unit = \n",
    "    dfSeq.foreach{case (df: DataFrame, name: String) => df.write.mode(\"overwrite\").parquet(\"../../resources/data/tmp/parquet/\" + name)}\n",
    "\n",
    "def schema_to_ddl(df: DataFrame): String = df.schema.toDDL.replace(\" NOT NULL\", \"\")"
   ]
  },
  {
   "cell_type": "code",
   "execution_count": null,
   "id": "b2c5c6ac-4fe0-4b7f-9d9a-3a10d039d10a",
   "metadata": {},
   "outputs": [],
   "source": [
    "// NO MODIFICAR CONTENIDO DE ESTA CELDA\n",
    "import org.apache.spark.sql.SparkSession\n",
    "import org.apache.spark.sql.{functions => f}\n",
    "\n",
    "// Creación de sesión de Spark\n",
    "val spark = SparkSession.builder\n",
    "    .master(\"local[*]\")\n",
    "    .appName(\"ejercicio_5\")\n",
    "    .getOrCreate()\n",
    "\n",
    "// Carga de tablas requeridas\n",
    "val rootPath = \"../resources/data/tmp/parquet/\"\n",
    "val namesList = Seq(\"02/movies\", \"02/ratings\", \"02/tags\")\n",
    "val dfMap = readTmpDf(namesList)\n",
    "\n",
    "val moviesDf = dfMap(\"02/movies\")\n",
    "val ratingsDf = dfMap(\"02/ratings\")\n",
    "val tagsDf = dfMap(\"02/tags\")\n",
    "\n",
    "moviesDf.show(1, false)\n",
    "ratingsDf.show(1)\n",
    "tagsDf.show(1)"
   ]
  },
  {
   "cell_type": "markdown",
   "id": "566c7529-e81d-4bc4-b1b4-abfe69e4b6a5",
   "metadata": {},
   "source": [
    "#### Actividad 1:\n",
    "##### TO DO ->    Para el dataframe \"movies_df\":\n",
    "- ##### Convierte la columna \"genres\" en un array, donde cada genero corresponde a una posición del array generado. Como resultado el esquema para la columna \"genres\" será un ArrayType(StringType). \n",
    "    - Apoyate de la función split de Spark -> https://spark.apache.org/docs/latest/api/python/reference/pyspark.sql/api/pyspark.sql.functions.split.html#pyspark.sql.functions.split\n",
    "- ##### Renombra la columna \"movieId\" por \"movie_id\""
   ]
  },
  {
   "cell_type": "code",
   "execution_count": null,
   "id": "125e5d81-6c6a-4e23-ad26-2da273a001e2",
   "metadata": {},
   "outputs": [],
   "source": [
    "// TU CODIGO VA EN ESTA CELDA:\n",
    "import org.apache.spark.sql.{functions => f}\n",
    "\n",
    "castedMoviesDf = moviesDf // Colocar transformaciones a moviesDf"
   ]
  },
  {
   "cell_type": "code",
   "execution_count": null,
   "id": "84d93c06-c004-491e-aa88-5dd31bd57426",
   "metadata": {},
   "outputs": [],
   "source": [
    "// NO MODIFICAR EL CONTENIDO DE ESTA CELDA\n",
    "castedMoviesDf.show(1, false)\n",
    "\"\"\"\n",
    "Ejemplo de salida esperada:\n",
    "+--------+----------------+-------------------------------------------------+\n",
    "|movie_id|title           |genres                                           |\n",
    "+--------+----------------+-------------------------------------------------+\n",
    "|1       |Toy Story (1995)|[Adventure, Animation, Children, Comedy, Fantasy]|\n",
    "+--------+----------------+-------------------------------------------------+\n",
    "only showing top 1 row\n",
    "\"\"\""
   ]
  },
  {
   "cell_type": "code",
   "execution_count": null,
   "id": "6a0e22f7-2993-4752-86e1-7cfcd9c62368",
   "metadata": {},
   "outputs": [],
   "source": [
    "// NO MODIFICAR EL CONTENIDO DE ESTA CELDA\n",
    "assert(castedMoviesDf.columns.toSeq.contains(\"movie_id\"))\n",
    "assert(castedMoviesDf.columns.toSeq.contains(\"title\"))\n",
    "assert(castedMoviesDf.columns.toSeq.contains(\"genres\"))\n",
    "assert(castedMoviesDf.columns.size == 3)\n",
    "assert(schema_to_ddl(castedMoviesDf.select(\"movie_id\", \"title\", \"genres\")) == \"movie_id STRING,title STRING,genres ARRAY<STRING>\")"
   ]
  },
  {
   "cell_type": "markdown",
   "id": "d5b63ef2-8775-4be7-bf2f-d1917cf74134",
   "metadata": {},
   "source": [
    "#### Actividad 2:\n",
    "##### TO DO ->    Para el dataframe \"ratings_df\":\n",
    "- ##### Renombra la columna \"movieId\" por \"movie_id\"\n",
    "- ##### Renombra la columna \"userId\" por \"user_id\"\n",
    "- ##### Castea la columna \"rating\" a formato double.\n",
    "- ##### Convierte la columna \"timestamp\" a formato TimeStampType con formato logico yyyy-MM-dd HH:mm:ss, la nueva columna generada será \"time\".\n",
    "    - Utiliza la función: timestamp_seconds -> https://spark.apache.org/docs/latest/api/python/reference/pyspark.sql/api/pyspark.sql.functions.timestamp_seconds.html#pyspark.sql.functions.timestamp_seconds\n",
    "- ##### Elimina la columna \"timestamp\""
   ]
  },
  {
   "cell_type": "code",
   "execution_count": null,
   "id": "ec962a59-7015-47bf-beeb-9801e16b9930",
   "metadata": {},
   "outputs": [],
   "source": [
    "// TU CODIGO VA EN ESTA CELDA:\n",
    "import org.apache.spark.sql.{types => t}\n",
    "\n",
    "val castedRatingsDf = ratingsDf // Colocar transformaciones a ratingsDf"
   ]
  },
  {
   "cell_type": "code",
   "execution_count": null,
   "id": "e59c0bd7-6c2f-4e87-8cfa-a890730346bc",
   "metadata": {},
   "outputs": [],
   "source": [
    "// NO MODIFICAR EL CONTENIDO DE ESTA CELDA\n",
    "castedRatingsDf.show(1, false)\n",
    "\"\"\"\n",
    "Ejemplo de salida esperada:\n",
    "+-------+--------+------+-------------------+\n",
    "|user_id|movie_id|rating|time               |\n",
    "+-------+--------+------+-------------------+\n",
    "|1      |1       |4.0   |2008-11-03 11:52:19|\n",
    "+-------+--------+------+-------------------+\n",
    "only showing top 1 row\n",
    "\"\"\""
   ]
  },
  {
   "cell_type": "code",
   "execution_count": null,
   "id": "c81e64b1-251a-4bfb-9c15-480c0cd921a9",
   "metadata": {},
   "outputs": [],
   "source": [
    "// NO MODIFICAR EL CONTENIDO DE ESTA CELDA\n",
    "assert(castedRatingsDf.columns.toSeq.contains(\"user_id\"))\n",
    "assert(castedRatingsDf.columns.toSeq.contains(\"movie_id\"))\n",
    "assert(castedRatingsDf.columns.toSeq.contains(\"rating\"))\n",
    "assert(castedRatingsDf.columns.toSeq.contains(\"time\"))\n",
    "assert(castedRatingsDf.columns.size == 4)\n",
    "assert(schema_to_ddl(castedRatingsDf.select(\"user_id\", \"movie_id\", \"rating\", \"time\")) == \"user_id STRING,movie_id STRING,rating DOUBLE,time TIMESTAMP\")"
   ]
  },
  {
   "cell_type": "markdown",
   "id": "7e7efd40-ef6d-4f29-ad8e-1987cf1355ae",
   "metadata": {},
   "source": [
    "#### Actividad 3:\n",
    "##### TO DO ->    Para el dataframe \"tags_df\":\n",
    "- ##### Renombra la columna \"movieId\" por \"movie_id\"\n",
    "- ##### Renombra la columna \"userId\" por \"user_id\"\n",
    "- ##### Convierte la columna \"timestamp\" a formato TimeStampType con formato logico yyyy-MM-dd HH:mm:ss, la nueva columna generada será \"time\". \n",
    "    - Utiliza la función: from_unixtime -> https://spark.apache.org/docs/latest/api/python/reference/pyspark.sql/api/pyspark.sql.functions.from_unixtime.html#pyspark.sql.functions.from_unixtime\n",
    "- ##### Elimina la columna \"timestamp\""
   ]
  },
  {
   "cell_type": "code",
   "execution_count": null,
   "id": "4f4f725e-bfcb-4ac9-b7f3-bf6ad18bb4bb",
   "metadata": {},
   "outputs": [],
   "source": [
    "// TU CODIGO VA EN ESTA CELDA:\n",
    "\n",
    "val castedTagsDf = tagsDf // Colocar transformaciones a tagsDf"
   ]
  },
  {
   "cell_type": "code",
   "execution_count": null,
   "id": "35c35718-09c8-4675-94d5-6d6578ad6a62",
   "metadata": {},
   "outputs": [],
   "source": [
    "// NO MODIFICAR EL CONTENIDO DE ESTA CELDA\n",
    "castedTagsDf.show(1)\n",
    "\"\"\"\n",
    "Ejemplo de salida esperada:\n",
    "+-------+--------+------+-------------------+\n",
    "|user_id|movie_id|   tag|               time|\n",
    "+-------+--------+------+-------------------+\n",
    "| 224183|     832|acting|2017-06-05 07:20:27|\n",
    "+-------+--------+------+-------------------+\n",
    "only showing top 1 row\n",
    "\"\"\""
   ]
  },
  {
   "cell_type": "code",
   "execution_count": null,
   "id": "c9ac0cb1-044e-407e-b437-1e6cf4b56550",
   "metadata": {},
   "outputs": [],
   "source": [
    "// NO MODIFICAR EL CONTENIDO DE ESTA CELDA\n",
    "assert(castedTagsDf.columns.toSeq.contains(\"user_id\"))\n",
    "assert(castedTagsDf.columns.toSeq.contains(\"movie_id\"))\n",
    "assert(castedTagsDf.columns.toSeq.contains(\"tag\"))\n",
    "assert(castedTagsDf.columns.toSeq.contains(\"time\"))\n",
    "assert(castedTagsDf.columns.size == 4)\n",
    "assert(schema_to_ddl(castedTagsDf.select(\"user_id\", \"movie_id\", \"tag\", \"time\")) == \"user_id STRING,movie_id STRING,tag STRING,time TIMESTAMP\")"
   ]
  },
  {
   "cell_type": "code",
   "execution_count": null,
   "id": "d580bddc-6eed-4a0f-9289-edbd73370e8f",
   "metadata": {},
   "outputs": [],
   "source": [
    "// NO MODIFICAR EL CONTENIDO DE ESTA CELDA\n",
    "val dfs = Seq((castedMoviesDf, \"03/movies\"),\n",
    "              (castedTagsDf, \"03/tags\"),\n",
    "              (castedRatingsDf, \"03/ratings\"))\n",
    "\n",
    "writeTmpDf(dfs)"
   ]
  },
  {
   "cell_type": "code",
   "execution_count": null,
   "id": "ba5068fd-8d27-48ec-b359-76f8939a18a7",
   "metadata": {},
   "outputs": [],
   "source": []
  }
 ],
 "metadata": {
  "kernelspec": {
   "display_name": "Apache Toree - Scala",
   "language": "scala",
   "name": "apache_toree_scala"
  },
  "language_info": {
   "codemirror_mode": "text/x-scala",
   "file_extension": ".scala",
   "mimetype": "text/x-scala",
   "name": "scala",
   "pygments_lexer": "scala",
   "version": "2.12.15"
  }
 },
 "nbformat": 4,
 "nbformat_minor": 5
}
