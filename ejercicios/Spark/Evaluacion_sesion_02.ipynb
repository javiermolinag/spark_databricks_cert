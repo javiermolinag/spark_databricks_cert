{
 "cells": [
  {
   "cell_type": "markdown",
   "id": "fc26ebe0-9fe4-49ce-9970-c45aa5c280db",
   "metadata": {},
   "source": [
    "#### El cliente ha corroborado que podemos manejar RDD's pero el CORE a utilizar será dataframes, nos han solicitado crear algunas funciones para cargar archivos en formato csv y almacenarlos en formato parquet. ¿Por qué en parquet? Hecha un ojo a esto (vendrá en la evaluación final):\n",
    "#### https://www.databricks.com/glossary/what-is-parquet\n",
    "#### Cuando termines resuelve cada actividad planteada"
   ]
  },
  {
   "cell_type": "markdown",
   "id": "dba45903-1c28-444b-9af0-6442a36468a6",
   "metadata": {},
   "source": [
    "#### Actividad 1:\n",
    "##### TO DO: Crear sparkSession con appName \"ejercicio_4\", y master \"local[*]\", almacenar sesion de spark en una variable llamada \"spark\""
   ]
  },
  {
   "cell_type": "code",
   "execution_count": null,
   "id": "71db4bec-ce2a-4b44-98d0-4fbdab40ff18",
   "metadata": {},
   "outputs": [],
   "source": [
    "// TU CODIGO VA EN ESTA CELDA:\n",
    "import org.apache.spark.sql.{SparkSession, DataFrame}\n",
    "\n",
    "val spark = //... Inicia tu sesion de spark"
   ]
  },
  {
   "cell_type": "code",
   "execution_count": null,
   "id": "cbe5c3ab-3303-4e65-bb34-087721dce086",
   "metadata": {},
   "outputs": [],
   "source": [
    "// NO MODIFICAR CONTENIDO DE ESTA CELDA\n",
    "val sc = spark.sparkContext\n",
    "sc.uiWebUrl"
   ]
  },
  {
   "cell_type": "code",
   "execution_count": null,
   "id": "a96f213c-5230-4a4d-9b01-d28e073d0c5f",
   "metadata": {},
   "outputs": [],
   "source": [
    "// NO MODIFICAR CONTENIDO DE ESTA CELDA\n",
    "assert(spark.isInstanceOf[SparkSession])\n",
    "assert(spark.sparkContext.getConf.get(\"spark.master\") == \"local[*]\")\n",
    "assert(spark.sparkContext.getConf.get(\"spark.app.name\") == \"ejercicio_4\")"
   ]
  },
  {
   "cell_type": "markdown",
   "id": "566c7529-e81d-4bc4-b1b4-abfe69e4b6a5",
   "metadata": {},
   "source": [
    "#### Actividad 2:\n",
    "##### TO DO ->    Crear un método para leer un archivo en formato csv, no inferir el esquema, los archivos si incluyen header, el separador es \",\"\n",
    "- ##### retorna ->  dataframe correspondiente a la lectura\n",
    "- ##### firma ->    def readCsv(path: String): DataFrame"
   ]
  },
  {
   "cell_type": "code",
   "execution_count": null,
   "id": "636335bd-d238-410c-ab45-bcdb6c732fe2",
   "metadata": {},
   "outputs": [],
   "source": [
    "// TU CODIGO VA EN ESTA CELDA:\n",
    "\n",
    "def readCsv(path: String): DataFrame =\n",
    "    // agrega lectura de dataframe"
   ]
  },
  {
   "cell_type": "code",
   "execution_count": null,
   "id": "adb49e98-a62e-4324-af0b-626ec21c02ab",
   "metadata": {},
   "outputs": [],
   "source": [
    "// NO MODIFICAR CONTENIDO DE ESTA CELDA\n",
    "val RootPath = \"../../resources/data/csv/\"\n",
    "\n",
    "val moviesDf = readCsv(RootPath + \"movies.csv\")\n",
    "val ratingsDf = readCsv(RootPath + \"ratings.csv\")\n",
    "val tagsDf = readCsv(RootPath + \"tags.csv\")\n",
    "\n",
    "def schema_to_ddl(df: DataFrame): String = df.schema.toDDL.replace(\" NOT NULL\", \"\")\n",
    "\n",
    "assert(moviesDf.isInstanceOf[DataFrame] && ratingsDf.isInstanceOf[DataFrame] && tagsDf.isInstanceOf[DataFrame])\n",
    "assert (moviesDf.count() == 86537 && ratingsDf.count() == 33832162 && tagsDf.count() == 2328315)\n",
    "assert (schema_to_ddl(moviesDf) == \"movieId STRING,title STRING,genres STRING\")\n",
    "assert (schema_to_ddl(ratingsDf) == \"userId STRING,movieId STRING,rating STRING,timestamp STRING\")\n",
    "assert (schema_to_ddl(tagsDf) == \"userId STRING,movieId STRING,tag STRING,timestamp STRING\")"
   ]
  },
  {
   "cell_type": "markdown",
   "id": "7a7cb1f3-2308-4ea6-94da-1d61f040941b",
   "metadata": {},
   "source": [
    "#### Actividad 3:\n",
    "##### TO DO ->    Crear un método para escribir un dataframe con las siguientes caracteristicas:\n",
    "- ##### formato: parquet\n",
    "- ##### modo de escritura: overwrite\n",
    "- ##### firma: def writeParquet(df: DataFrame, path: String): Unit"
   ]
  },
  {
   "cell_type": "code",
   "execution_count": null,
   "id": "08393772-6be3-4bc8-acea-1856800a3b18",
   "metadata": {},
   "outputs": [],
   "source": [
    "// TU CODIGO VA EN ESTA CELDA:\n",
    "\n",
    "def writeParquet(df: DataFrame, path: String): Unit =\n",
    "    // colocar codigo de escritura"
   ]
  },
  {
   "cell_type": "code",
   "execution_count": null,
   "id": "9ee1cea1-a37e-4027-9520-abfca31b3bdf",
   "metadata": {},
   "outputs": [],
   "source": [
    "// NO MODIFICAR CONTENIDO DE ESTA CELDA\n",
    "\n",
    "val RootPath = \"../../resources/data/tmp/parquet/02/\"\n",
    "\n",
    "writeParquet(moviesDf, RootPath + \"movies\")\n",
    "writeParquet(ratingsDf, RootPath + \"ratings\")\n",
    "writeParquet(tagsDf, RootPath + \"tags\")\n",
    "\n",
    "val _moviesDf = spark.read.parquet(RootPath + \"movies\")\n",
    "val _ratingsDf = spark.read.parquet(RootPath + \"ratings\")\n",
    "val _tagsDf = spark.read.parquet(RootPath + \"tags\")\n",
    "\n",
    "assert (_moviesDf.count() == 86537)\n",
    "assert (_ratingsDf.count() == 33832162)\n",
    "assert (_tagsDf.count() == 2328315)"
   ]
  },
  {
   "cell_type": "code",
   "execution_count": null,
   "id": "4d814457-8f21-435f-94cd-ccbc37710670",
   "metadata": {},
   "outputs": [],
   "source": []
  }
 ],
 "metadata": {
  "kernelspec": {
   "display_name": "Apache Toree - Scala",
   "language": "scala",
   "name": "apache_toree_scala"
  },
  "language_info": {
   "codemirror_mode": "text/x-scala",
   "file_extension": ".scala",
   "mimetype": "text/x-scala",
   "name": "scala",
   "pygments_lexer": "scala",
   "version": "2.12.15"
  }
 },
 "nbformat": 4,
 "nbformat_minor": 5
}
