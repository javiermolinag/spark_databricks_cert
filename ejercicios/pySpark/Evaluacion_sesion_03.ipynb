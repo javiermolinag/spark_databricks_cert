{
 "cells": [
  {
   "cell_type": "markdown",
   "id": "91649b48-2200-4cf7-bf6e-426d7467fe45",
   "metadata": {},
   "source": [
    "#### El área de QA comentó que la estructura de las tablas cargadas en formato parquet no cumplen las normas de calidad requeridas. Por lo tanto hay que renombrar y/o castear las columnas indicadas. \n",
    "\n",
    "##### Nota: Para poder trabajar con este notebook es necesario haber terminado el ejercicio de la sesión 02"
   ]
  },
  {
   "cell_type": "code",
   "execution_count": null,
   "id": "d659a59d-ace4-46a3-bee4-48021222361d",
   "metadata": {},
   "outputs": [],
   "source": [
    "# NO MODIFICAR CONTENIDO DE ESTA CELDA\n",
    "%run utils.py"
   ]
  },
  {
   "cell_type": "code",
   "execution_count": null,
   "id": "b2c5c6ac-4fe0-4b7f-9d9a-3a10d039d10a",
   "metadata": {},
   "outputs": [],
   "source": [
    "# NO MODIFICAR CONTENIDO DE ESTA CELDA\n",
    "from pyspark.sql import SparkSession\n",
    "import pyspark.sql.functions as f\n",
    "import pyspark.sql.types as t\n",
    "\n",
    "# Creación de sesión de Spark\n",
    "spark = SparkSession.builder \\\n",
    "    .master(\"local[*]\") \\\n",
    "    .appName(\"ejercicio_3\") \\\n",
    "    .getOrCreate()\n",
    "\n",
    "# Carga de tablas requeridas\n",
    "root_path = \"../../resources/data/tmp/parquet/\"\n",
    "names_list = [\"02/movies\", \"02/ratings\", \"02/tags\"]\n",
    "df_dict = read_tmp_df(spark, names_list)\n",
    "\n",
    "movies_df = df_dict[\"02/movies\"]\n",
    "ratings_df = df_dict[\"02/ratings\"]\n",
    "tags_df = df_dict[\"02/tags\"]\n",
    "\n",
    "movies_df.show(1, False)\n",
    "ratings_df.show(1)\n",
    "tags_df.show(1)"
   ]
  },
  {
   "cell_type": "markdown",
   "id": "566c7529-e81d-4bc4-b1b4-abfe69e4b6a5",
   "metadata": {},
   "source": [
    "#### Actividad 1:\n",
    "##### TO DO ->    Para el dataframe \"movies_df\":\n",
    "- ##### Convierte la columna \"genres\" en un array, donde cada genero corresponde a una posición del array generado. Como resultado el esquema para la columna \"genres\" será un ArrayType(StringType()). \n",
    "    - Apoyate de la función split de Spark -> https://spark.apache.org/docs/latest/api/python/reference/pyspark.sql/api/pyspark.sql.functions.split.html#pyspark.sql.functions.split\n",
    "- ##### Renombra la columna \"movieId\" por \"movie_id\""
   ]
  },
  {
   "cell_type": "code",
   "execution_count": null,
   "id": "125e5d81-6c6a-4e23-ad26-2da273a001e2",
   "metadata": {},
   "outputs": [],
   "source": [
    "## TU CODIGO VA EN ESTA CELDA:\n",
    "\n",
    "casted_movies_df = movies_df # Colocar transformaciones a movies_df"
   ]
  },
  {
   "cell_type": "code",
   "execution_count": null,
   "id": "84d93c06-c004-491e-aa88-5dd31bd57426",
   "metadata": {},
   "outputs": [],
   "source": [
    "# NO MODIFICAR EL CONTENIDO DE ESTA CELDA\n",
    "casted_movies_df.show(1, False)\n",
    "\"\"\"\n",
    "Ejemplo de salida esperada:\n",
    "+--------+----------------+-------------------------------------------------+\n",
    "|movie_id|title           |genres                                           |\n",
    "+--------+----------------+-------------------------------------------------+\n",
    "|1       |Toy Story (1995)|[Adventure, Animation, Children, Comedy, Fantasy]|\n",
    "+--------+----------------+-------------------------------------------------+\n",
    "only showing top 1 row\n",
    "\"\"\""
   ]
  },
  {
   "cell_type": "code",
   "execution_count": null,
   "id": "6a0e22f7-2993-4752-86e1-7cfcd9c62368",
   "metadata": {},
   "outputs": [],
   "source": [
    "# NO MODIFICAR EL CONTENIDO DE ESTA CELDA\n",
    "assert \"movie_id\" in casted_movies_df.columns\n",
    "assert \"title\" in casted_movies_df.columns\n",
    "assert \"genres\" in casted_movies_df.columns\n",
    "assert len(casted_movies_df.columns) == 3\n",
    "\n",
    "casted_movies_df = casted_movies_df.select(\"movie_id\", \"title\", \"genres\")\n",
    "assert schema_to_ddl(spark, casted_movies_df) == 'movie_id STRING,title STRING,genres ARRAY<STRING>'"
   ]
  },
  {
   "cell_type": "markdown",
   "id": "d5b63ef2-8775-4be7-bf2f-d1917cf74134",
   "metadata": {},
   "source": [
    "#### Actividad 2:\n",
    "##### TO DO ->    Para el dataframe \"ratings_df\":\n",
    "- ##### Renombra la columna \"movieId\" por \"movie_id\"\n",
    "- ##### Renombra la columna \"userId\" por \"user_id\"\n",
    "- ##### Castea la columna \"rating\" a formato double.\n",
    "- ##### Convierte la columna \"timestamp\" a formato TimeStampType con formato logico yyyy-MM-dd HH:mm:ss, la nueva columna generada será \"time\".\n",
    "    - Utiliza la función: timestamp_seconds -> https://spark.apache.org/docs/latest/api/python/reference/pyspark.sql/api/pyspark.sql.functions.timestamp_seconds.html#pyspark.sql.functions.timestamp_seconds\n",
    "- ##### Elimina la columna \"timestamp\""
   ]
  },
  {
   "cell_type": "code",
   "execution_count": null,
   "id": "ec962a59-7015-47bf-beeb-9801e16b9930",
   "metadata": {},
   "outputs": [],
   "source": [
    "## TU CODIGO VA EN ESTA CELDA:\n",
    "\n",
    "casted_ratings_df = ratings_df # Colocar transformaciones a ratings_df"
   ]
  },
  {
   "cell_type": "code",
   "execution_count": null,
   "id": "e59c0bd7-6c2f-4e87-8cfa-a890730346bc",
   "metadata": {},
   "outputs": [],
   "source": [
    "# NO MODIFICAR EL CONTENIDO DE ESTA CELDA\n",
    "casted_ratings_df.show(1, False)\n",
    "\"\"\"\n",
    "Ejemplo de salida esperada:\n",
    "+-------+--------+------+-------------------+\n",
    "|user_id|movie_id|rating|time               |\n",
    "+-------+--------+------+-------------------+\n",
    "|1      |1       |4.0   |2008-11-03 11:52:19|\n",
    "+-------+--------+------+-------------------+\n",
    "only showing top 1 row\n",
    "\"\"\""
   ]
  },
  {
   "cell_type": "code",
   "execution_count": null,
   "id": "c81e64b1-251a-4bfb-9c15-480c0cd921a9",
   "metadata": {},
   "outputs": [],
   "source": [
    "# NO MODIFICAR EL CONTENIDO DE ESTA CELDA\n",
    "assert \"user_id\" in casted_ratings_df.columns\n",
    "assert \"movie_id\" in casted_ratings_df.columns\n",
    "assert \"rating\" in casted_ratings_df.columns\n",
    "assert \"time\" in casted_ratings_df.columns\n",
    "assert len(casted_ratings_df.columns) == 4\n",
    "\n",
    "casted_ratings_df = casted_ratings_df.select(\"user_id\" ,\"movie_id\", \"rating\", \"time\")\n",
    "\n",
    "assert schema_to_ddl(spark, casted_ratings_df) == 'user_id STRING,movie_id STRING,rating DOUBLE,time TIMESTAMP'"
   ]
  },
  {
   "cell_type": "markdown",
   "id": "7e7efd40-ef6d-4f29-ad8e-1987cf1355ae",
   "metadata": {},
   "source": [
    "#### Actividad 3:\n",
    "##### TO DO ->    Para el dataframe \"tags_df\":\n",
    "- ##### Renombra la columna \"movieId\" por \"movie_id\"\n",
    "- ##### Renombra la columna \"userId\" por \"user_id\"\n",
    "- ##### Convierte la columna \"timestamp\" a formato TimeStampType con formato logico yyyy-MM-dd HH:mm:ss, la nueva columna generada será \"time\". \n",
    "    - Utiliza la función: from_unixtime -> https://spark.apache.org/docs/latest/api/python/reference/pyspark.sql/api/pyspark.sql.functions.from_unixtime.html#pyspark.sql.functions.from_unixtime\n",
    "- ##### Elimina la columna \"timestamp\""
   ]
  },
  {
   "cell_type": "code",
   "execution_count": null,
   "id": "4f4f725e-bfcb-4ac9-b7f3-bf6ad18bb4bb",
   "metadata": {},
   "outputs": [],
   "source": [
    "## TU CODIGO VA EN ESTA CELDA:\n",
    "\n",
    "casted_tags_df = tags_df # Colocar transformaciones a tags_df"
   ]
  },
  {
   "cell_type": "code",
   "execution_count": null,
   "id": "35c35718-09c8-4675-94d5-6d6578ad6a62",
   "metadata": {},
   "outputs": [],
   "source": [
    "# NO MODIFICAR EL CONTENIDO DE ESTA CELDA\n",
    "casted_tags_df.show(1)\n",
    "\"\"\"\n",
    "Ejemplo de salida esperada:\n",
    "+-------+--------+------+-------------------+\n",
    "|user_id|movie_id|   tag|               time|\n",
    "+-------+--------+------+-------------------+\n",
    "| 224183|     832|acting|2017-06-05 07:20:27|\n",
    "+-------+--------+------+-------------------+\n",
    "only showing top 1 row\n",
    "\"\"\""
   ]
  },
  {
   "cell_type": "code",
   "execution_count": null,
   "id": "c9ac0cb1-044e-407e-b437-1e6cf4b56550",
   "metadata": {},
   "outputs": [],
   "source": [
    "# NO MODIFICAR EL CONTENIDO DE ESTA CELDA\n",
    "assert \"user_id\" in casted_tags_df.columns\n",
    "assert \"movie_id\" in casted_tags_df.columns\n",
    "assert \"tag\" in casted_tags_df.columns\n",
    "assert \"time\" in casted_tags_df.columns\n",
    "assert len(casted_tags_df.columns) == 4\n",
    "\n",
    "casted_tags_df = casted_tags_df.select(\"user_id\" ,\"movie_id\", \"tag\", \"time\")\n",
    "\n",
    "assert schema_to_ddl(spark, casted_tags_df) == 'user_id STRING,movie_id STRING,tag STRING,time TIMESTAMP'"
   ]
  },
  {
   "cell_type": "code",
   "execution_count": null,
   "id": "d580bddc-6eed-4a0f-9289-edbd73370e8f",
   "metadata": {},
   "outputs": [],
   "source": [
    "# NO MODIFICAR EL CONTENIDO DE ESTA CELDA\n",
    "dfs = [(casted_movies_df, \"03/movies\"),\n",
    "       (casted_tags_df, \"03/tags\"),\n",
    "       (casted_ratings_df, \"03/ratings\")]\n",
    "\n",
    "write_tmp_df(dfs)"
   ]
  },
  {
   "cell_type": "code",
   "execution_count": null,
   "id": "e703b46e-e084-436a-b162-7c8cf075fc6c",
   "metadata": {},
   "outputs": [],
   "source": []
  }
 ],
 "metadata": {
  "kernelspec": {
   "display_name": "Python 3 (ipykernel)",
   "language": "python",
   "name": "python3"
  },
  "language_info": {
   "codemirror_mode": {
    "name": "ipython",
    "version": 3
   },
   "file_extension": ".py",
   "mimetype": "text/x-python",
   "name": "python",
   "nbconvert_exporter": "python",
   "pygments_lexer": "ipython3",
   "version": "3.9.13"
  }
 },
 "nbformat": 4,
 "nbformat_minor": 5
}
