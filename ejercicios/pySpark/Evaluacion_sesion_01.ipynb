{
 "cells": [
  {
   "cell_type": "markdown",
   "id": "fc26ebe0-9fe4-49ce-9970-c45aa5c280db",
   "metadata": {},
   "source": [
    "#### Como parte de la primera evaluación necesitamos validar que es posible levantar la sesión de spark dada tu ambientación local, resuelve las siguientes actividades."
   ]
  },
  {
   "cell_type": "markdown",
   "id": "b44da53c-7cfe-45a1-9ee5-735619cbb7ea",
   "metadata": {},
   "source": [
    "#### Actividad 1:\n",
    "##### TO DO: Ejecuta las siguientes celdas"
   ]
  },
  {
   "cell_type": "code",
   "execution_count": null,
   "id": "71db4bec-ce2a-4b44-98d0-4fbdab40ff18",
   "metadata": {},
   "outputs": [],
   "source": [
    "from pyspark.sql import SparkSession\n",
    "\n",
    "## Coloca tu nombre completo en la variable\n",
    "nombre_completo = \"Fulanito Apellido_1 Apellido_2\"\n",
    "\n",
    "spark = SparkSession.builder \\\n",
    "    .master(\"local[*]\") \\\n",
    "    .appName(nombre_completo) \\\n",
    "    .getOrCreate()"
   ]
  },
  {
   "cell_type": "code",
   "execution_count": null,
   "id": "478e469b-e86c-4cdc-849b-82cc1a677160",
   "metadata": {},
   "outputs": [],
   "source": [
    "# 1- Toma una captura del \"Spark UI\"\n",
    "# 2- Almacena la imagen en la carpeta \"../../resources/img/\" con el nombre \"Sesion01.jpg\"\n",
    "spark"
   ]
  },
  {
   "cell_type": "code",
   "execution_count": null,
   "id": "8b7ab2d6-dc86-4723-984c-22fd645263b2",
   "metadata": {},
   "outputs": [],
   "source": [
    "# Ejecuta la siguiente celda que contiene \"![title](../../resources/img/Sesion01.jpg)\": \n",
    "# Guarda el notebook y sube los cambios a git"
   ]
  },
  {
   "cell_type": "markdown",
   "id": "52ffc09d-3e18-4206-9cf6-42e6777764a4",
   "metadata": {},
   "source": [
    "![title](../resources/img/Sesion01.jpg)"
   ]
  },
  {
   "cell_type": "code",
   "execution_count": null,
   "id": "01f11655-7ae2-4d33-af8c-c2068a356e74",
   "metadata": {},
   "outputs": [],
   "source": []
  }
 ],
 "metadata": {
  "kernelspec": {
   "display_name": "Python 3 (ipykernel)",
   "language": "python",
   "name": "python3"
  },
  "language_info": {
   "codemirror_mode": {
    "name": "ipython",
    "version": 3
   },
   "file_extension": ".py",
   "mimetype": "text/x-python",
   "name": "python",
   "nbconvert_exporter": "python",
   "pygments_lexer": "ipython3",
   "version": "3.9.13"
  }
 },
 "nbformat": 4,
 "nbformat_minor": 5
}
